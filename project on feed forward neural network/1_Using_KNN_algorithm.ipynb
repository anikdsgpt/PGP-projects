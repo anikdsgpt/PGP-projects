{
 "cells": [
  {
   "cell_type": "code",
   "execution_count": 1,
   "metadata": {},
   "outputs": [],
   "source": [
    "import pandas as pd"
   ]
  },
  {
   "cell_type": "code",
   "execution_count": 2,
   "metadata": {},
   "outputs": [],
   "source": [
    "import h5py"
   ]
  },
  {
   "cell_type": "code",
   "execution_count": 3,
   "metadata": {},
   "outputs": [
    {
     "name": "stdout",
     "output_type": "stream",
     "text": [
      "Keys: <KeysViewHDF5 ['X_test', 'X_train', 'X_val', 'y_test', 'y_train', 'y_val']>\n"
     ]
    }
   ],
   "source": [
    "filename = 'SVHN_single_grey1.h5'\n",
    "h5f = h5py.File(filename, 'r')\n",
    "print(\"Keys: %s\" % h5f.keys())\n"
   ]
  },
  {
   "cell_type": "code",
   "execution_count": 4,
   "metadata": {},
   "outputs": [],
   "source": [
    "#Load the training and test set|\n",
    "\n",
    "X_train = h5f['X_train'][:]\n",
    "y_train = h5f['y_train'][:]\n",
    "X_test = h5f['X_test'][:]\n",
    "y_test = h5f['y_test'][:]\n",
    "X_val=h5f['X_val'][:]\n",
    "y_val=h5f['y_val'][:]"
   ]
  },
  {
   "cell_type": "code",
   "execution_count": 5,
   "metadata": {},
   "outputs": [],
   "source": [
    "# Reshaping the dataset\n",
    "X_train = X_train.reshape(X_train.shape[0],1024)\n",
    "X_test = X_test.reshape(X_test.shape[0],1024)\n",
    "X_val = X_val.reshape(X_val.shape[0],1024)"
   ]
  },
  {
   "cell_type": "code",
   "execution_count": 6,
   "metadata": {},
   "outputs": [],
   "source": [
    "# normalising inputs from 0-255 to 0-1\n",
    "X_train = X_train/255.0\n",
    "X_test = X_test/255.0\n",
    "X_val = X_val/255.0"
   ]
  },
  {
   "cell_type": "code",
   "execution_count": 7,
   "metadata": {},
   "outputs": [],
   "source": [
    "from sklearn.model_selection import train_test_split\n",
    "from sklearn.neighbors import KNeighborsClassifier\n",
    "from sklearn.metrics import confusion_matrix\n",
    "from sklearn.metrics import classification_report\n",
    "from sklearn import datasets\n",
    "from skimage import exposure\n",
    "import numpy as np\n",
    "#import imutils\n",
    "# import cv2\n",
    "import matplotlib.pyplot as plt\n",
    "# calculate accuracy measures and confusion matrix\n",
    "from sklearn import metrics\n",
    "from sklearn.model_selection import GridSearchCV"
   ]
  },
  {
   "cell_type": "code",
   "execution_count": 8,
   "metadata": {},
   "outputs": [
    {
     "name": "stdout",
     "output_type": "stream",
     "text": [
      "training data points: 42000\n",
      "validation data points: 60000\n",
      "testing data points: 18000\n"
     ]
    }
   ],
   "source": [
    "# show the sizes of each data split\n",
    "\n",
    "print(\"training data points: {}\".format(len(y_train)))\n",
    "print(\"validation data points: {}\".format(len(y_val)))\n",
    "print(\"testing data points: {}\".format(len(y_test)))"
   ]
  },
  {
   "cell_type": "code",
   "execution_count": 9,
   "metadata": {},
   "outputs": [
    {
     "name": "stdout",
     "output_type": "stream",
     "text": [
      "n_neighbors:  5\n",
      "Classification report\n",
      "              precision    recall  f1-score   support\n",
      "\n",
      "           0       0.38      0.66      0.48      1814\n",
      "           1       0.44      0.70      0.54      1828\n",
      "           2       0.55      0.52      0.53      1803\n",
      "           3       0.42      0.39      0.41      1719\n",
      "           4       0.67      0.61      0.64      1812\n",
      "           5       0.48      0.36      0.41      1768\n",
      "           6       0.47      0.38      0.42      1832\n",
      "           7       0.72      0.58      0.64      1808\n",
      "           8       0.42      0.33      0.37      1812\n",
      "           9       0.52      0.36      0.43      1804\n",
      "\n",
      "   micro avg       0.49      0.49      0.49     18000\n",
      "   macro avg       0.51      0.49      0.49     18000\n",
      "weighted avg       0.51      0.49      0.49     18000\n",
      "\n",
      "Confusion matrix\n",
      "[[1201   60   44   37   45   45  129   31  109  113]\n",
      " [ 125 1285   83   81   84   36   36   58   18   22]\n",
      " [ 126  252  932  115   44   44   28  128   69   65]\n",
      " [ 164  255  166  677   54  157   36   46   92   72]\n",
      " [ 148  256   47   61 1101   30   64   17   48   40]\n",
      " [ 196  179   91  261   43  637  130   31  114   86]\n",
      " [ 370  120   50   70  116  154  695   16  188   53]\n",
      " [ 135  254  138   78   23   26   26 1045   28   55]\n",
      " [ 330  140   71  118   84  109  256   20  592   92]\n",
      " [ 382  145   83  106   51   89   86   61  143  658]]\n",
      "Overall score  0.49016666666666664\n",
      "--------------------\n"
     ]
    }
   ],
   "source": [
    "# choosing different k value\n",
    "k=5\n",
    "print(\"n_neighbors: \",k)\n",
    "NNH = KNeighborsClassifier(n_neighbors= k )\n",
    "NNH.fit(X_train, y_train)\n",
    "\n",
    "#Prediction on test set\n",
    "predicted_labels = NNH.predict(X_test)\n",
    "\n",
    "# Accuracy on test set\n",
    "accuracy =  NNH.score(X_test, y_test)\n",
    "expected=y_test\n",
    "print(\"Classification report\")\n",
    "print(metrics.classification_report(expected, predicted_labels))\n",
    "print(\"Confusion matrix\")\n",
    "print(metrics.confusion_matrix(expected, predicted_labels))\n",
    "print(\"Overall score \",accuracy)\n",
    "print(\"--------------------\")"
   ]
  },
  {
   "cell_type": "code",
   "execution_count": 10,
   "metadata": {},
   "outputs": [
    {
     "name": "stdout",
     "output_type": "stream",
     "text": [
      "n_neighbors:  10\n",
      "Classification report\n",
      "              precision    recall  f1-score   support\n",
      "\n",
      "           0       0.43      0.68      0.53      1814\n",
      "           1       0.46      0.74      0.56      1828\n",
      "           2       0.58      0.55      0.57      1803\n",
      "           3       0.42      0.42      0.42      1719\n",
      "           4       0.65      0.64      0.64      1812\n",
      "           5       0.49      0.38      0.43      1768\n",
      "           6       0.49      0.41      0.45      1832\n",
      "           7       0.73      0.60      0.66      1808\n",
      "           8       0.46      0.35      0.40      1812\n",
      "           9       0.56      0.40      0.46      1804\n",
      "\n",
      "   micro avg       0.52      0.52      0.52     18000\n",
      "   macro avg       0.53      0.52      0.51     18000\n",
      "weighted avg       0.53      0.52      0.51     18000\n",
      "\n",
      "Confusion matrix\n",
      "[[1240   62   47   38   47   46  111   26   91  106]\n",
      " [  94 1344   64   85   79   39   31   41   21   30]\n",
      " [ 110  236  991  113   45   31   30  133   46   68]\n",
      " [ 134  265  145  719   46  161   48   53   90   58]\n",
      " [ 119  246   57   58 1154   26   57   15   39   41]\n",
      " [ 160  173   69  288   71  671  135   23  107   71]\n",
      " [ 304  118   44   75  132  137  743   23  201   55]\n",
      " [ 102  239  134   83   32   29   30 1090   28   41]\n",
      " [ 257  124   72  132   93  124  254   22  636   98]\n",
      " [ 343  144   73  107   74   94   63   65  126  715]]\n",
      "Overall score  0.5168333333333334\n",
      "--------------------\n"
     ]
    }
   ],
   "source": [
    "# choosing different k value\n",
    "k=10\n",
    "print(\"n_neighbors: \",k)\n",
    "NNH = KNeighborsClassifier(n_neighbors= k )\n",
    "NNH.fit(X_train, y_train)\n",
    "\n",
    "#Prediction on test set\n",
    "predicted_labels = NNH.predict(X_test)\n",
    "\n",
    "# Accuracy on test set\n",
    "accuracy =  NNH.score(X_test, y_test)\n",
    "expected=y_test\n",
    "print(\"Classification report\")\n",
    "print(metrics.classification_report(expected, predicted_labels))\n",
    "print(\"Confusion matrix\")\n",
    "print(metrics.confusion_matrix(expected, predicted_labels))\n",
    "print(\"Overall score \",accuracy)\n",
    "print(\"--------------------\")"
   ]
  },
  {
   "cell_type": "code",
   "execution_count": 11,
   "metadata": {},
   "outputs": [
    {
     "name": "stdout",
     "output_type": "stream",
     "text": [
      "n_neighbors:  15\n",
      "Classification report\n",
      "              precision    recall  f1-score   support\n",
      "\n",
      "           0       0.43      0.68      0.53      1814\n",
      "           1       0.46      0.73      0.57      1828\n",
      "           2       0.61      0.55      0.58      1803\n",
      "           3       0.44      0.43      0.43      1719\n",
      "           4       0.66      0.65      0.66      1812\n",
      "           5       0.50      0.39      0.44      1768\n",
      "           6       0.49      0.40      0.44      1832\n",
      "           7       0.71      0.62      0.66      1808\n",
      "           8       0.46      0.36      0.41      1812\n",
      "           9       0.56      0.42      0.48      1804\n",
      "\n",
      "   micro avg       0.52      0.52      0.52     18000\n",
      "   macro avg       0.53      0.52      0.52     18000\n",
      "weighted avg       0.53      0.52      0.52     18000\n",
      "\n",
      "Confusion matrix\n",
      "[[1233   68   39   39   51   46  113   37   86  102]\n",
      " [  95 1335   70   83   75   34   32   51   21   32]\n",
      " [ 100  215  992  107   55   30   37  138   54   75]\n",
      " [ 136  251  136  734   50  160   42   54   98   58]\n",
      " [ 117  247   41   60 1182   14   54   17   34   46]\n",
      " [ 163  164   62  268   63  683  156   31  114   64]\n",
      " [ 318  122   38   72  129  128  741   23  210   51]\n",
      " [  98  227  116   84   26   35   35 1116   30   41]\n",
      " [ 249  115   62  119  100  120  253   28  655  111]\n",
      " [ 335  137   70   92   65  108   56   69  119  753]]\n",
      "Overall score  0.5235555555555556\n",
      "--------------------\n"
     ]
    }
   ],
   "source": [
    "# choosing different k value\n",
    "k=15\n",
    "print(\"n_neighbors: \",k)\n",
    "NNH = KNeighborsClassifier(n_neighbors= k )\n",
    "NNH.fit(X_train, y_train)\n",
    "\n",
    "#Prediction on test set\n",
    "predicted_labels = NNH.predict(X_test)\n",
    "\n",
    "# Accuracy on test set\n",
    "accuracy =  NNH.score(X_test, y_test)\n",
    "expected=y_test\n",
    "print(\"Classification report\")\n",
    "print(metrics.classification_report(expected, predicted_labels))\n",
    "print(\"Confusion matrix\")\n",
    "print(metrics.confusion_matrix(expected, predicted_labels))\n",
    "print(\"Overall score \",accuracy)\n",
    "print(\"--------------------\")"
   ]
  },
  {
   "cell_type": "code",
   "execution_count": 12,
   "metadata": {},
   "outputs": [
    {
     "name": "stdout",
     "output_type": "stream",
     "text": [
      "n_neighbors:  20\n",
      "Classification report\n",
      "              precision    recall  f1-score   support\n",
      "\n",
      "           0       0.44      0.70      0.54      1814\n",
      "           1       0.46      0.73      0.56      1828\n",
      "           2       0.62      0.54      0.58      1803\n",
      "           3       0.45      0.42      0.44      1719\n",
      "           4       0.64      0.65      0.65      1812\n",
      "           5       0.52      0.39      0.45      1768\n",
      "           6       0.51      0.41      0.46      1832\n",
      "           7       0.71      0.63      0.67      1808\n",
      "           8       0.48      0.37      0.42      1812\n",
      "           9       0.56      0.42      0.48      1804\n",
      "\n",
      "   micro avg       0.53      0.53      0.53     18000\n",
      "   macro avg       0.54      0.53      0.52     18000\n",
      "weighted avg       0.54      0.53      0.52     18000\n",
      "\n",
      "Confusion matrix\n",
      "[[1263   66   33   35   51   43  111   40   79   93]\n",
      " [  97 1334   60   84   76   27   33   49   32   36]\n",
      " [  95  238  979  102   50   31   32  150   49   77]\n",
      " [ 130  268  138  727   53  164   33   53   90   63]\n",
      " [ 100  249   38   62 1170   21   54   24   40   54]\n",
      " [ 160  164   56  257   69  692  136   37  113   84]\n",
      " [ 307  121   41   70  137  119  759   24  207   47]\n",
      " [ 100  205  107   85   30   34   38 1135   23   51]\n",
      " [ 264  121   61  112  107  111  237   26  675   98]\n",
      " [ 343  143   67   89   71   90   61   65  110  765]]\n",
      "Overall score  0.5277222222222222\n",
      "--------------------\n"
     ]
    }
   ],
   "source": [
    "# choosing different k value\n",
    "k=20\n",
    "print(\"n_neighbors: \",k)\n",
    "NNH = KNeighborsClassifier(n_neighbors= k )\n",
    "NNH.fit(X_train, y_train)\n",
    "\n",
    "#Prediction on test set\n",
    "predicted_labels = NNH.predict(X_test)\n",
    "\n",
    "# Accuracy on test set\n",
    "accuracy =  NNH.score(X_test, y_test)\n",
    "expected=y_test\n",
    "print(\"Classification report\")\n",
    "print(metrics.classification_report(expected, predicted_labels))\n",
    "print(\"Confusion matrix\")\n",
    "print(metrics.confusion_matrix(expected, predicted_labels))\n",
    "print(\"Overall score \",accuracy)\n",
    "print(\"--------------------\")"
   ]
  },
  {
   "cell_type": "code",
   "execution_count": 13,
   "metadata": {},
   "outputs": [
    {
     "name": "stdout",
     "output_type": "stream",
     "text": [
      "n_neighbors:  30\n",
      "Classification report\n",
      "              precision    recall  f1-score   support\n",
      "\n",
      "           0       0.45      0.70      0.55      1814\n",
      "           1       0.46      0.74      0.57      1828\n",
      "           2       0.65      0.53      0.58      1803\n",
      "           3       0.47      0.43      0.45      1719\n",
      "           4       0.64      0.65      0.64      1812\n",
      "           5       0.53      0.41      0.46      1768\n",
      "           6       0.51      0.42      0.46      1832\n",
      "           7       0.70      0.63      0.66      1808\n",
      "           8       0.46      0.36      0.40      1812\n",
      "           9       0.55      0.45      0.49      1804\n",
      "\n",
      "   micro avg       0.53      0.53      0.53     18000\n",
      "   macro avg       0.54      0.53      0.53     18000\n",
      "weighted avg       0.54      0.53      0.53     18000\n",
      "\n",
      "Confusion matrix\n",
      "[[1265   61   31   44   52   34   90   41   74  122]\n",
      " [  91 1360   46   82   70   37   34   46   31   31]\n",
      " [  89  239  964   99   51   41   28  156   47   89]\n",
      " [ 108  270  105  744   54  163   41   62  111   61]\n",
      " [ 115  256   30   53 1174   21   54   25   27   57]\n",
      " [ 145  161   54  242   74  719  137   38  119   79]\n",
      " [ 308  122   30   54  147  126  771   21  199   54]\n",
      " [ 102  207  109   71   40   29   37 1138   27   48]\n",
      " [ 260  136   61  102  102   98  254   28  650  121]\n",
      " [ 304  149   64   77   69   93   55   74  114  805]]\n",
      "Overall score  0.5327777777777778\n",
      "--------------------\n"
     ]
    }
   ],
   "source": [
    "# choosing different k value\n",
    "k=30\n",
    "print(\"n_neighbors: \",k)\n",
    "NNH = KNeighborsClassifier(n_neighbors= k )\n",
    "NNH.fit(X_train, y_train)\n",
    "\n",
    "#Prediction on test set\n",
    "predicted_labels = NNH.predict(X_test)\n",
    "\n",
    "# Accuracy on test set\n",
    "accuracy =  NNH.score(X_test, y_test)\n",
    "expected=y_test\n",
    "print(\"Classification report\")\n",
    "print(metrics.classification_report(expected, predicted_labels))\n",
    "print(\"Confusion matrix\")\n",
    "print(metrics.confusion_matrix(expected, predicted_labels))\n",
    "print(\"Overall score \",accuracy)\n",
    "print(\"--------------------\")"
   ]
  },
  {
   "cell_type": "code",
   "execution_count": 14,
   "metadata": {},
   "outputs": [
    {
     "name": "stdout",
     "output_type": "stream",
     "text": [
      "n_neighbors:  100\n",
      "Classification report\n",
      "              precision    recall  f1-score   support\n",
      "\n",
      "           0       0.43      0.71      0.54      1814\n",
      "           1       0.44      0.73      0.55      1828\n",
      "           2       0.65      0.50      0.57      1803\n",
      "           3       0.50      0.42      0.46      1719\n",
      "           4       0.65      0.64      0.65      1812\n",
      "           5       0.55      0.41      0.47      1768\n",
      "           6       0.54      0.41      0.46      1832\n",
      "           7       0.67      0.62      0.64      1808\n",
      "           8       0.51      0.39      0.45      1812\n",
      "           9       0.55      0.47      0.50      1804\n",
      "\n",
      "   micro avg       0.53      0.53      0.53     18000\n",
      "   macro avg       0.55      0.53      0.53     18000\n",
      "weighted avg       0.55      0.53      0.53     18000\n",
      "\n",
      "Confusion matrix\n",
      "[[1297   85   26   43   48   30   89   40   45  111]\n",
      " [ 117 1331   54   63   69   30   37   62   28   37]\n",
      " [ 103  251  902   75   61   50   30  171   58  102]\n",
      " [ 133  291   92  721   56  146   34   76  103   67]\n",
      " [ 136  247   44   53 1166   22   47   18   31   48]\n",
      " [ 178  175   52  208   54  728  125   52  114   82]\n",
      " [ 366  152   30   53  152   86  746   22  164   61]\n",
      " [ 123  194   97   68   29   36   46 1124   35   56]\n",
      " [ 270  143   47   97  101   97  182   22  713  140]\n",
      " [ 290  168   41   64   64   93   48   97   94  845]]\n",
      "Overall score  0.5318333333333334\n",
      "--------------------\n"
     ]
    }
   ],
   "source": [
    "# choosing different k value\n",
    "k=100\n",
    "print(\"n_neighbors: \",k)\n",
    "NNH = KNeighborsClassifier(n_neighbors= k )\n",
    "NNH.fit(X_train, y_train)\n",
    "\n",
    "#Prediction on test set\n",
    "predicted_labels = NNH.predict(X_test)\n",
    "\n",
    "# Accuracy on test set\n",
    "accuracy =  NNH.score(X_test, y_test)\n",
    "expected=y_test\n",
    "print(\"Classification report\")\n",
    "print(metrics.classification_report(expected, predicted_labels))\n",
    "print(\"Confusion matrix\")\n",
    "print(metrics.confusion_matrix(expected, predicted_labels))\n",
    "print(\"Overall score \",accuracy)\n",
    "print(\"--------------------\")"
   ]
  },
  {
   "cell_type": "markdown",
   "metadata": {},
   "source": [
    "# Conclusion\n",
    "\n",
    "1) We tried to analyse the SVHN_single_grey1 dataset by using our traditional KNN alogritm by using different neighbors(k) values. The findings are listed below:-\n",
    "\n",
    "    k=5, Overall score  0.49016666666666664\n",
    "    \n",
    "    k=10, Overall score  0.5168333333333334\n",
    "    \n",
    "    k=15, Overall score  0.5235555555555556\n",
    "    \n",
    "    k=20, Overall score  0.5277222222222222\n",
    "    \n",
    "    k=30, Overall score  0.5327777777777778\n",
    "    \n",
    "    k=100, Overall score  0.5318333333333334\n",
    "    \n"
   ]
  },
  {
   "cell_type": "code",
   "execution_count": null,
   "metadata": {},
   "outputs": [],
   "source": []
  }
 ],
 "metadata": {
  "kernelspec": {
   "display_name": "Python 3",
   "language": "python",
   "name": "python3"
  },
  "language_info": {
   "codemirror_mode": {
    "name": "ipython",
    "version": 3
   },
   "file_extension": ".py",
   "mimetype": "text/x-python",
   "name": "python",
   "nbconvert_exporter": "python",
   "pygments_lexer": "ipython3",
   "version": "3.7.3"
  }
 },
 "nbformat": 4,
 "nbformat_minor": 2
}
