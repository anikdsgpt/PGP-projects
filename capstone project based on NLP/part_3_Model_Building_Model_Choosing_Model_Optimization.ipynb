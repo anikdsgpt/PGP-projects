{
  "nbformat": 4,
  "nbformat_minor": 0,
  "metadata": {
    "accelerator": "GPU",
    "colab": {
      "name": "part_3_Model_Building_Model_Choosing_Model_Optimization.ipynb",
      "provenance": [],
      "collapsed_sections": [],
      "machine_shape": "hm"
    },
    "kernelspec": {
      "display_name": "Python 3",
      "language": "python",
      "name": "python3"
    },
    "language_info": {
      "codemirror_mode": {
        "name": "ipython",
        "version": 3
      },
      "file_extension": ".py",
      "mimetype": "text/x-python",
      "name": "python",
      "nbconvert_exporter": "python",
      "pygments_lexer": "ipython3",
      "version": "3.7.3"
    }
  },
  "cells": [
    {
      "cell_type": "markdown",
      "metadata": {
        "colab_type": "text",
        "id": "G46nzu05dJa2"
      },
      "source": [
        "## Part 3 - Model Selection and Optimization"
      ]
    },
    {
      "cell_type": "code",
      "metadata": {
        "colab_type": "code",
        "id": "JlxRZHdOlKR3",
        "colab": {}
      },
      "source": [
        "# !pip install tensorflow==1.14.0"
      ],
      "execution_count": 0,
      "outputs": []
    },
    {
      "cell_type": "code",
      "metadata": {
        "colab_type": "code",
        "id": "K_aBBn_iQ70e",
        "outputId": "eabbc5f7-2595-4153-eb9e-aabc99947d58",
        "colab": {
          "base_uri": "https://localhost:8080/",
          "height": 121
        }
      },
      "source": [
        "# Mounting the drive\n",
        "from google.colab import drive\n",
        "drive.mount('/content/drive')"
      ],
      "execution_count": 1,
      "outputs": [
        {
          "output_type": "stream",
          "text": [
            "Go to this URL in a browser: https://accounts.google.com/o/oauth2/auth?client_id=947318989803-6bn6qk8qdgf4n4g3pfee6491hc0brc4i.apps.googleusercontent.com&redirect_uri=urn%3aietf%3awg%3aoauth%3a2.0%3aoob&response_type=code&scope=email%20https%3a%2f%2fwww.googleapis.com%2fauth%2fdocs.test%20https%3a%2f%2fwww.googleapis.com%2fauth%2fdrive%20https%3a%2f%2fwww.googleapis.com%2fauth%2fdrive.photos.readonly%20https%3a%2f%2fwww.googleapis.com%2fauth%2fpeopleapi.readonly\n",
            "\n",
            "Enter your authorization code:\n",
            "··········\n",
            "Mounted at /content/drive\n"
          ],
          "name": "stdout"
        }
      ]
    },
    {
      "cell_type": "code",
      "metadata": {
        "colab_type": "code",
        "id": "sgjmeD8-Tff4",
        "outputId": "023812d1-3738-41c8-8dae-543633e9db3b",
        "colab": {
          "base_uri": "https://localhost:8080/",
          "height": 34
        }
      },
      "source": [
        "# Change the current working Directory \n",
        "import os\n",
        "\n",
        "path = '/content/drive/My Drive/Project/NLP'\n",
        "try:   \n",
        "    os.chdir(path)\n",
        "    print(\"Directory changed to Project folder\")\n",
        "except OSError:\n",
        "    print(\"Can't change the Current Working Directory\")  "
      ],
      "execution_count": 2,
      "outputs": [
        {
          "output_type": "stream",
          "text": [
            "Directory changed to Project folder\n"
          ],
          "name": "stdout"
        }
      ]
    },
    {
      "cell_type": "code",
      "metadata": {
        "colab_type": "code",
        "id": "qaj0vvqGTp0G",
        "outputId": "2e959958-e079-4a06-c774-0b315b7a69c0",
        "colab": {
          "base_uri": "https://localhost:8080/",
          "height": 79
        }
      },
      "source": [
        "# Import necessary items\n",
        "import pandas as pd\n",
        "import numpy as np\n",
        "from tensorflow.keras.preprocessing.text import Tokenizer\n",
        "from tensorflow.keras.preprocessing.sequence import pad_sequences\n",
        "from tensorflow.keras.layers import Dense, Input, LSTM, Embedding, Dropout, Activation, Flatten, Bidirectional, GlobalMaxPool1D, SpatialDropout1D, TimeDistributed\n",
        "from tensorflow.keras.models import Model, Sequential\n",
        "from keras.callbacks import EarlyStopping\n",
        "from sklearn.model_selection import train_test_split\n",
        "from sklearn import metrics"
      ],
      "execution_count": 3,
      "outputs": [
        {
          "output_type": "display_data",
          "data": {
            "text/html": [
              "<p style=\"color: red;\">\n",
              "The default version of TensorFlow in Colab will switch to TensorFlow 2.x on the 27th of March, 2020.<br>\n",
              "We recommend you <a href=\"https://www.tensorflow.org/guide/migrate\" target=\"_blank\">upgrade</a> now\n",
              "or ensure your notebook will continue to use TensorFlow 1.x via the <code>%tensorflow_version 1.x</code> magic:\n",
              "<a href=\"https://colab.research.google.com/notebooks/tensorflow_version.ipynb\" target=\"_blank\">more info</a>.</p>\n"
            ],
            "text/plain": [
              "<IPython.core.display.HTML object>"
            ]
          },
          "metadata": {
            "tags": []
          }
        },
        {
          "output_type": "stream",
          "text": [
            "Using TensorFlow backend.\n"
          ],
          "name": "stderr"
        }
      ]
    },
    {
      "cell_type": "code",
      "metadata": {
        "colab_type": "code",
        "id": "pOMxk58XR_cB",
        "colab": {}
      },
      "source": [
        "# Load dataframe from pickled pandas object. This is the english data\n",
        "processedEnglishData= pd.read_pickle('processedEnglishData.pkl')"
      ],
      "execution_count": 0,
      "outputs": []
    },
    {
      "cell_type": "code",
      "metadata": {
        "colab_type": "code",
        "id": "SPt6goGLTkmO",
        "outputId": "2933573b-5cb3-44a0-aa75-71192388384e",
        "colab": {
          "base_uri": "https://localhost:8080/",
          "height": 195
        }
      },
      "source": [
        "processedEnglishData.head()"
      ],
      "execution_count": 0,
      "outputs": [
        {
          "output_type": "execute_result",
          "data": {
            "text/html": [
              "<div>\n",
              "<style scoped>\n",
              "    .dataframe tbody tr th:only-of-type {\n",
              "        vertical-align: middle;\n",
              "    }\n",
              "\n",
              "    .dataframe tbody tr th {\n",
              "        vertical-align: top;\n",
              "    }\n",
              "\n",
              "    .dataframe thead th {\n",
              "        text-align: right;\n",
              "    }\n",
              "</style>\n",
              "<table border=\"1\" class=\"dataframe\">\n",
              "  <thead>\n",
              "    <tr style=\"text-align: right;\">\n",
              "      <th></th>\n",
              "      <th>Caller</th>\n",
              "      <th>Combined description</th>\n",
              "      <th>Assignment group</th>\n",
              "    </tr>\n",
              "  </thead>\n",
              "  <tbody>\n",
              "    <tr>\n",
              "      <th>0</th>\n",
              "      <td>spxjnwir pjlcoqds</td>\n",
              "      <td>login issue verify user detailsemployee manage...</td>\n",
              "      <td>GRP_0</td>\n",
              "    </tr>\n",
              "    <tr>\n",
              "      <th>1</th>\n",
              "      <td>hmjdrvpb komuaywn</td>\n",
              "      <td>outlook hmjdrvpb komuaywn gmail team meetingss...</td>\n",
              "      <td>GRP_0</td>\n",
              "    </tr>\n",
              "    <tr>\n",
              "      <th>2</th>\n",
              "      <td>eylqgodm ybqkwiam</td>\n",
              "      <td>not log vpn eylqgodm ybqkwiam gmail not log vp...</td>\n",
              "      <td>GRP_0</td>\n",
              "    </tr>\n",
              "    <tr>\n",
              "      <th>3</th>\n",
              "      <td>xbkucsvz gcpydteq</td>\n",
              "      <td>unable access hrtool page unable access hrtool...</td>\n",
              "      <td>GRP_0</td>\n",
              "    </tr>\n",
              "    <tr>\n",
              "      <th>4</th>\n",
              "      <td>owlgqjme qhcozdfx</td>\n",
              "      <td>skype error skype error</td>\n",
              "      <td>GRP_0</td>\n",
              "    </tr>\n",
              "  </tbody>\n",
              "</table>\n",
              "</div>"
            ],
            "text/plain": [
              "              Caller  ... Assignment group\n",
              "0  spxjnwir pjlcoqds  ...            GRP_0\n",
              "1  hmjdrvpb komuaywn  ...            GRP_0\n",
              "2  eylqgodm ybqkwiam  ...            GRP_0\n",
              "3  xbkucsvz gcpydteq  ...            GRP_0\n",
              "4  owlgqjme qhcozdfx  ...            GRP_0\n",
              "\n",
              "[5 rows x 3 columns]"
            ]
          },
          "metadata": {
            "tags": []
          },
          "execution_count": 6
        }
      ]
    },
    {
      "cell_type": "code",
      "metadata": {
        "colab_type": "code",
        "id": "O3Xo_oYbTwHd",
        "outputId": "64f6ddf7-0700-40d7-dcde-d59d2ec1ba32",
        "colab": {
          "base_uri": "https://localhost:8080/",
          "height": 34
        }
      },
      "source": [
        "processedEnglishData.shape"
      ],
      "execution_count": 0,
      "outputs": [
        {
          "output_type": "execute_result",
          "data": {
            "text/plain": [
              "(7672, 3)"
            ]
          },
          "metadata": {
            "tags": []
          },
          "execution_count": 7
        }
      ]
    },
    {
      "cell_type": "code",
      "metadata": {
        "colab_type": "code",
        "id": "ULW_0q1XTzIW",
        "colab": {}
      },
      "source": [
        "glove_file = path + \"/Data/glove.6B.zip\""
      ],
      "execution_count": 0,
      "outputs": []
    },
    {
      "cell_type": "code",
      "metadata": {
        "colab_type": "code",
        "id": "KtdRjlXdVAt5",
        "colab": {}
      },
      "source": [
        "#Extract Glove embedding zip file\n",
        "from zipfile import ZipFile\n",
        "with ZipFile(glove_file, 'r') as z:\n",
        "  z.extractall()"
      ],
      "execution_count": 0,
      "outputs": []
    },
    {
      "cell_type": "code",
      "metadata": {
        "colab_type": "code",
        "id": "uXoZl28tVGBV",
        "outputId": "5eb429b1-aa6f-47be-c4f0-9e18c47fe495",
        "colab": {
          "base_uri": "https://localhost:8080/",
          "height": 195
        }
      },
      "source": [
        "# Including a len column to find the maximum length of each cell\n",
        "processedEnglishData['len'] = processedEnglishData['Combined description'].apply(lambda x: len(x.split(\" \")))\n",
        "processedEnglishData.head()"
      ],
      "execution_count": 0,
      "outputs": [
        {
          "output_type": "execute_result",
          "data": {
            "text/html": [
              "<div>\n",
              "<style scoped>\n",
              "    .dataframe tbody tr th:only-of-type {\n",
              "        vertical-align: middle;\n",
              "    }\n",
              "\n",
              "    .dataframe tbody tr th {\n",
              "        vertical-align: top;\n",
              "    }\n",
              "\n",
              "    .dataframe thead th {\n",
              "        text-align: right;\n",
              "    }\n",
              "</style>\n",
              "<table border=\"1\" class=\"dataframe\">\n",
              "  <thead>\n",
              "    <tr style=\"text-align: right;\">\n",
              "      <th></th>\n",
              "      <th>Caller</th>\n",
              "      <th>Combined description</th>\n",
              "      <th>Assignment group</th>\n",
              "      <th>len</th>\n",
              "    </tr>\n",
              "  </thead>\n",
              "  <tbody>\n",
              "    <tr>\n",
              "      <th>0</th>\n",
              "      <td>spxjnwir pjlcoqds</td>\n",
              "      <td>login issue verify user detailsemployee manage...</td>\n",
              "      <td>GRP_0</td>\n",
              "      <td>22</td>\n",
              "    </tr>\n",
              "    <tr>\n",
              "      <th>1</th>\n",
              "      <td>hmjdrvpb komuaywn</td>\n",
              "      <td>outlook hmjdrvpb komuaywn gmail team meetingss...</td>\n",
              "      <td>GRP_0</td>\n",
              "      <td>16</td>\n",
              "    </tr>\n",
              "    <tr>\n",
              "      <th>2</th>\n",
              "      <td>eylqgodm ybqkwiam</td>\n",
              "      <td>not log vpn eylqgodm ybqkwiam gmail not log vp...</td>\n",
              "      <td>GRP_0</td>\n",
              "      <td>10</td>\n",
              "    </tr>\n",
              "    <tr>\n",
              "      <th>3</th>\n",
              "      <td>xbkucsvz gcpydteq</td>\n",
              "      <td>unable access hrtool page unable access hrtool...</td>\n",
              "      <td>GRP_0</td>\n",
              "      <td>8</td>\n",
              "    </tr>\n",
              "    <tr>\n",
              "      <th>4</th>\n",
              "      <td>owlgqjme qhcozdfx</td>\n",
              "      <td>skype error skype error</td>\n",
              "      <td>GRP_0</td>\n",
              "      <td>4</td>\n",
              "    </tr>\n",
              "  </tbody>\n",
              "</table>\n",
              "</div>"
            ],
            "text/plain": [
              "              Caller  ... len\n",
              "0  spxjnwir pjlcoqds  ...  22\n",
              "1  hmjdrvpb komuaywn  ...  16\n",
              "2  eylqgodm ybqkwiam  ...  10\n",
              "3  xbkucsvz gcpydteq  ...   8\n",
              "4  owlgqjme qhcozdfx  ...   4\n",
              "\n",
              "[5 rows x 4 columns]"
            ]
          },
          "metadata": {
            "tags": []
          },
          "execution_count": 10
        }
      ]
    },
    {
      "cell_type": "code",
      "metadata": {
        "colab_type": "code",
        "id": "wvUVd-utWSas",
        "outputId": "2cea170f-c31f-4910-98b7-fa9bf71d6586",
        "colab": {
          "base_uri": "https://localhost:8080/",
          "height": 34
        }
      },
      "source": [
        "maxlen=max(processedEnglishData['len'])\n",
        "print(maxlen)"
      ],
      "execution_count": 0,
      "outputs": [
        {
          "output_type": "stream",
          "text": [
            "926\n"
          ],
          "name": "stdout"
        }
      ]
    },
    {
      "cell_type": "code",
      "metadata": {
        "colab_type": "code",
        "id": "KgYeJ3C-Wpj0",
        "colab": {}
      },
      "source": [
        "max_features = 50000\n",
        "maxlen = maxlen\n",
        "embedding_size = 200"
      ],
      "execution_count": 0,
      "outputs": []
    },
    {
      "cell_type": "code",
      "metadata": {
        "colab_type": "code",
        "id": "FbkwV4NQWyQc",
        "colab": {}
      },
      "source": [
        "tokenizer = Tokenizer(num_words=max_features, filters='!\"#$%&()*+,-./:;<=>?@[\\]^_`{|}~', lower=True)\n",
        "tokenizer.fit_on_texts(processedEnglishData['Combined description'].values)"
      ],
      "execution_count": 0,
      "outputs": []
    },
    {
      "cell_type": "code",
      "metadata": {
        "colab_type": "code",
        "id": "lM40MmCDXJHM",
        "outputId": "f256b177-63de-4e3b-f79a-dc5d13bc3be2",
        "colab": {
          "base_uri": "https://localhost:8080/",
          "height": 34
        }
      },
      "source": [
        "X = tokenizer.texts_to_sequences(processedEnglishData['Combined description'].values)\n",
        "X = pad_sequences(X, maxlen=maxlen)\n",
        "print('Shape of data tensor:', X.shape)"
      ],
      "execution_count": 0,
      "outputs": [
        {
          "output_type": "stream",
          "text": [
            "Shape of data tensor: (7672, 926)\n"
          ],
          "name": "stdout"
        }
      ]
    },
    {
      "cell_type": "code",
      "metadata": {
        "colab_type": "code",
        "id": "EuKFvrdxXavs",
        "outputId": "bbb4d7e9-598c-4adc-d10b-2c329137c6f8",
        "colab": {
          "base_uri": "https://localhost:8080/",
          "height": 34
        }
      },
      "source": [
        "Y = pd.get_dummies(processedEnglishData['Assignment group']).values\n",
        "print('Shape of label tensor:', Y.shape)"
      ],
      "execution_count": 0,
      "outputs": [
        {
          "output_type": "stream",
          "text": [
            "Shape of label tensor: (7672, 74)\n"
          ],
          "name": "stdout"
        }
      ]
    },
    {
      "cell_type": "code",
      "metadata": {
        "colab_type": "code",
        "id": "EpqTTVVSXerU",
        "outputId": "6201aea0-fe67-49f1-ce68-47c1d83f6e5e",
        "colab": {
          "base_uri": "https://localhost:8080/",
          "height": 890
        }
      },
      "source": [
        "print(X[0])"
      ],
      "execution_count": 0,
      "outputs": [
        {
          "output_type": "stream",
          "text": [
            "[  0   0   0   0   0   0   0   0   0   0   0   0   0   0   0   0   0   0\n",
            "   0   0   0   0   0   0   0   0   0   0   0   0   0   0   0   0   0   0\n",
            "   0   0   0   0   0   0   0   0   0   0   0   0   0   0   0   0   0   0\n",
            "   0   0   0   0   0   0   0   0   0   0   0   0   0   0   0   0   0   0\n",
            "   0   0   0   0   0   0   0   0   0   0   0   0   0   0   0   0   0   0\n",
            "   0   0   0   0   0   0   0   0   0   0   0   0   0   0   0   0   0   0\n",
            "   0   0   0   0   0   0   0   0   0   0   0   0   0   0   0   0   0   0\n",
            "   0   0   0   0   0   0   0   0   0   0   0   0   0   0   0   0   0   0\n",
            "   0   0   0   0   0   0   0   0   0   0   0   0   0   0   0   0   0   0\n",
            "   0   0   0   0   0   0   0   0   0   0   0   0   0   0   0   0   0   0\n",
            "   0   0   0   0   0   0   0   0   0   0   0   0   0   0   0   0   0   0\n",
            "   0   0   0   0   0   0   0   0   0   0   0   0   0   0   0   0   0   0\n",
            "   0   0   0   0   0   0   0   0   0   0   0   0   0   0   0   0   0   0\n",
            "   0   0   0   0   0   0   0   0   0   0   0   0   0   0   0   0   0   0\n",
            "   0   0   0   0   0   0   0   0   0   0   0   0   0   0   0   0   0   0\n",
            "   0   0   0   0   0   0   0   0   0   0   0   0   0   0   0   0   0   0\n",
            "   0   0   0   0   0   0   0   0   0   0   0   0   0   0   0   0   0   0\n",
            "   0   0   0   0   0   0   0   0   0   0   0   0   0   0   0   0   0   0\n",
            "   0   0   0   0   0   0   0   0   0   0   0   0   0   0   0   0   0   0\n",
            "   0   0   0   0   0   0   0   0   0   0   0   0   0   0   0   0   0   0\n",
            "   0   0   0   0   0   0   0   0   0   0   0   0   0   0   0   0   0   0\n",
            "   0   0   0   0   0   0   0   0   0   0   0   0   0   0   0   0   0   0\n",
            "   0   0   0   0   0   0   0   0   0   0   0   0   0   0   0   0   0   0\n",
            "   0   0   0   0   0   0   0   0   0   0   0   0   0   0   0   0   0   0\n",
            "   0   0   0   0   0   0   0   0   0   0   0   0   0   0   0   0   0   0\n",
            "   0   0   0   0   0   0   0   0   0   0   0   0   0   0   0   0   0   0\n",
            "   0   0   0   0   0   0   0   0   0   0   0   0   0   0   0   0   0   0\n",
            "   0   0   0   0   0   0   0   0   0   0   0   0   0   0   0   0   0   0\n",
            "   0   0   0   0   0   0   0   0   0   0   0   0   0   0   0   0   0   0\n",
            "   0   0   0   0   0   0   0   0   0   0   0   0   0   0   0   0   0   0\n",
            "   0   0   0   0   0   0   0   0   0   0   0   0   0   0   0   0   0   0\n",
            "   0   0   0   0   0   0   0   0   0   0   0   0   0   0   0   0   0   0\n",
            "   0   0   0   0   0   0   0   0   0   0   0   0   0   0   0   0   0   0\n",
            "   0   0   0   0   0   0   0   0   0   0   0   0   0   0   0   0   0   0\n",
            "   0   0   0   0   0   0   0   0   0   0   0   0   0   0   0   0   0   0\n",
            "   0   0   0   0   0   0   0   0   0   0   0   0   0   0   0   0   0   0\n",
            "   0   0   0   0   0   0   0   0   0   0   0   0   0   0   0   0   0   0\n",
            "   0   0   0   0   0   0   0   0   0   0   0   0   0   0   0   0   0   0\n",
            "   0   0   0   0   0   0   0   0   0   0   0   0   0   0   0   0   0   0\n",
            "   0   0   0   0   0   0   0   0   0   0   0   0   0   0   0   0   0   0\n",
            "   0   0   0   0   0   0   0   0   0   0   0   0   0   0   0   0   0   0\n",
            "   0   0   0   0   0   0   0   0   0   0   0   0   0   0   0   0   0   0\n",
            "   0   0   0   0   0   0   0   0   0   0   0   0   0   0   0   0   0   0\n",
            "   0   0   0   0   0   0   0   0   0   0   0   0   0   0   0   0   0   0\n",
            "   0   0   0   0   0   0   0   0   0   0   0   0   0   0   0   0   0   0\n",
            "   0   0   0   0   0   0   0   0   0   0   0   0   0   0   0   0   0   0\n",
            "   0   0   0   0   0   0   0   0   0   0   0   0   0   0   0   0   0   0\n",
            "   0   0   0   0   0   0   0   0   0   0   0   0   0   0   0   0   0   0\n",
            "   0   0   0   0   0   0   0   0   0   0   0   0   0   0   0   0   0   0\n",
            "   0   0   0   0   0   0   0   0   0   0   0   0   0   0   0   0   0   0\n",
            "   0   0   0   0  22  12 121  11 537  82  54  52  11  54 134  13   3 194\n",
            "  11  22  52 281 150  22  12 112]\n"
          ],
          "name": "stdout"
        }
      ]
    },
    {
      "cell_type": "code",
      "metadata": {
        "colab_type": "code",
        "id": "8g-zZKrbX1Pk",
        "outputId": "b42b32a2-1aab-4387-a2bc-b7d51bf63140",
        "colab": {
          "base_uri": "https://localhost:8080/",
          "height": 50
        }
      },
      "source": [
        "print(Y[0])"
      ],
      "execution_count": 0,
      "outputs": [
        {
          "output_type": "stream",
          "text": [
            "[1 0 0 0 0 0 0 0 0 0 0 0 0 0 0 0 0 0 0 0 0 0 0 0 0 0 0 0 0 0 0 0 0 0 0 0 0\n",
            " 0 0 0 0 0 0 0 0 0 0 0 0 0 0 0 0 0 0 0 0 0 0 0 0 0 0 0 0 0 0 0 0 0 0 0 0 0]\n"
          ],
          "name": "stdout"
        }
      ]
    },
    {
      "cell_type": "code",
      "metadata": {
        "colab_type": "code",
        "id": "wcITJ9OiX3-k",
        "outputId": "1fe46994-f058-4afe-faa0-35747c5b2ef2",
        "colab": {
          "base_uri": "https://localhost:8080/",
          "height": 34
        }
      },
      "source": [
        "## Get the Vocabulary size\n",
        "num_words = len(tokenizer.word_index) + 1\n",
        "print(num_words)"
      ],
      "execution_count": 0,
      "outputs": [
        {
          "output_type": "stream",
          "text": [
            "12959\n"
          ],
          "name": "stdout"
        }
      ]
    },
    {
      "cell_type": "code",
      "metadata": {
        "colab_type": "code",
        "id": "aSyiBHBRYYW0",
        "colab": {}
      },
      "source": [
        "# Get the Word Embeddings using Embedding file\n",
        "EMBEDDING_FILE = './glove.6B.200d.txt'\n",
        "\n",
        "embeddings = {}\n",
        "for o in open(EMBEDDING_FILE):\n",
        "    word = o.split(\" \")[0]\n",
        "    # print(word)\n",
        "    embd = o.split(\" \")[1:]\n",
        "    embd = np.asarray(embd, dtype='float32')\n",
        "    # print(embd)\n",
        "    embeddings[word] = embd\n",
        "\n"
      ],
      "execution_count": 0,
      "outputs": []
    },
    {
      "cell_type": "code",
      "metadata": {
        "colab_type": "code",
        "id": "Tutbnj39YrPr",
        "outputId": "4f0a6ec1-9413-4bae-a750-63594b00ff22",
        "colab": {
          "base_uri": "https://localhost:8080/",
          "height": 34
        }
      },
      "source": [
        "# Create a weight matrix for words in training docs\n",
        "embedding_matrix = np.zeros((num_words, embedding_size))\n",
        "\n",
        "for word, i in tokenizer.word_index.items():\n",
        "    embedding_vector = embeddings.get(word)\n",
        "    if embedding_vector is not None:\n",
        "        embedding_matrix[i] = embedding_vector\n",
        "\n",
        "len(embeddings.values())"
      ],
      "execution_count": 0,
      "outputs": [
        {
          "output_type": "execute_result",
          "data": {
            "text/plain": [
              "400000"
            ]
          },
          "metadata": {
            "tags": []
          },
          "execution_count": 20
        }
      ]
    },
    {
      "cell_type": "code",
      "metadata": {
        "colab_type": "code",
        "id": "clfsIs1XOS2H",
        "outputId": "45ab2569-58e1-4df2-b876-0c2ce16e5e32",
        "colab": {
          "base_uri": "https://localhost:8080/",
          "height": 50
        }
      },
      "source": [
        "# Splitting the dataset into train and test set.\n",
        "X_train, X_test, Y_train, Y_test = train_test_split(X,Y, test_size = 0.10, random_state = 42)\n",
        "print(X_train.shape,Y_train.shape)\n",
        "print(X_test.shape,Y_test.shape)"
      ],
      "execution_count": 0,
      "outputs": [
        {
          "output_type": "stream",
          "text": [
            "(6904, 926) (6904, 74)\n",
            "(768, 926) (768, 74)\n"
          ],
          "name": "stdout"
        }
      ]
    },
    {
      "cell_type": "code",
      "metadata": {
        "colab_type": "code",
        "id": "zGVLfxweeGjl",
        "colab": {}
      },
      "source": [
        "# precision and recall functions definition to be used alongwith the accuracy in the metrics\n",
        "import keras.backend as K\n",
        "def precision(y_true, y_pred): \n",
        "    true_positives = K.sum(K.round(K.clip(y_true * y_pred, 0, 1)))\n",
        "    predicted_positives = K.sum(K.round(K.clip(y_pred, 0, 1)))\n",
        "    precision = true_positives / (predicted_positives + K.epsilon())\n",
        "    return precision\n",
        "def recall(y_true, y_pred):\n",
        "    true_positives = K.sum(K.round(K.clip(y_true * y_pred, 0, 1)))\n",
        "    possible_positives = K.sum(K.round(K.clip(y_true, 0, 1)))\n",
        "    recall = true_positives / (possible_positives + K.epsilon())\n",
        "    return recall"
      ],
      "execution_count": 0,
      "outputs": []
    },
    {
      "cell_type": "markdown",
      "metadata": {
        "id": "xl0MGzC69E_e",
        "colab_type": "text"
      },
      "source": [
        "## Model - Simple LSTM with 200D glove embeddings, 7672 records"
      ]
    },
    {
      "cell_type": "code",
      "metadata": {
        "colab_type": "code",
        "id": "8kHqwExvY5Pj",
        "outputId": "8b6fa99b-af34-4558-89e3-8d6d3f4f070a",
        "colab": {
          "base_uri": "https://localhost:8080/",
          "height": 138
        }
      },
      "source": [
        "# Running a simple LSTM model\n",
        "model_emb_lstm = Sequential()\n",
        "model_emb_lstm.add(Embedding(num_words, embedding_size,weights = [embedding_matrix]))\n",
        "model_emb_lstm.add(SpatialDropout1D(0.2))\n",
        "model_emb_lstm.add(LSTM(200, dropout=0.2, recurrent_dropout=0.2))\n",
        "model_emb_lstm.add(Dense(74, activation='softmax'))\n",
        "model_emb_lstm.compile(loss='categorical_crossentropy', optimizer='adam', metrics=['accuracy',precision,recall])"
      ],
      "execution_count": 0,
      "outputs": [
        {
          "output_type": "stream",
          "text": [
            "WARNING:tensorflow:From /tensorflow-1.15.0/python3.6/tensorflow_core/python/keras/initializers.py:119: calling RandomUniform.__init__ (from tensorflow.python.ops.init_ops) with dtype is deprecated and will be removed in a future version.\n",
            "Instructions for updating:\n",
            "Call initializer instance with the dtype argument instead of passing it to the constructor\n",
            "WARNING:tensorflow:From /tensorflow-1.15.0/python3.6/tensorflow_core/python/ops/resource_variable_ops.py:1630: calling BaseResourceVariable.__init__ (from tensorflow.python.ops.resource_variable_ops) with constraint is deprecated and will be removed in a future version.\n",
            "Instructions for updating:\n",
            "If using Keras pass *_constraint arguments to layers.\n"
          ],
          "name": "stdout"
        }
      ]
    },
    {
      "cell_type": "code",
      "metadata": {
        "colab_type": "code",
        "id": "CL_5HvciZEEE",
        "outputId": "e2b60802-6d7c-4657-991e-c1c7916f8381",
        "colab": {
          "base_uri": "https://localhost:8080/",
          "height": 286
        }
      },
      "source": [
        "# Model summmary\n",
        "model_emb_lstm.summary()"
      ],
      "execution_count": 0,
      "outputs": [
        {
          "output_type": "stream",
          "text": [
            "Model: \"sequential\"\n",
            "_________________________________________________________________\n",
            "Layer (type)                 Output Shape              Param #   \n",
            "=================================================================\n",
            "embedding (Embedding)        (None, None, 200)         2591800   \n",
            "_________________________________________________________________\n",
            "spatial_dropout1d (SpatialDr (None, None, 200)         0         \n",
            "_________________________________________________________________\n",
            "lstm (LSTM)                  (None, 200)               320800    \n",
            "_________________________________________________________________\n",
            "dense (Dense)                (None, 74)                14874     \n",
            "=================================================================\n",
            "Total params: 2,927,474\n",
            "Trainable params: 2,927,474\n",
            "Non-trainable params: 0\n",
            "_________________________________________________________________\n"
          ],
          "name": "stdout"
        }
      ]
    },
    {
      "cell_type": "code",
      "metadata": {
        "colab_type": "code",
        "id": "8nrlmiPQZrpe",
        "outputId": "cb62b76d-5b35-4c12-9ddc-c1a9d117235b",
        "colab": {
          "base_uri": "https://localhost:8080/",
          "height": 457
        }
      },
      "source": [
        "# Fitting the model\n",
        "import time\n",
        "batch_size = 256\n",
        "epochs = 10\n",
        "\n",
        "start = time.clock()\n",
        "history_emb_lstm = model_emb_lstm.fit(X_train, Y_train, epochs=epochs, batch_size=batch_size,validation_split=0.1,callbacks=[EarlyStopping(monitor='val_loss', patience=3, min_delta=0.0001)])\n",
        "end  = time.clock()\n",
        "print('Duration taken: ',end-start,' secs')"
      ],
      "execution_count": 0,
      "outputs": [
        {
          "output_type": "stream",
          "text": [
            "WARNING:tensorflow:From /tensorflow-1.15.0/python3.6/tensorflow_core/python/ops/math_grad.py:1424: where (from tensorflow.python.ops.array_ops) is deprecated and will be removed in a future version.\n",
            "Instructions for updating:\n",
            "Use tf.where in 2.0, which has the same broadcast rule as np.where\n",
            "Train on 6213 samples, validate on 691 samples\n",
            "Epoch 1/10\n",
            "6213/6213 [==============================] - 53s 9ms/sample - loss: 2.8478 - acc: 0.4779 - precision: 0.5079 - recall: 0.2164 - val_loss: 2.1913 - val_acc: 0.5166 - val_precision: 0.6146 - val_recall: 0.4775\n",
            "Epoch 2/10\n",
            "6213/6213 [==============================] - 52s 8ms/sample - loss: 2.0420 - acc: 0.5632 - precision: 0.7271 - recall: 0.4190 - val_loss: 1.8647 - val_acc: 0.5702 - val_precision: 0.7413 - val_recall: 0.4684\n",
            "Epoch 3/10\n",
            "6213/6213 [==============================] - 53s 8ms/sample - loss: 1.7950 - acc: 0.5921 - precision: 0.7710 - recall: 0.4514 - val_loss: 1.7099 - val_acc: 0.5847 - val_precision: 0.7741 - val_recall: 0.4864\n",
            "Epoch 4/10\n",
            "6213/6213 [==============================] - 51s 8ms/sample - loss: 1.6459 - acc: 0.6026 - precision: 0.7964 - recall: 0.4735 - val_loss: 1.6297 - val_acc: 0.5948 - val_precision: 0.7475 - val_recall: 0.5071\n",
            "Epoch 5/10\n",
            "6213/6213 [==============================] - 54s 9ms/sample - loss: 1.5349 - acc: 0.6189 - precision: 0.8157 - recall: 0.5035 - val_loss: 1.5356 - val_acc: 0.6078 - val_precision: 0.7515 - val_recall: 0.5246\n",
            "Epoch 6/10\n",
            "6213/6213 [==============================] - 53s 9ms/sample - loss: 1.4313 - acc: 0.6345 - precision: 0.8344 - recall: 0.5109 - val_loss: 1.4777 - val_acc: 0.6237 - val_precision: 0.8153 - val_recall: 0.5106\n",
            "Epoch 7/10\n",
            "6213/6213 [==============================] - 53s 9ms/sample - loss: 1.3538 - acc: 0.6514 - precision: 0.8499 - recall: 0.5231 - val_loss: 1.4267 - val_acc: 0.6397 - val_precision: 0.8464 - val_recall: 0.5071\n",
            "Epoch 8/10\n",
            "6213/6213 [==============================] - 53s 8ms/sample - loss: 1.2483 - acc: 0.6691 - precision: 0.8587 - recall: 0.5437 - val_loss: 1.3721 - val_acc: 0.6483 - val_precision: 0.8664 - val_recall: 0.5168\n",
            "Epoch 9/10\n",
            "6213/6213 [==============================] - 52s 8ms/sample - loss: 1.1699 - acc: 0.6815 - precision: 0.8717 - recall: 0.5553 - val_loss: 1.3915 - val_acc: 0.6643 - val_precision: 0.7976 - val_recall: 0.5565\n",
            "Epoch 10/10\n",
            "6213/6213 [==============================] - 53s 9ms/sample - loss: 1.0959 - acc: 0.7024 - precision: 0.8772 - recall: 0.5682 - val_loss: 1.3671 - val_acc: 0.6657 - val_precision: 0.7806 - val_recall: 0.5910\n",
            "Duration taken:  844.61006  secs\n"
          ],
          "name": "stdout"
        }
      ]
    },
    {
      "cell_type": "code",
      "metadata": {
        "colab_type": "code",
        "id": "fFpEWXH4B61l",
        "outputId": "554d5781-9606-4c9b-cb76-ad8e20eb901a",
        "colab": {
          "base_uri": "https://localhost:8080/",
          "height": 34
        }
      },
      "source": [
        "# list all data in history\n",
        "print(history_emb_lstm.history.keys())"
      ],
      "execution_count": 0,
      "outputs": [
        {
          "output_type": "stream",
          "text": [
            "dict_keys(['loss', 'acc', 'precision', 'recall', 'val_loss', 'val_acc', 'val_precision', 'val_recall'])\n"
          ],
          "name": "stdout"
        }
      ]
    },
    {
      "cell_type": "code",
      "metadata": {
        "colab_type": "code",
        "id": "LyJcT9n7Co6j",
        "outputId": "7f443938-61b9-4055-dd8f-14c2d5b7cd67",
        "colab": {
          "base_uri": "https://localhost:8080/",
          "height": 1000
        }
      },
      "source": [
        "from matplotlib import pyplot as plt\n",
        "try:\n",
        "  plt.plot(history_emb_lstm.history['accuracy'])\n",
        "  plt.plot(history_emb_lstm.history['val_accuracy'])\n",
        "except:\n",
        "  plt.plot(history_emb_lstm.history['acc'])\n",
        "  plt.plot(history_emb_lstm.history['val_acc'])\n",
        "plt.title('model accuracy')\n",
        "plt.ylabel('accuracy')\n",
        "plt.xlabel('epoch')\n",
        "plt.legend(['train', 'test'], loc='upper left')\n",
        "plt.show()\n",
        "# summarize history for loss\n",
        "plt.plot(history_emb_lstm.history['loss'])\n",
        "plt.plot(history_emb_lstm.history['val_loss'])\n",
        "plt.title('model loss')\n",
        "plt.ylabel('loss')\n",
        "plt.xlabel('epoch')\n",
        "plt.legend(['train', 'test'], loc='upper left')\n",
        "plt.show()\n",
        "# summarize history for mse\n",
        "plt.plot(history_emb_lstm.history['precision'])\n",
        "plt.plot(history_emb_lstm.history['val_precision'])\n",
        "plt.title('model precision')\n",
        "plt.ylabel('precision')\n",
        "plt.xlabel('epoch')\n",
        "plt.legend(['train', 'test'], loc='upper left')\n",
        "plt.show()\n",
        "# summarize history for mae\n",
        "plt.plot(history_emb_lstm.history['recall'])\n",
        "plt.plot(history_emb_lstm.history['val_recall'])\n",
        "plt.title('model recall')\n",
        "plt.ylabel('recall')\n",
        "plt.xlabel('epoch')\n",
        "plt.legend(['train', 'test'], loc='upper left')\n",
        "plt.show()"
      ],
      "execution_count": 0,
      "outputs": [
        {
          "output_type": "display_data",
          "data": {
            "image/png": "[encoded data removed]",
            "text/plain": [
              "<Figure size 432x288 with 1 Axes>"
            ]
          },
          "metadata": {
            "tags": []
          }
        },
        {
          "output_type": "display_data",
          "data": {
            "image/png": "[encoded data removed]",
            "text/plain": [
              "<Figure size 432x288 with 1 Axes>"
            ]
          },
          "metadata": {
            "tags": []
          }
        },
        {
          "output_type": "display_data",
          "data": {
            "image/png": "[encoded data removed]",
            "text/plain": [
              "<Figure size 432x288 with 1 Axes>"
            ]
          },
          "metadata": {
            "tags": []
          }
        },
        {
          "output_type": "display_data",
          "data": {
            "image/png": "[encoded data removed]",
            "text/plain": [
              "<Figure size 432x288 with 1 Axes>"
            ]
          },
          "metadata": {
            "tags": []
          }
        }
      ]
    },
    {
      "cell_type": "code",
      "metadata": {
        "colab_type": "code",
        "id": "AJQpfkj9Csrb",
        "outputId": "f7d91a68-c1b1-48ed-87e0-e351da485940",
        "colab": {
          "base_uri": "https://localhost:8080/",
          "height": 50
        }
      },
      "source": [
        "# Test accuracy\n",
        "accuracy = model_emb_lstm.evaluate(X_test,Y_test)\n",
        "print('Test Accuracy: %.2f%%' %(accuracy[1]*100))"
      ],
      "execution_count": 0,
      "outputs": [
        {
          "output_type": "stream",
          "text": [
            "768/768 [==============================] - 9s 12ms/sample - loss: 1.4691 - acc: 0.6341 - precision: 0.7769 - recall: 0.5586\n",
            "Test Accuracy: 63.41%\n"
          ],
          "name": "stdout"
        }
      ]
    },
    {
      "cell_type": "code",
      "metadata": {
        "colab_type": "code",
        "id": "mmND7On1XF9D",
        "outputId": "57c230ff-9414-47e2-f511-922c8e267611",
        "colab": {
          "base_uri": "https://localhost:8080/",
          "height": 134
        }
      },
      "source": [
        "# Getting the confusion matrix\n",
        "pred = model_emb_lstm.predict(X_test)\n",
        "matrix = metrics.confusion_matrix(Y_test.argmax(axis=1), pred.argmax(axis=1))\n",
        "print(matrix)"
      ],
      "execution_count": 0,
      "outputs": [
        {
          "output_type": "stream",
          "text": [
            "[[340   0   1 ...   0   0   1]\n",
            " [  0   0   0 ...   0   1   0]\n",
            " [  1   0   7 ...   0   1   0]\n",
            " ...\n",
            " [  1   0   0 ...   0   0   0]\n",
            " [  1   0   1 ...   0  51   0]\n",
            " [  6   0   0 ...   0  23   2]]\n"
          ],
          "name": "stdout"
        }
      ]
    },
    {
      "cell_type": "code",
      "metadata": {
        "colab_type": "code",
        "id": "bh3iwQZ1Cs3A",
        "outputId": "1bca903e-200f-47ab-e064-edba9315b96c",
        "colab": {
          "base_uri": "https://localhost:8080/",
          "height": 34
        }
      },
      "source": [
        "# Saving this model\n",
        "model_emb_lstm.save(\"model_emb_lstm.h5\")\n",
        "print(\"Saved model_emb_lstm to disk\")"
      ],
      "execution_count": 0,
      "outputs": [
        {
          "output_type": "stream",
          "text": [
            "Saved model_emb_lstm to disk\n"
          ],
          "name": "stdout"
        }
      ]
    },
    {
      "cell_type": "markdown",
      "metadata": {
        "colab_type": "text",
        "id": "5yQ4Fdfbg00j"
      },
      "source": [
        "# Model - Bidirectional LSTM with 200D Glove Embeddings, 7672 records"
      ]
    },
    {
      "cell_type": "code",
      "metadata": {
        "colab_type": "code",
        "id": "z3KVu0GDbVlH",
        "outputId": "ea19a638-de38-4c60-fff4-22b8099c370f",
        "colab": {
          "base_uri": "https://localhost:8080/",
          "height": 188
        }
      },
      "source": [
        "# main model\n",
        "input = Input(shape=(maxlen,))\n",
        "model_emb_bilstm = Embedding(num_words,embedding_size,weights=[embedding_matrix],input_length=maxlen)(input)\n",
        "model_emb_bilstm =  Bidirectional (LSTM (200,return_sequences=True,dropout=0.50),merge_mode='concat')(model_emb_bilstm)\n",
        "model_emb_bilstm = TimeDistributed(Dense(200,activation='relu'))(model_emb_bilstm)\n",
        "model_emb_bilstm = Flatten()(model_emb_bilstm)\n",
        "model_emb_bilstm = Dense(200,activation='relu')(model_emb_bilstm)\n",
        "output = Dense(74,activation='softmax')(model_emb_bilstm)\n",
        "model_emb_bilstm = Model(input,output)\n",
        "model_emb_bilstm.compile(loss='categorical_crossentropy',optimizer='adam', metrics=['accuracy',precision,recall])"
      ],
      "execution_count": 0,
      "outputs": [
        {
          "output_type": "stream",
          "text": [
            "WARNING:tensorflow:From /tensorflow-1.15.0/python3.6/tensorflow_core/python/ops/init_ops.py:97: calling GlorotUniform.__init__ (from tensorflow.python.ops.init_ops) with dtype is deprecated and will be removed in a future version.\n",
            "Instructions for updating:\n",
            "Call initializer instance with the dtype argument instead of passing it to the constructor\n",
            "WARNING:tensorflow:From /tensorflow-1.15.0/python3.6/tensorflow_core/python/ops/init_ops.py:97: calling Orthogonal.__init__ (from tensorflow.python.ops.init_ops) with dtype is deprecated and will be removed in a future version.\n",
            "Instructions for updating:\n",
            "Call initializer instance with the dtype argument instead of passing it to the constructor\n",
            "WARNING:tensorflow:From /tensorflow-1.15.0/python3.6/tensorflow_core/python/ops/init_ops.py:97: calling Zeros.__init__ (from tensorflow.python.ops.init_ops) with dtype is deprecated and will be removed in a future version.\n",
            "Instructions for updating:\n",
            "Call initializer instance with the dtype argument instead of passing it to the constructor\n"
          ],
          "name": "stdout"
        }
      ]
    },
    {
      "cell_type": "code",
      "metadata": {
        "colab_type": "code",
        "id": "EHpkT5hdjnBu",
        "outputId": "b35dc919-24aa-4133-cc1a-bdbd4aaaf775",
        "colab": {
          "base_uri": "https://localhost:8080/",
          "height": 386
        }
      },
      "source": [
        "model_emb_bilstm.summary()"
      ],
      "execution_count": 0,
      "outputs": [
        {
          "output_type": "stream",
          "text": [
            "Model: \"model\"\n",
            "_________________________________________________________________\n",
            "Layer (type)                 Output Shape              Param #   \n",
            "=================================================================\n",
            "input_1 (InputLayer)         [(None, 926)]             0         \n",
            "_________________________________________________________________\n",
            "embedding_1 (Embedding)      (None, 926, 200)          2591800   \n",
            "_________________________________________________________________\n",
            "bidirectional (Bidirectional (None, 926, 400)          641600    \n",
            "_________________________________________________________________\n",
            "time_distributed (TimeDistri (None, 926, 200)          80200     \n",
            "_________________________________________________________________\n",
            "flatten (Flatten)            (None, 185200)            0         \n",
            "_________________________________________________________________\n",
            "dense_2 (Dense)              (None, 200)               37040200  \n",
            "_________________________________________________________________\n",
            "dense_3 (Dense)              (None, 74)                14874     \n",
            "=================================================================\n",
            "Total params: 40,368,674\n",
            "Trainable params: 40,368,674\n",
            "Non-trainable params: 0\n",
            "_________________________________________________________________\n"
          ],
          "name": "stdout"
        }
      ]
    },
    {
      "cell_type": "code",
      "metadata": {
        "colab_type": "code",
        "id": "9s92i4JGijKj",
        "outputId": "da9f5876-dcf4-45bd-d597-6d933069f6e6",
        "colab": {
          "base_uri": "https://localhost:8080/",
          "height": 406
        }
      },
      "source": [
        "import time\n",
        "batch_size = 256\n",
        "epochs = 10\n",
        "\n",
        "start = time.clock()\n",
        "history_emb_bilstm = model_emb_bilstm.fit(X_train, Y_train, epochs=epochs, batch_size=batch_size,validation_split=0.1,callbacks=[EarlyStopping(monitor='val_loss', patience=3, min_delta=0.0001)])\n",
        "end  = time.clock()\n",
        "print('Duration taken: ',end-start,' secs')"
      ],
      "execution_count": 0,
      "outputs": [
        {
          "output_type": "stream",
          "text": [
            "Train on 6213 samples, validate on 691 samples\n",
            "Epoch 1/10\n",
            "6213/6213 [==============================] - 100s 16ms/sample - loss: 2.4684 - acc: 0.5167 - precision: 0.6646 - recall: 0.3221 - val_loss: 1.9242 - val_acc: 0.5572 - val_precision: 0.8711 - val_recall: 0.3837\n",
            "Epoch 2/10\n",
            "6213/6213 [==============================] - 96s 15ms/sample - loss: 1.8183 - acc: 0.5735 - precision: 0.7929 - recall: 0.4305 - val_loss: 1.6559 - val_acc: 0.5847 - val_precision: 0.7851 - val_recall: 0.4674\n",
            "Epoch 3/10\n",
            "6213/6213 [==============================] - 96s 15ms/sample - loss: 1.5833 - acc: 0.6156 - precision: 0.8133 - recall: 0.4758 - val_loss: 1.5856 - val_acc: 0.6136 - val_precision: 0.7565 - val_recall: 0.5385\n",
            "Epoch 4/10\n",
            "6213/6213 [==============================] - 97s 16ms/sample - loss: 1.4076 - acc: 0.6380 - precision: 0.8160 - recall: 0.5159 - val_loss: 1.5385 - val_acc: 0.6266 - val_precision: 0.7947 - val_recall: 0.5281\n",
            "Epoch 5/10\n",
            "6213/6213 [==============================] - 96s 15ms/sample - loss: 1.2765 - acc: 0.6612 - precision: 0.8355 - recall: 0.5408 - val_loss: 1.5000 - val_acc: 0.6397 - val_precision: 0.8123 - val_recall: 0.5402\n",
            "Epoch 6/10\n",
            "6213/6213 [==============================] - 96s 15ms/sample - loss: 1.1337 - acc: 0.6903 - precision: 0.8505 - recall: 0.5636 - val_loss: 1.4505 - val_acc: 0.6310 - val_precision: 0.7942 - val_recall: 0.5246\n",
            "Epoch 7/10\n",
            "6213/6213 [==============================] - 96s 16ms/sample - loss: 1.0015 - acc: 0.7251 - precision: 0.8658 - recall: 0.6060 - val_loss: 1.4391 - val_acc: 0.6425 - val_precision: 0.8042 - val_recall: 0.5225\n",
            "Epoch 8/10\n",
            "6213/6213 [==============================] - 97s 16ms/sample - loss: 0.8620 - acc: 0.7507 - precision: 0.8773 - recall: 0.6517 - val_loss: 1.5202 - val_acc: 0.6382 - val_precision: 0.7719 - val_recall: 0.5659\n",
            "Epoch 9/10\n",
            "6213/6213 [==============================] - 98s 16ms/sample - loss: 0.7666 - acc: 0.7747 - precision: 0.8777 - recall: 0.6864 - val_loss: 1.5822 - val_acc: 0.6353 - val_precision: 0.7383 - val_recall: 0.5955\n",
            "Epoch 10/10\n",
            "6213/6213 [==============================] - 97s 16ms/sample - loss: 0.6701 - acc: 0.8006 - precision: 0.8915 - recall: 0.7148 - val_loss: 1.6357 - val_acc: 0.6411 - val_precision: 0.7249 - val_recall: 0.5882\n",
            "Duration taken:  1645.384156  secs\n"
          ],
          "name": "stdout"
        }
      ]
    },
    {
      "cell_type": "code",
      "metadata": {
        "colab_type": "code",
        "id": "12GZZck2jvv_",
        "outputId": "706e26f9-976c-4ddf-ef05-bd7424ec8c83",
        "colab": {
          "base_uri": "https://localhost:8080/",
          "height": 34
        }
      },
      "source": [
        "# list all data in history\n",
        "print(history_emb_bilstm.history.keys())"
      ],
      "execution_count": 0,
      "outputs": [
        {
          "output_type": "stream",
          "text": [
            "dict_keys(['loss', 'acc', 'precision', 'recall', 'val_loss', 'val_acc', 'val_precision', 'val_recall'])\n"
          ],
          "name": "stdout"
        }
      ]
    },
    {
      "cell_type": "code",
      "metadata": {
        "colab_type": "code",
        "id": "1LreiWsD022d",
        "outputId": "af4d692a-e04b-4b87-f956-642d5fc4487f",
        "colab": {
          "base_uri": "https://localhost:8080/",
          "height": 1000
        }
      },
      "source": [
        "from matplotlib import pyplot as plt\n",
        "try:\n",
        "  plt.plot(history_emb_bilstm.history['accuracy'])\n",
        "  plt.plot(history_emb_bilstm.history['val_accuracy'])\n",
        "except:\n",
        "  plt.plot(history_emb_bilstm.history['acc'])\n",
        "  plt.plot(history_emb_bilstm.history['val_acc'])\n",
        "plt.title('model accuracy')\n",
        "plt.ylabel('accuracy')\n",
        "plt.xlabel('epoch')\n",
        "plt.legend(['train', 'test'], loc='upper left')\n",
        "plt.show()\n",
        "# summarize history for loss\n",
        "plt.plot(history_emb_bilstm.history['loss'])\n",
        "plt.plot(history_emb_bilstm.history['val_loss'])\n",
        "plt.title('model loss')\n",
        "plt.ylabel('loss')\n",
        "plt.xlabel('epoch')\n",
        "plt.legend(['train', 'test'], loc='upper left')\n",
        "plt.show()\n",
        "# summarize history for mse\n",
        "plt.plot(history_emb_bilstm.history['precision'])\n",
        "plt.plot(history_emb_bilstm.history['val_precision'])\n",
        "plt.title('model precision')\n",
        "plt.ylabel('precision')\n",
        "plt.xlabel('epoch')\n",
        "plt.legend(['train', 'test'], loc='upper left')\n",
        "plt.show()\n",
        "# summarize history for mae\n",
        "plt.plot(history_emb_bilstm.history['recall'])\n",
        "plt.plot(history_emb_bilstm.history['val_recall'])\n",
        "plt.title('model recall')\n",
        "plt.ylabel('recall')\n",
        "plt.xlabel('epoch')\n",
        "plt.legend(['train', 'test'], loc='upper left')\n",
        "plt.show()"
      ],
      "execution_count": 0,
      "outputs": [
        {
          "output_type": "display_data",
          "data": {
            "image/png": "[encoded data removed]",
            "text/plain": [
              "<Figure size 432x288 with 1 Axes>"
            ]
          },
          "metadata": {
            "tags": []
          }
        },
        {
          "output_type": "display_data",
          "data": {
            "image/png": "[encoded data removed]",
            "text/plain": [
              "<Figure size 432x288 with 1 Axes>"
            ]
          },
          "metadata": {
            "tags": []
          }
        },
        {
          "output_type": "display_data",
          "data": {
            "image/png": "[encoded data removed]",
            "text/plain": [
              "<Figure size 432x288 with 1 Axes>"
            ]
          },
          "metadata": {
            "tags": []
          }
        },
        {
          "output_type": "display_data",
          "data": {
            "image/png": "[encoded data removed]",
            "text/plain": [
              "<Figure size 432x288 with 1 Axes>"
            ]
          },
          "metadata": {
            "tags": []
          }
        }
      ]
    },
    {
      "cell_type": "code",
      "metadata": {
        "colab_type": "code",
        "id": "qBak94yq1qxc",
        "outputId": "e09347e7-e29f-4685-c08d-1e27cbd074a4",
        "colab": {
          "base_uri": "https://localhost:8080/",
          "height": 50
        }
      },
      "source": [
        "# Test accuracy\n",
        "accuracy = model_emb_bilstm.evaluate(X_test,Y_test)\n",
        "print('Test Accuracy: %.2f%%' %(accuracy[1]*100))"
      ],
      "execution_count": 0,
      "outputs": [
        {
          "output_type": "stream",
          "text": [
            "768/768 [==============================] - 17s 22ms/sample - loss: 1.6919 - acc: 0.6029 - precision: 0.7093 - recall: 0.5443\n",
            "Test Accuracy: 60.29%\n"
          ],
          "name": "stdout"
        }
      ]
    },
    {
      "cell_type": "code",
      "metadata": {
        "colab_type": "code",
        "id": "XyvtbOaaaOM3",
        "outputId": "12b5a4fe-30e6-464c-f6d6-bf3d399edf0f",
        "colab": {
          "base_uri": "https://localhost:8080/",
          "height": 134
        }
      },
      "source": [
        "# Getting the confusion matrix\n",
        "pred = model_emb_bilstm.predict(X_test)\n",
        "matrix = metrics.confusion_matrix(Y_test.argmax(axis=1), pred.argmax(axis=1))\n",
        "print(matrix)"
      ],
      "execution_count": 0,
      "outputs": [
        {
          "output_type": "stream",
          "text": [
            "[[305   0   0 ...   0   0   3]\n",
            " [  0   0   0 ...   0   1   0]\n",
            " [  1   0   5 ...   0   1   0]\n",
            " ...\n",
            " [  1   0   0 ...   0   0   0]\n",
            " [  0   0   1 ...   0  52   1]\n",
            " [  5   0   1 ...   0  21   5]]\n"
          ],
          "name": "stdout"
        }
      ]
    },
    {
      "cell_type": "code",
      "metadata": {
        "colab_type": "code",
        "id": "apk4tMpu14vb",
        "outputId": "15414dee-3b86-4524-b4ab-df84bb044df5",
        "colab": {
          "base_uri": "https://localhost:8080/",
          "height": 34
        }
      },
      "source": [
        "# Saving this model\n",
        "model_emb_bilstm.save(\"model_emb_bilstm.h5\")\n",
        "print(\"Saved model_emb_bilstm to disk\")"
      ],
      "execution_count": 0,
      "outputs": [
        {
          "output_type": "stream",
          "text": [
            "Saved model_emb_bilstm to disk\n"
          ],
          "name": "stdout"
        }
      ]
    },
    {
      "cell_type": "markdown",
      "metadata": {
        "colab_type": "text",
        "id": "E-Ya7p2O2YC7"
      },
      "source": [
        "# Model - Bidirectional LSTM without glove embeddings, 7672 records"
      ]
    },
    {
      "cell_type": "code",
      "metadata": {
        "colab_type": "code",
        "id": "yJqNQXGm2Q8L",
        "colab": {}
      },
      "source": [
        "# main model\n",
        "input = Input(shape=(maxlen,))\n",
        "model_sim_bilstm = Embedding(num_words,embedding_size,input_length=maxlen)(input)\n",
        "model_sim_bilstm =  Bidirectional (LSTM (200,return_sequences=True,dropout=0.50),merge_mode='concat')(model_sim_bilstm)\n",
        "model_sim_bilstm = TimeDistributed(Dense(200,activation='relu'))(model_sim_bilstm)\n",
        "model_sim_bilstm = Flatten()(model_sim_bilstm)\n",
        "model_sim_bilstm = Dense(200,activation='relu')(model_sim_bilstm)\n",
        "output = Dense(74,activation='softmax')(model_sim_bilstm)\n",
        "model_sim_bilstm = Model(input,output)\n",
        "model_sim_bilstm.compile(loss='categorical_crossentropy',optimizer='adam', metrics=['accuracy',precision,recall])"
      ],
      "execution_count": 0,
      "outputs": []
    },
    {
      "cell_type": "code",
      "metadata": {
        "colab_type": "code",
        "id": "EeF0Uw6D3gCX",
        "outputId": "8bd38433-4471-4a90-cf20-e8da5ee08096",
        "colab": {
          "base_uri": "https://localhost:8080/",
          "height": 386
        }
      },
      "source": [
        "model_sim_bilstm.summary()"
      ],
      "execution_count": 0,
      "outputs": [
        {
          "output_type": "stream",
          "text": [
            "Model: \"model_1\"\n",
            "_________________________________________________________________\n",
            "Layer (type)                 Output Shape              Param #   \n",
            "=================================================================\n",
            "input_2 (InputLayer)         [(None, 926)]             0         \n",
            "_________________________________________________________________\n",
            "embedding_2 (Embedding)      (None, 926, 200)          2591800   \n",
            "_________________________________________________________________\n",
            "bidirectional_1 (Bidirection (None, 926, 400)          641600    \n",
            "_________________________________________________________________\n",
            "time_distributed_1 (TimeDist (None, 926, 200)          80200     \n",
            "_________________________________________________________________\n",
            "flatten_1 (Flatten)          (None, 185200)            0         \n",
            "_________________________________________________________________\n",
            "dense_5 (Dense)              (None, 200)               37040200  \n",
            "_________________________________________________________________\n",
            "dense_6 (Dense)              (None, 74)                14874     \n",
            "=================================================================\n",
            "Total params: 40,368,674\n",
            "Trainable params: 40,368,674\n",
            "Non-trainable params: 0\n",
            "_________________________________________________________________\n"
          ],
          "name": "stdout"
        }
      ]
    },
    {
      "cell_type": "code",
      "metadata": {
        "colab_type": "code",
        "id": "LdAwd0U83j6z",
        "outputId": "647b1e57-64c5-44c4-f189-4860c06f32de",
        "colab": {
          "base_uri": "https://localhost:8080/",
          "height": 339
        }
      },
      "source": [
        "import time\n",
        "batch_size = 256\n",
        "epochs = 10\n",
        "\n",
        "start = time.clock()\n",
        "history_sim_bilstm = model_sim_bilstm.fit(X_train, Y_train, epochs=epochs, batch_size=batch_size,validation_split=0.1,callbacks=[EarlyStopping(monitor='val_loss', patience=3, min_delta=0.0001)])\n",
        "end  = time.clock()\n",
        "print('Duration taken: ',end-start,' secs')"
      ],
      "execution_count": 0,
      "outputs": [
        {
          "output_type": "stream",
          "text": [
            "Train on 6213 samples, validate on 691 samples\n",
            "Epoch 1/10\n",
            "6213/6213 [==============================] - 109s 18ms/sample - loss: 3.0203 - acc: 0.4495 - precision: 0.3396 - recall: 0.1823 - val_loss: 2.3216 - val_acc: 0.5123 - val_precision: 0.5241 - val_recall: 0.5097\n",
            "Epoch 2/10\n",
            "6213/6213 [==============================] - 105s 17ms/sample - loss: 2.1448 - acc: 0.5498 - precision: 0.7305 - recall: 0.3991 - val_loss: 1.9515 - val_acc: 0.5615 - val_precision: 0.8615 - val_recall: 0.4049\n",
            "Epoch 3/10\n",
            "6213/6213 [==============================] - 104s 17ms/sample - loss: 1.7828 - acc: 0.5825 - precision: 0.8449 - recall: 0.4671 - val_loss: 1.7811 - val_acc: 0.5702 - val_precision: 0.8657 - val_recall: 0.4373\n",
            "Epoch 4/10\n",
            "6213/6213 [==============================] - 106s 17ms/sample - loss: 1.5697 - acc: 0.6137 - precision: 0.8767 - recall: 0.5005 - val_loss: 1.7104 - val_acc: 0.5904 - val_precision: 0.8319 - val_recall: 0.4550\n",
            "Epoch 5/10\n",
            "6213/6213 [==============================] - 106s 17ms/sample - loss: 1.3930 - acc: 0.6424 - precision: 0.8879 - recall: 0.5383 - val_loss: 1.6861 - val_acc: 0.5919 - val_precision: 0.8249 - val_recall: 0.4781\n",
            "Epoch 6/10\n",
            "6213/6213 [==============================] - 105s 17ms/sample - loss: 1.2133 - acc: 0.6800 - precision: 0.9068 - recall: 0.5700 - val_loss: 1.7088 - val_acc: 0.5832 - val_precision: 0.8491 - val_recall: 0.4715\n",
            "Epoch 7/10\n",
            "6213/6213 [==============================] - 106s 17ms/sample - loss: 1.0813 - acc: 0.7103 - precision: 0.9090 - recall: 0.5946 - val_loss: 1.8325 - val_acc: 0.6006 - val_precision: 0.8044 - val_recall: 0.5132\n",
            "Epoch 8/10\n",
            "6213/6213 [==============================] - 104s 17ms/sample - loss: 0.9552 - acc: 0.7409 - precision: 0.9204 - recall: 0.6302 - val_loss: 1.8639 - val_acc: 0.5948 - val_precision: 0.8016 - val_recall: 0.5115\n",
            "Duration taken:  1631.6063989999998  secs\n"
          ],
          "name": "stdout"
        }
      ]
    },
    {
      "cell_type": "code",
      "metadata": {
        "colab_type": "code",
        "id": "-519kJuj5fbp",
        "outputId": "07e7e832-5069-4a05-e0eb-ba861777b0ad",
        "colab": {
          "base_uri": "https://localhost:8080/",
          "height": 34
        }
      },
      "source": [
        "# list all data in history\n",
        "print(history_sim_bilstm.history.keys())"
      ],
      "execution_count": 0,
      "outputs": [
        {
          "output_type": "stream",
          "text": [
            "dict_keys(['loss', 'acc', 'precision', 'recall', 'val_loss', 'val_acc', 'val_precision', 'val_recall'])\n"
          ],
          "name": "stdout"
        }
      ]
    },
    {
      "cell_type": "code",
      "metadata": {
        "colab_type": "code",
        "id": "HCj_RLFo94mc",
        "outputId": "c7b0993b-4591-4b03-fa49-8a46e436f68c",
        "colab": {
          "base_uri": "https://localhost:8080/",
          "height": 1000
        }
      },
      "source": [
        "from matplotlib import pyplot as plt\n",
        "try:\n",
        "  plt.plot(history_sim_bilstm.history['accuracy'])\n",
        "  plt.plot(history_sim_bilstm.history['val_accuracy'])\n",
        "except:\n",
        "  plt.plot(history_sim_bilstm.history['acc'])\n",
        "  plt.plot(history_sim_bilstm.history['val_acc'])\n",
        "plt.title('model accuracy')\n",
        "plt.ylabel('accuracy')\n",
        "plt.xlabel('epoch')\n",
        "plt.legend(['train', 'test'], loc='upper left')\n",
        "plt.show()\n",
        "# summarize history for loss\n",
        "plt.plot(history_sim_bilstm.history['loss'])\n",
        "plt.plot(history_sim_bilstm.history['val_loss'])\n",
        "plt.title('model loss')\n",
        "plt.ylabel('loss')\n",
        "plt.xlabel('epoch')\n",
        "plt.legend(['train', 'test'], loc='upper left')\n",
        "plt.show()\n",
        "# summarize history for mse\n",
        "plt.plot(history_sim_bilstm.history['precision'])\n",
        "plt.plot(history_sim_bilstm.history['val_precision'])\n",
        "plt.title('model precision')\n",
        "plt.ylabel('precision')\n",
        "plt.xlabel('epoch')\n",
        "plt.legend(['train', 'test'], loc='upper left')\n",
        "plt.show()\n",
        "# summarize history for mae\n",
        "plt.plot(history_sim_bilstm.history['recall'])\n",
        "plt.plot(history_sim_bilstm.history['val_recall'])\n",
        "plt.title('model recall')\n",
        "plt.ylabel('recall')\n",
        "plt.xlabel('epoch')\n",
        "plt.legend(['train', 'test'], loc='upper left')\n",
        "plt.show()"
      ],
      "execution_count": 0,
      "outputs": [
        {
          "output_type": "display_data",
          "data": {
            "image/png": "[encoded data removed]",
            "text/plain": [
              "<Figure size 432x288 with 1 Axes>"
            ]
          },
          "metadata": {
            "tags": []
          }
        },
        {
          "output_type": "display_data",
          "data": {
            "image/png": "[encoded data removed]",
            "text/plain": [
              "<Figure size 432x288 with 1 Axes>"
            ]
          },
          "metadata": {
            "tags": []
          }
        },
        {
          "output_type": "display_data",
          "data": {
            "image/png": "[encoded data removed]",
            "text/plain": [
              "<Figure size 432x288 with 1 Axes>"
            ]
          },
          "metadata": {
            "tags": []
          }
        },
        {
          "output_type": "display_data",
          "data": {
            "image/png": "[encoded data removed]",
            "text/plain": [
              "<Figure size 432x288 with 1 Axes>"
            ]
          },
          "metadata": {
            "tags": []
          }
        }
      ]
    },
    {
      "cell_type": "code",
      "metadata": {
        "colab_type": "code",
        "id": "rIMmGiEv_CHP",
        "outputId": "4a0ea7a6-ca7a-4dfa-b32b-c4f8f0828a96",
        "colab": {
          "base_uri": "https://localhost:8080/",
          "height": 50
        }
      },
      "source": [
        "# Test accuracy\n",
        "accuracy = model_sim_bilstm.evaluate(X_test,Y_test)\n",
        "print('Test Accuracy: %.2f%%' %(accuracy[1]*100))"
      ],
      "execution_count": 0,
      "outputs": [
        {
          "output_type": "stream",
          "text": [
            "768/768 [==============================] - 17s 22ms/sample - loss: 2.0937 - acc: 0.5859 - precision: 0.8044 - recall: 0.4831\n",
            "Test Accuracy: 58.59%\n"
          ],
          "name": "stdout"
        }
      ]
    },
    {
      "cell_type": "code",
      "metadata": {
        "colab_type": "code",
        "id": "_hd8kRWagIxW",
        "outputId": "64abcaf8-1d3f-4079-d707-0cfb136c3073",
        "colab": {
          "base_uri": "https://localhost:8080/",
          "height": 134
        }
      },
      "source": [
        "# Getting the confusion matrix\n",
        "pred = model_sim_bilstm.predict(X_test)\n",
        "matrix = metrics.confusion_matrix(Y_test.argmax(axis=1), pred.argmax(axis=1))\n",
        "print(matrix)"
      ],
      "execution_count": 0,
      "outputs": [
        {
          "output_type": "stream",
          "text": [
            "[[308   0   0 ...   0   0   1]\n",
            " [  0   0   0 ...   0   1   0]\n",
            " [  0   0   5 ...   0   1   0]\n",
            " ...\n",
            " [  1   0   0 ...   0   0   0]\n",
            " [  0   0   1 ...   0  49   0]\n",
            " [  4   0   0 ...   0  23   0]]\n"
          ],
          "name": "stdout"
        }
      ]
    },
    {
      "cell_type": "code",
      "metadata": {
        "colab_type": "code",
        "id": "2eUzVk43_OYw",
        "outputId": "fdc68b5d-72d9-4d1e-cd0c-f18da2423a50",
        "colab": {
          "base_uri": "https://localhost:8080/",
          "height": 34
        }
      },
      "source": [
        "# Saving this model\n",
        "model_sim_bilstm.save(\"model_sim_bilstm.h5\")\n",
        "print(\"Saved model_sim_bilstm to disk\")"
      ],
      "execution_count": 0,
      "outputs": [
        {
          "output_type": "stream",
          "text": [
            "Saved model_sim_bilstm to disk\n"
          ],
          "name": "stdout"
        }
      ]
    },
    {
      "cell_type": "code",
      "metadata": {
        "colab_type": "code",
        "id": "z3HlPy4nTAae",
        "colab": {}
      },
      "source": [
        "# Now on observing the accuracy we find that it is low, so we need to add data. Now, we will try to add the translated non_eng data with this dataset. Also group_0 is excluded in the translated non=eng data as it is the dominating label and it will effect the recall value"
      ],
      "execution_count": 0,
      "outputs": []
    },
    {
      "cell_type": "markdown",
      "metadata": {
        "colab_type": "text",
        "id": "7zj_c8TRUZZV"
      },
      "source": [
        "# Merging translated non english data with our dataset to increase data"
      ]
    },
    {
      "cell_type": "code",
      "metadata": {
        "colab_type": "code",
        "id": "0LUqhg3AUj0p",
        "colab": {}
      },
      "source": [
        "# import necessary libraries\n",
        "import pprint, pickle\n",
        "import warnings, pickle, inflect, re\n",
        "import os, sys, itertools, string\n",
        "from wordcloud import STOPWORDS\n",
        "from nltk.tokenize import regexp_tokenize\n",
        "from nltk.corpus import stopwords\n",
        "import spacy\n",
        "import nltk\n",
        "from wordcloud import WordCloud, STOPWORDS, ImageColorGenerator"
      ],
      "execution_count": 0,
      "outputs": []
    },
    {
      "cell_type": "code",
      "metadata": {
        "colab_type": "code",
        "id": "3PVXAwwgTAmJ",
        "colab": {}
      },
      "source": [
        "# Loaded the translated non-english data\n",
        "pkl_file = open('trans_non_eng_data.pkl', 'rb')\n",
        "translated_data = pickle.load(pkl_file)\n",
        "\n",
        "pkl_file.close()"
      ],
      "execution_count": 0,
      "outputs": []
    },
    {
      "cell_type": "code",
      "metadata": {
        "colab_type": "code",
        "id": "UUedEVYDTAsa",
        "outputId": "60a12693-4153-4b51-b87b-e14a095c7380",
        "colab": {
          "base_uri": "https://localhost:8080/",
          "height": 195
        }
      },
      "source": [
        "translated_data.head()"
      ],
      "execution_count": 0,
      "outputs": [
        {
          "output_type": "execute_result",
          "data": {
            "text/html": [
              "<div>\n",
              "<style scoped>\n",
              "    .dataframe tbody tr th:only-of-type {\n",
              "        vertical-align: middle;\n",
              "    }\n",
              "\n",
              "    .dataframe tbody tr th {\n",
              "        vertical-align: top;\n",
              "    }\n",
              "\n",
              "    .dataframe thead th {\n",
              "        text-align: right;\n",
              "    }\n",
              "</style>\n",
              "<table border=\"1\" class=\"dataframe\">\n",
              "  <thead>\n",
              "    <tr style=\"text-align: right;\">\n",
              "      <th></th>\n",
              "      <th>Short description</th>\n",
              "      <th>Description</th>\n",
              "      <th>Caller</th>\n",
              "      <th>Assignment group</th>\n",
              "    </tr>\n",
              "  </thead>\n",
              "  <tbody>\n",
              "    <tr>\n",
              "      <th>0</th>\n",
              "      <td>[urgent!!] delivery note creation request!!</td>\n",
              "      <td>\\n\\nreceived from: fbvpcytz.nokypgvx@gmail.com...</td>\n",
              "      <td>fbvpcytz nokypgvx</td>\n",
              "      <td>GRP_18</td>\n",
              "    </tr>\n",
              "    <tr>\n",
              "      <th>1</th>\n",
              "      <td>unable to access password_management_tool id p...</td>\n",
              "      <td>i try to change now my password acc. to attach...</td>\n",
              "      <td>ijeqpkrz nwtehsyx</td>\n",
              "      <td>GRP_2</td>\n",
              "    </tr>\n",
              "    <tr>\n",
              "      <th>2</th>\n",
              "      <td>Qingdao-the Electrical and Mechanical-mail shi...</td>\n",
              "      <td>from: sent: friday, october 28, 2016 7:20 am ...</td>\n",
              "      <td>yafxlpwi lhxvatkb</td>\n",
              "      <td>GRP_18</td>\n",
              "    </tr>\n",
              "    <tr>\n",
              "      <th>3</th>\n",
              "      <td>support for fa.gstry \\ arexjftu ohxdwngl</td>\n",
              "      <td>support for fa.konnica \\ arexjftu ohxdwngl</td>\n",
              "      <td>arexjftu ohxdwngl</td>\n",
              "      <td>GRP_24</td>\n",
              "    </tr>\n",
              "    <tr>\n",
              "      <th>4</th>\n",
              "      <td>problems with blue screen</td>\n",
              "      <td>. hello, it happened again. the pc hanged hims...</td>\n",
              "      <td>vrfpyjwi nzhvgqiw</td>\n",
              "      <td>GRP_24</td>\n",
              "    </tr>\n",
              "  </tbody>\n",
              "</table>\n",
              "</div>"
            ],
            "text/plain": [
              "                                   Short description  ... Assignment group\n",
              "0       [urgent!!] delivery note creation request!!   ...           GRP_18\n",
              "1  unable to access password_management_tool id p...  ...            GRP_2\n",
              "2  Qingdao-the Electrical and Mechanical-mail shi...  ...           GRP_18\n",
              "3          support for fa.gstry \\ arexjftu ohxdwngl   ...           GRP_24\n",
              "4                         problems with blue screen   ...           GRP_24\n",
              "\n",
              "[5 rows x 4 columns]"
            ]
          },
          "metadata": {
            "tags": []
          },
          "execution_count": 50
        }
      ]
    },
    {
      "cell_type": "code",
      "metadata": {
        "colab_type": "code",
        "id": "MnJ496oUUuMQ",
        "colab": {}
      },
      "source": [
        "# Merging short description and description to one column named Combined description\n",
        "translated_data['Combined description'] = translated_data.apply(lambda x:'%s %s' % (x['Short description'],x['Description']),axis=1)"
      ],
      "execution_count": 0,
      "outputs": []
    },
    {
      "cell_type": "code",
      "metadata": {
        "colab_type": "code",
        "id": "Vwdd5YdyVCmQ",
        "colab": {}
      },
      "source": [
        "# Dropping short description and description\n",
        "translated_data.drop(columns=['Short description','Description'],inplace=True)"
      ],
      "execution_count": 0,
      "outputs": []
    },
    {
      "cell_type": "code",
      "metadata": {
        "colab_type": "code",
        "id": "AWT9HL_GVEHQ",
        "colab": {}
      },
      "source": [
        "# Aligning the dataset\n",
        "translated_data = translated_data[['Caller','Combined description','Assignment group']]"
      ],
      "execution_count": 0,
      "outputs": []
    },
    {
      "cell_type": "code",
      "metadata": {
        "colab_type": "code",
        "id": "vFC5W9L5VF4w",
        "outputId": "276b18d9-16ae-437e-e2d6-b42beaf34f93",
        "colab": {
          "base_uri": "https://localhost:8080/",
          "height": 151
        }
      },
      "source": [
        "translated_data.info()"
      ],
      "execution_count": 0,
      "outputs": [
        {
          "output_type": "stream",
          "text": [
            "<class 'pandas.core.frame.DataFrame'>\n",
            "RangeIndex: 567 entries, 0 to 566\n",
            "Data columns (total 3 columns):\n",
            "Caller                  567 non-null object\n",
            "Combined description    567 non-null object\n",
            "Assignment group        567 non-null object\n",
            "dtypes: object(3)\n",
            "memory usage: 13.4+ KB\n"
          ],
          "name": "stdout"
        }
      ]
    },
    {
      "cell_type": "code",
      "metadata": {
        "colab_type": "code",
        "id": "u7Z77hwJVHs4",
        "outputId": "aa5f376f-2cf9-4e94-fa20-ce866310d356",
        "colab": {
          "base_uri": "https://localhost:8080/",
          "height": 84
        }
      },
      "source": [
        "# Find out the null value counts in each column\n",
        "translated_data.isnull().sum()"
      ],
      "execution_count": 0,
      "outputs": [
        {
          "output_type": "execute_result",
          "data": {
            "text/plain": [
              "Caller                  0\n",
              "Combined description    0\n",
              "Assignment group        0\n",
              "dtype: int64"
            ]
          },
          "metadata": {
            "tags": []
          },
          "execution_count": 55
        }
      ]
    },
    {
      "cell_type": "code",
      "metadata": {
        "colab_type": "code",
        "id": "yI2pUXBWVI_f",
        "outputId": "3ecf9d88-c92c-433d-fdff-1b719bd34584",
        "colab": {
          "base_uri": "https://localhost:8080/",
          "height": 101
        }
      },
      "source": [
        "nltk.download(\"wordnet\")\n",
        "nltk.download(\"stopwords\")"
      ],
      "execution_count": 0,
      "outputs": [
        {
          "output_type": "stream",
          "text": [
            "[nltk_data] Downloading package wordnet to /root/nltk_data...\n",
            "[nltk_data]   Package wordnet is already up-to-date!\n",
            "[nltk_data] Downloading package stopwords to /root/nltk_data...\n",
            "[nltk_data]   Package stopwords is already up-to-date!\n"
          ],
          "name": "stdout"
        },
        {
          "output_type": "execute_result",
          "data": {
            "text/plain": [
              "True"
            ]
          },
          "metadata": {
            "tags": []
          },
          "execution_count": 56
        }
      ]
    },
    {
      "cell_type": "code",
      "metadata": {
        "colab_type": "code",
        "id": "cVaMuNTTVopg",
        "outputId": "7591a2bf-6291-4617-c1e0-6bc1611d605f",
        "colab": {
          "base_uri": "https://localhost:8080/",
          "height": 910
        }
      },
      "source": [
        "!python -m spacy download en\n",
        "!python -m spacy download en_core_web_lg\n",
        "import spacy.cli\n",
        "spacy.cli.download(\"en_core_web_lg\")"
      ],
      "execution_count": 0,
      "outputs": [
        {
          "output_type": "stream",
          "text": [
            "Requirement already satisfied: en_core_web_sm==2.2.5 from https://github.com/explosion/spacy-models/releases/download/en_core_web_sm-2.2.5/en_core_web_sm-2.2.5.tar.gz#egg=en_core_web_sm==2.2.5 in /usr/local/lib/python3.6/dist-packages (2.2.5)\n",
            "Requirement already satisfied: spacy>=2.2.2 in /usr/local/lib/python3.6/dist-packages (from en_core_web_sm==2.2.5) (2.2.4)\n",
            "Requirement already satisfied: cymem<2.1.0,>=2.0.2 in /usr/local/lib/python3.6/dist-packages (from spacy>=2.2.2->en_core_web_sm==2.2.5) (2.0.3)\n",
            "Requirement already satisfied: setuptools in /usr/local/lib/python3.6/dist-packages (from spacy>=2.2.2->en_core_web_sm==2.2.5) (46.0.0)\n",
            "Requirement already satisfied: srsly<1.1.0,>=1.0.2 in /usr/local/lib/python3.6/dist-packages (from spacy>=2.2.2->en_core_web_sm==2.2.5) (1.0.2)\n",
            "Requirement already satisfied: requests<3.0.0,>=2.13.0 in /usr/local/lib/python3.6/dist-packages (from spacy>=2.2.2->en_core_web_sm==2.2.5) (2.21.0)\n",
            "Requirement already satisfied: catalogue<1.1.0,>=0.0.7 in /usr/local/lib/python3.6/dist-packages (from spacy>=2.2.2->en_core_web_sm==2.2.5) (1.0.0)\n",
            "Requirement already satisfied: preshed<3.1.0,>=3.0.2 in /usr/local/lib/python3.6/dist-packages (from spacy>=2.2.2->en_core_web_sm==2.2.5) (3.0.2)\n",
            "Requirement already satisfied: thinc==7.4.0 in /usr/local/lib/python3.6/dist-packages (from spacy>=2.2.2->en_core_web_sm==2.2.5) (7.4.0)\n",
            "Requirement already satisfied: blis<0.5.0,>=0.4.0 in /usr/local/lib/python3.6/dist-packages (from spacy>=2.2.2->en_core_web_sm==2.2.5) (0.4.1)\n",
            "Requirement already satisfied: numpy>=1.15.0 in /usr/local/lib/python3.6/dist-packages (from spacy>=2.2.2->en_core_web_sm==2.2.5) (1.18.2)\n",
            "Requirement already satisfied: tqdm<5.0.0,>=4.38.0 in /usr/local/lib/python3.6/dist-packages (from spacy>=2.2.2->en_core_web_sm==2.2.5) (4.38.0)\n",
            "Requirement already satisfied: plac<1.2.0,>=0.9.6 in /usr/local/lib/python3.6/dist-packages (from spacy>=2.2.2->en_core_web_sm==2.2.5) (1.1.3)\n",
            "Requirement already satisfied: murmurhash<1.1.0,>=0.28.0 in /usr/local/lib/python3.6/dist-packages (from spacy>=2.2.2->en_core_web_sm==2.2.5) (1.0.2)\n",
            "Requirement already satisfied: wasabi<1.1.0,>=0.4.0 in /usr/local/lib/python3.6/dist-packages (from spacy>=2.2.2->en_core_web_sm==2.2.5) (0.6.0)\n",
            "Requirement already satisfied: idna<2.9,>=2.5 in /usr/local/lib/python3.6/dist-packages (from requests<3.0.0,>=2.13.0->spacy>=2.2.2->en_core_web_sm==2.2.5) (2.8)\n",
            "Requirement already satisfied: certifi>=2017.4.17 in /usr/local/lib/python3.6/dist-packages (from requests<3.0.0,>=2.13.0->spacy>=2.2.2->en_core_web_sm==2.2.5) (2019.11.28)\n",
            "Requirement already satisfied: urllib3<1.25,>=1.21.1 in /usr/local/lib/python3.6/dist-packages (from requests<3.0.0,>=2.13.0->spacy>=2.2.2->en_core_web_sm==2.2.5) (1.24.3)\n",
            "Requirement already satisfied: chardet<3.1.0,>=3.0.2 in /usr/local/lib/python3.6/dist-packages (from requests<3.0.0,>=2.13.0->spacy>=2.2.2->en_core_web_sm==2.2.5) (3.0.4)\n",
            "Requirement already satisfied: importlib-metadata>=0.20; python_version < \"3.8\" in /usr/local/lib/python3.6/dist-packages (from catalogue<1.1.0,>=0.0.7->spacy>=2.2.2->en_core_web_sm==2.2.5) (1.5.0)\n",
            "Requirement already satisfied: zipp>=0.5 in /usr/local/lib/python3.6/dist-packages (from importlib-metadata>=0.20; python_version < \"3.8\"->catalogue<1.1.0,>=0.0.7->spacy>=2.2.2->en_core_web_sm==2.2.5) (3.1.0)\n",
            "\u001b[38;5;2m✔ Download and installation successful\u001b[0m\n",
            "You can now load the model via spacy.load('en_core_web_sm')\n",
            "\u001b[38;5;2m✔ Linking successful\u001b[0m\n",
            "/usr/local/lib/python3.6/dist-packages/en_core_web_sm -->\n",
            "/usr/local/lib/python3.6/dist-packages/spacy/data/en\n",
            "You can now load the model via spacy.load('en')\n",
            "Requirement already satisfied: en_core_web_lg==2.2.5 from https://github.com/explosion/spacy-models/releases/download/en_core_web_lg-2.2.5/en_core_web_lg-2.2.5.tar.gz#egg=en_core_web_lg==2.2.5 in /usr/local/lib/python3.6/dist-packages (2.2.5)\n",
            "Requirement already satisfied: spacy>=2.2.2 in /usr/local/lib/python3.6/dist-packages (from en_core_web_lg==2.2.5) (2.2.4)\n",
            "Requirement already satisfied: blis<0.5.0,>=0.4.0 in /usr/local/lib/python3.6/dist-packages (from spacy>=2.2.2->en_core_web_lg==2.2.5) (0.4.1)\n",
            "Requirement already satisfied: requests<3.0.0,>=2.13.0 in /usr/local/lib/python3.6/dist-packages (from spacy>=2.2.2->en_core_web_lg==2.2.5) (2.21.0)\n",
            "Requirement already satisfied: thinc==7.4.0 in /usr/local/lib/python3.6/dist-packages (from spacy>=2.2.2->en_core_web_lg==2.2.5) (7.4.0)\n",
            "Requirement already satisfied: plac<1.2.0,>=0.9.6 in /usr/local/lib/python3.6/dist-packages (from spacy>=2.2.2->en_core_web_lg==2.2.5) (1.1.3)\n",
            "Requirement already satisfied: srsly<1.1.0,>=1.0.2 in /usr/local/lib/python3.6/dist-packages (from spacy>=2.2.2->en_core_web_lg==2.2.5) (1.0.2)\n",
            "Requirement already satisfied: catalogue<1.1.0,>=0.0.7 in /usr/local/lib/python3.6/dist-packages (from spacy>=2.2.2->en_core_web_lg==2.2.5) (1.0.0)\n",
            "Requirement already satisfied: murmurhash<1.1.0,>=0.28.0 in /usr/local/lib/python3.6/dist-packages (from spacy>=2.2.2->en_core_web_lg==2.2.5) (1.0.2)\n",
            "Requirement already satisfied: cymem<2.1.0,>=2.0.2 in /usr/local/lib/python3.6/dist-packages (from spacy>=2.2.2->en_core_web_lg==2.2.5) (2.0.3)\n",
            "Requirement already satisfied: setuptools in /usr/local/lib/python3.6/dist-packages (from spacy>=2.2.2->en_core_web_lg==2.2.5) (46.0.0)\n",
            "Requirement already satisfied: preshed<3.1.0,>=3.0.2 in /usr/local/lib/python3.6/dist-packages (from spacy>=2.2.2->en_core_web_lg==2.2.5) (3.0.2)\n",
            "Requirement already satisfied: numpy>=1.15.0 in /usr/local/lib/python3.6/dist-packages (from spacy>=2.2.2->en_core_web_lg==2.2.5) (1.18.2)\n",
            "Requirement already satisfied: wasabi<1.1.0,>=0.4.0 in /usr/local/lib/python3.6/dist-packages (from spacy>=2.2.2->en_core_web_lg==2.2.5) (0.6.0)\n",
            "Requirement already satisfied: tqdm<5.0.0,>=4.38.0 in /usr/local/lib/python3.6/dist-packages (from spacy>=2.2.2->en_core_web_lg==2.2.5) (4.38.0)\n",
            "Requirement already satisfied: idna<2.9,>=2.5 in /usr/local/lib/python3.6/dist-packages (from requests<3.0.0,>=2.13.0->spacy>=2.2.2->en_core_web_lg==2.2.5) (2.8)\n",
            "Requirement already satisfied: chardet<3.1.0,>=3.0.2 in /usr/local/lib/python3.6/dist-packages (from requests<3.0.0,>=2.13.0->spacy>=2.2.2->en_core_web_lg==2.2.5) (3.0.4)\n",
            "Requirement already satisfied: urllib3<1.25,>=1.21.1 in /usr/local/lib/python3.6/dist-packages (from requests<3.0.0,>=2.13.0->spacy>=2.2.2->en_core_web_lg==2.2.5) (1.24.3)\n",
            "Requirement already satisfied: certifi>=2017.4.17 in /usr/local/lib/python3.6/dist-packages (from requests<3.0.0,>=2.13.0->spacy>=2.2.2->en_core_web_lg==2.2.5) (2019.11.28)\n",
            "Requirement already satisfied: importlib-metadata>=0.20; python_version < \"3.8\" in /usr/local/lib/python3.6/dist-packages (from catalogue<1.1.0,>=0.0.7->spacy>=2.2.2->en_core_web_lg==2.2.5) (1.5.0)\n",
            "Requirement already satisfied: zipp>=0.5 in /usr/local/lib/python3.6/dist-packages (from importlib-metadata>=0.20; python_version < \"3.8\"->catalogue<1.1.0,>=0.0.7->spacy>=2.2.2->en_core_web_lg==2.2.5) (3.1.0)\n",
            "\u001b[38;5;2m✔ Download and installation successful\u001b[0m\n",
            "You can now load the model via spacy.load('en_core_web_lg')\n",
            "\u001b[38;5;2m✔ Download and installation successful\u001b[0m\n",
            "You can now load the model via spacy.load('en_core_web_lg')\n"
          ],
          "name": "stdout"
        }
      ]
    },
    {
      "cell_type": "code",
      "metadata": {
        "colab_type": "code",
        "id": "XakWPwzeYDj6",
        "colab": {}
      },
      "source": [
        "# Initialize spacy 'en' large model, keeping only tagger component needed for lemmatization\n",
        "nlp = spacy.load('en_core_web_lg', disable=['parser', 'ner'])"
      ],
      "execution_count": 0,
      "outputs": []
    },
    {
      "cell_type": "code",
      "metadata": {
        "colab_type": "code",
        "id": "j5uC1qy5Vtao",
        "colab": {}
      },
      "source": [
        "# Tokenization using Regexp_tokenizer so that we get only words and digits in the token\n",
        "def tokenizer(text):\n",
        "  return regexp_tokenize(text,pattern=\"\\w+\")\n",
        "\n",
        "#Lemmatization Using Spacy\n",
        "def lemmatizer(sentence):\n",
        "    # Parse the sentence using the loaded 'en' model object `nlp`\n",
        "    doc = nlp(sentence)\n",
        "    return \" \".join([token.lemma_ for token in doc if token.lemma_ !='-PRON-'])\n",
        "\n",
        "#stop words using NLTK\n",
        "def stopWordsRemoval():\n",
        "  mylist = stopwords.words('english')\n",
        "  # mylist = mylist.extend(['yes','na','hi','receive','hello','regards','thanks','from','greeting','will','please','see','help','able'])\n",
        "  return mylist\n",
        "  \n",
        "\n",
        "  # Extend the English Stop Words for the words imported from wordnet\n",
        "STOP_WORDS = STOPWORDS.union({'yes','na','hi',\n",
        "                              'receive','hello',\n",
        "                              'regards','thanks',\n",
        "                              'from','greeting',\n",
        "                              'forward','reply',\n",
        "                              'will','please',\n",
        "                              'see','help','able'})\n",
        "\n",
        "# Define regex patterns\n",
        "EMAIL_PATTERN = r\"([\\w.+-]+@[a-z\\d-]+\\.[a-z\\d.-]+)\"\n",
        "PUNCT_PATTERN = r\"[,|@|\\|?|\\\\|$&*|%|\\r|\\n|.:|\\s+|/|//|\\\\|/|\\||-|<|>|;|(|)|=|+|#|-|\\\"|[-\\]]|{|}]\"\n",
        "# Negative Lookbehind for EmailId replacement- Don't match any number which follows the text \"RetainedEmailId\"\n",
        "NUMER_PATTERN = r\"(?<!RetainedEmailId)(\\d+(?:\\.\\d+)?)\"\n",
        "def cleanseText(text):\n",
        "    # Make the text unicase (lower) \n",
        "    text = str(text).lower()\n",
        "    # Remove email adresses\n",
        "    # text = re.sub(EMAIL_PATTERN, '', text, flags=re.IGNORECASE)\n",
        "    # Save Email addresses and replace them with custom keyword\n",
        "    email_dict = extract_email(text)\n",
        "    for key in email_dict.keys():\n",
        "        text = text.replace(email_dict[key], key)\n",
        "    # Remove all numbers \n",
        "    text = re.sub(NUMER_PATTERN, '', text)\n",
        "    # Replace all punctuations with blank space\n",
        "    # text = re.sub(PUNCT_PATTERN, \" \", text, flags=re.MULTILINE)\n",
        "    text = text.translate(str.maketrans(\"\",\"\", string.punctuation))\n",
        "    text = re.sub(r'\\s+', ' ', text)\n",
        "    # Replace multiple spaces from prev step to single\n",
        "    text = re.sub(r' {2,}', \" \", text, flags=re.MULTILINE)\n",
        "    text = text.replace('`',\"'\")\n",
        "    # Replace the email ids back into their original position\n",
        "    for key in email_dict.keys():\n",
        "        text = text.replace(key, email_dict[key])\n",
        "    return text.strip()\n",
        "\n",
        "\n",
        "\n",
        "def extract_email(text):\n",
        "    # Replaces the email addresses with custom key word and \n",
        "    # save them into a dictionary for future use\n",
        "    unique_emailid = set(re.findall(EMAIL_PATTERN, text))\n",
        "    email_replacement = dict()\n",
        "    for idx, email in enumerate(unique_emailid):\n",
        "        email_replacement[f'RetainedEmailId{idx}'] = email\n",
        "    return email_replacement\n",
        "  # This method callsthe cleanseTest, tokenizer and the lemmatization function\n",
        "def preProcessData(text):\n",
        "  cleansedText = cleanseText(text)\n",
        "  tokenized = tokenizer(cleansedText)\n",
        "  lemmatizedText = lemmatizer(\" \".join(word for word in tokenized))\n",
        "  return lemmatizedText\n",
        "  \n",
        "stwords = stopWordsRemoval()\n",
        "STOP_WORDS.union(set(stwords))\n",
        "STOP_WORDS.remove('no')\n",
        "STOP_WORDS.remove('not')\n",
        "# function to remove all the stopwords\n",
        "def removeStopWords(text):\n",
        "  return \" \".join([words.strip() for words in text.split() if words.strip() not in list(STOP_WORDS)])"
      ],
      "execution_count": 0,
      "outputs": []
    },
    {
      "cell_type": "code",
      "metadata": {
        "colab_type": "code",
        "id": "nWGx-2dHbEBS",
        "colab": {}
      },
      "source": [
        "# Apply the cleaning function to entire dataset\n",
        "translated_data['Combined description'] = translated_data['Combined description'].apply(preProcessData)"
      ],
      "execution_count": 0,
      "outputs": []
    },
    {
      "cell_type": "code",
      "metadata": {
        "colab_type": "code",
        "id": "jQW31EP1YGp0",
        "colab": {}
      },
      "source": [
        "# Apply the stopwords removal function to entire dataset\n",
        "translated_data['Combined description'] = translated_data['Combined description'].apply(removeStopWords)"
      ],
      "execution_count": 0,
      "outputs": []
    },
    {
      "cell_type": "code",
      "metadata": {
        "colab_type": "code",
        "id": "63z8JS9IY-4Q",
        "outputId": "eb24d6bd-40b3-4861-bf53-c24c7ed88bae",
        "colab": {
          "base_uri": "https://localhost:8080/",
          "height": 195
        }
      },
      "source": [
        "# Verify the data\n",
        "translated_data.tail()"
      ],
      "execution_count": 0,
      "outputs": [
        {
          "output_type": "execute_result",
          "data": {
            "text/html": [
              "<div>\n",
              "<style scoped>\n",
              "    .dataframe tbody tr th:only-of-type {\n",
              "        vertical-align: middle;\n",
              "    }\n",
              "\n",
              "    .dataframe tbody tr th {\n",
              "        vertical-align: top;\n",
              "    }\n",
              "\n",
              "    .dataframe thead th {\n",
              "        text-align: right;\n",
              "    }\n",
              "</style>\n",
              "<table border=\"1\" class=\"dataframe\">\n",
              "  <thead>\n",
              "    <tr style=\"text-align: right;\">\n",
              "      <th></th>\n",
              "      <th>Caller</th>\n",
              "      <th>Combined description</th>\n",
              "      <th>Assignment group</th>\n",
              "    </tr>\n",
              "  </thead>\n",
              "  <tbody>\n",
              "    <tr>\n",
              "      <th>562</th>\n",
              "      <td>azxhejvq fyemlavd</td>\n",
              "      <td>review recent ticketingtool ticket let know mo...</td>\n",
              "      <td>GRP_16</td>\n",
              "    </tr>\n",
              "    <tr>\n",
              "      <th>563</th>\n",
              "      <td>xqyjztnm onfusvlz</td>\n",
              "      <td>boot computer not really come koga not come mo...</td>\n",
              "      <td>GRP_30</td>\n",
              "    </tr>\n",
              "    <tr>\n",
              "      <th>564</th>\n",
              "      <td>nlearzwi ukdzstwi</td>\n",
              "      <td>customer group enhanced field nlearzwi ukdzstw...</td>\n",
              "      <td>GRP_9</td>\n",
              "    </tr>\n",
              "    <tr>\n",
              "      <th>565</th>\n",
              "      <td>ufawcgob aowhxjky</td>\n",
              "      <td>machine não está funcionando unable access mac...</td>\n",
              "      <td>GRP_62</td>\n",
              "    </tr>\n",
              "    <tr>\n",
              "      <th>566</th>\n",
              "      <td>kqvbrspl jyzoklfx</td>\n",
              "      <td>various prgramdntyme not open multiple pc vari...</td>\n",
              "      <td>GRP_49</td>\n",
              "    </tr>\n",
              "  </tbody>\n",
              "</table>\n",
              "</div>"
            ],
            "text/plain": [
              "                Caller  ... Assignment group\n",
              "562  azxhejvq fyemlavd  ...           GRP_16\n",
              "563  xqyjztnm onfusvlz  ...           GRP_30\n",
              "564  nlearzwi ukdzstwi  ...            GRP_9\n",
              "565  ufawcgob aowhxjky  ...           GRP_62\n",
              "566  kqvbrspl jyzoklfx  ...           GRP_49\n",
              "\n",
              "[5 rows x 3 columns]"
            ]
          },
          "metadata": {
            "tags": []
          },
          "execution_count": 62
        }
      ]
    },
    {
      "cell_type": "code",
      "metadata": {
        "colab_type": "code",
        "id": "dOVKj7XdZASe",
        "colab": {}
      },
      "source": [
        "# Merging two dataset to get a bigger dataset\n",
        "final_dataset = pd.concat([processedEnglishData, translated_data], axis=0, sort=False)"
      ],
      "execution_count": 0,
      "outputs": []
    },
    {
      "cell_type": "code",
      "metadata": {
        "colab_type": "code",
        "id": "O_FZR1UFZCWn",
        "outputId": "c6d0691d-e286-44c0-cd6e-9c3fc37237fc",
        "colab": {
          "base_uri": "https://localhost:8080/",
          "height": 168
        }
      },
      "source": [
        "final_dataset.info()"
      ],
      "execution_count": 0,
      "outputs": [
        {
          "output_type": "stream",
          "text": [
            "<class 'pandas.core.frame.DataFrame'>\n",
            "Int64Index: 8239 entries, 0 to 566\n",
            "Data columns (total 4 columns):\n",
            "Caller                  8239 non-null object\n",
            "Combined description    8239 non-null object\n",
            "Assignment group        8239 non-null object\n",
            "len                     7672 non-null float64\n",
            "dtypes: float64(1), object(3)\n",
            "memory usage: 321.8+ KB\n"
          ],
          "name": "stdout"
        }
      ]
    },
    {
      "cell_type": "code",
      "metadata": {
        "colab_type": "code",
        "id": "wj7v8-zdZGIm",
        "outputId": "9164278f-8634-4e8c-cd32-5aa51233c12e",
        "colab": {
          "base_uri": "https://localhost:8080/",
          "height": 195
        }
      },
      "source": [
        "# Including a len column to find the maximum length of each cell\n",
        "final_dataset['len'] = final_dataset['Combined description'].apply(lambda x: len(x.split(\" \")))\n",
        "final_dataset.head()"
      ],
      "execution_count": 0,
      "outputs": [
        {
          "output_type": "execute_result",
          "data": {
            "text/html": [
              "<div>\n",
              "<style scoped>\n",
              "    .dataframe tbody tr th:only-of-type {\n",
              "        vertical-align: middle;\n",
              "    }\n",
              "\n",
              "    .dataframe tbody tr th {\n",
              "        vertical-align: top;\n",
              "    }\n",
              "\n",
              "    .dataframe thead th {\n",
              "        text-align: right;\n",
              "    }\n",
              "</style>\n",
              "<table border=\"1\" class=\"dataframe\">\n",
              "  <thead>\n",
              "    <tr style=\"text-align: right;\">\n",
              "      <th></th>\n",
              "      <th>Caller</th>\n",
              "      <th>Combined description</th>\n",
              "      <th>Assignment group</th>\n",
              "      <th>len</th>\n",
              "    </tr>\n",
              "  </thead>\n",
              "  <tbody>\n",
              "    <tr>\n",
              "      <th>0</th>\n",
              "      <td>spxjnwir pjlcoqds</td>\n",
              "      <td>login issue verify user detailsemployee manage...</td>\n",
              "      <td>GRP_0</td>\n",
              "      <td>22</td>\n",
              "    </tr>\n",
              "    <tr>\n",
              "      <th>1</th>\n",
              "      <td>hmjdrvpb komuaywn</td>\n",
              "      <td>outlook hmjdrvpb komuaywn gmail team meetingss...</td>\n",
              "      <td>GRP_0</td>\n",
              "      <td>16</td>\n",
              "    </tr>\n",
              "    <tr>\n",
              "      <th>2</th>\n",
              "      <td>eylqgodm ybqkwiam</td>\n",
              "      <td>not log vpn eylqgodm ybqkwiam gmail not log vp...</td>\n",
              "      <td>GRP_0</td>\n",
              "      <td>10</td>\n",
              "    </tr>\n",
              "    <tr>\n",
              "      <th>3</th>\n",
              "      <td>xbkucsvz gcpydteq</td>\n",
              "      <td>unable access hrtool page unable access hrtool...</td>\n",
              "      <td>GRP_0</td>\n",
              "      <td>8</td>\n",
              "    </tr>\n",
              "    <tr>\n",
              "      <th>4</th>\n",
              "      <td>owlgqjme qhcozdfx</td>\n",
              "      <td>skype error skype error</td>\n",
              "      <td>GRP_0</td>\n",
              "      <td>4</td>\n",
              "    </tr>\n",
              "  </tbody>\n",
              "</table>\n",
              "</div>"
            ],
            "text/plain": [
              "              Caller  ... len\n",
              "0  spxjnwir pjlcoqds  ...  22\n",
              "1  hmjdrvpb komuaywn  ...  16\n",
              "2  eylqgodm ybqkwiam  ...  10\n",
              "3  xbkucsvz gcpydteq  ...   8\n",
              "4  owlgqjme qhcozdfx  ...   4\n",
              "\n",
              "[5 rows x 4 columns]"
            ]
          },
          "metadata": {
            "tags": []
          },
          "execution_count": 65
        }
      ]
    },
    {
      "cell_type": "code",
      "metadata": {
        "colab_type": "code",
        "id": "hkk6dp-YZIU2",
        "colab": {}
      },
      "source": [
        "# Saving the dataset for future use\n",
        "output = open('final_processed_dataset.pkl', 'wb')\n",
        "pickle.dump(final_dataset, output)\n",
        "output.close()"
      ],
      "execution_count": 0,
      "outputs": []
    },
    {
      "cell_type": "code",
      "metadata": {
        "colab_type": "code",
        "id": "XON1KW9aZKb-",
        "outputId": "4a50376d-d325-4f98-98d8-3397cc70ab69",
        "colab": {
          "base_uri": "https://localhost:8080/",
          "height": 34
        }
      },
      "source": [
        "maxlen=max(final_dataset['len'])\n",
        "print(maxlen)"
      ],
      "execution_count": 0,
      "outputs": [
        {
          "output_type": "stream",
          "text": [
            "926\n"
          ],
          "name": "stdout"
        }
      ]
    },
    {
      "cell_type": "code",
      "metadata": {
        "colab_type": "code",
        "id": "1zVRYQvda0LO",
        "outputId": "55ab2488-dc0b-4631-dd3c-7b0b2a0f20b1",
        "colab": {
          "base_uri": "https://localhost:8080/",
          "height": 67
        }
      },
      "source": [
        "max_features = 50000\n",
        "maxlen = maxlen\n",
        "embedding_size = 200\n",
        "tokenizer = Tokenizer(num_words=max_features, filters='!\"#$%&()*+,-./:;<=>?@[\\]^_`{|}~', lower=True)\n",
        "tokenizer.fit_on_texts(final_dataset['Combined description'].values)\n",
        "X = tokenizer.texts_to_sequences(final_dataset['Combined description'].values)\n",
        "X = pad_sequences(X, maxlen=maxlen)\n",
        "print('Shape of data tensor:', X.shape)\n",
        "Y = pd.get_dummies(final_dataset['Assignment group']).values\n",
        "print('Shape of label tensor:', Y.shape)\n",
        "## Get the Vocabulary size\n",
        "num_words = len(tokenizer.word_index) + 1\n",
        "print(num_words)"
      ],
      "execution_count": 0,
      "outputs": [
        {
          "output_type": "stream",
          "text": [
            "Shape of data tensor: (8239, 926)\n",
            "Shape of label tensor: (8239, 74)\n",
            "15139\n"
          ],
          "name": "stdout"
        }
      ]
    },
    {
      "cell_type": "code",
      "metadata": {
        "colab_type": "code",
        "id": "cU7P730XcGZA",
        "colab": {}
      },
      "source": [
        "# Get the Word Embeddings using Embedding file\n",
        "EMBEDDING_FILE = './glove.6B.200d.txt'\n",
        "\n",
        "embeddings = {}\n",
        "for o in open(EMBEDDING_FILE):\n",
        "    word = o.split(\" \")[0]\n",
        "    # print(word)\n",
        "    embd = o.split(\" \")[1:]\n",
        "    embd = np.asarray(embd, dtype='float32')\n",
        "    # print(embd)\n",
        "    embeddings[word] = embd"
      ],
      "execution_count": 0,
      "outputs": []
    },
    {
      "cell_type": "code",
      "metadata": {
        "colab_type": "code",
        "id": "WPbb00uWcSf1",
        "outputId": "6d109040-e279-4178-c817-d26239e8046a",
        "colab": {
          "base_uri": "https://localhost:8080/",
          "height": 34
        }
      },
      "source": [
        "# Create a weight matrix for words in training docs\n",
        "embedding_matrix = np.zeros((num_words, embedding_size))\n",
        "\n",
        "for word, i in tokenizer.word_index.items():\n",
        "    embedding_vector = embeddings.get(word)\n",
        "    if embedding_vector is not None:\n",
        "        embedding_matrix[i] = embedding_vector\n",
        "\n",
        "len(embeddings.values())"
      ],
      "execution_count": 0,
      "outputs": [
        {
          "output_type": "execute_result",
          "data": {
            "text/plain": [
              "400000"
            ]
          },
          "metadata": {
            "tags": []
          },
          "execution_count": 70
        }
      ]
    },
    {
      "cell_type": "code",
      "metadata": {
        "colab_type": "code",
        "id": "NqlNnLCscamm",
        "outputId": "d0e07a3a-db1c-49b2-e868-3ca82fea9559",
        "colab": {
          "base_uri": "https://localhost:8080/",
          "height": 50
        }
      },
      "source": [
        "X_train3, X_test3, Y_train3, Y_test3 = train_test_split(X,Y, test_size = 0.10, random_state = 42)\n",
        "print(X_train3.shape,Y_train3.shape)\n",
        "print(X_test3.shape,Y_test3.shape)"
      ],
      "execution_count": 0,
      "outputs": [
        {
          "output_type": "stream",
          "text": [
            "(7415, 926) (7415, 74)\n",
            "(824, 926) (824, 74)\n"
          ],
          "name": "stdout"
        }
      ]
    },
    {
      "cell_type": "code",
      "metadata": {
        "colab_type": "code",
        "id": "arpjfrVwcqdw",
        "colab": {}
      },
      "source": [
        "import keras.backend as K\n",
        "def precision(y_true, y_pred): \n",
        "    true_positives = K.sum(K.round(K.clip(y_true * y_pred, 0, 1)))\n",
        "    predicted_positives = K.sum(K.round(K.clip(y_pred, 0, 1)))\n",
        "    precision = true_positives / (predicted_positives + K.epsilon())\n",
        "    return precision\n",
        "def recall(y_true, y_pred):\n",
        "    true_positives = K.sum(K.round(K.clip(y_true * y_pred, 0, 1)))\n",
        "    possible_positives = K.sum(K.round(K.clip(y_true, 0, 1)))\n",
        "    recall = true_positives / (possible_positives + K.epsilon())\n",
        "    return recall"
      ],
      "execution_count": 0,
      "outputs": []
    },
    {
      "cell_type": "markdown",
      "metadata": {
        "id": "2EMzQCBR9FEy",
        "colab_type": "text"
      },
      "source": [
        "## Model - BiLSTM with 200D glove embeddings built on bigger dataset with 8239 records"
      ]
    },
    {
      "cell_type": "code",
      "metadata": {
        "colab_type": "code",
        "id": "cdOlpXIpcc9V",
        "colab": {}
      },
      "source": [
        "# main model\n",
        "input = Input(shape=(maxlen,))\n",
        "model_emb_bilstm2 = Embedding(num_words,embedding_size,weights=[embedding_matrix],input_length=maxlen)(input)\n",
        "model_emb_bilstm2 =  Bidirectional (LSTM (200,return_sequences=True,dropout=0.50),merge_mode='concat')(model_emb_bilstm2)\n",
        "model_emb_bilstm2 = TimeDistributed(Dense(200,activation='relu'))(model_emb_bilstm2)\n",
        "model_emb_bilstm2 = Flatten()(model_emb_bilstm2)\n",
        "model_emb_bilstm2 = Dense(200,activation='relu')(model_emb_bilstm2)\n",
        "output = Dense(74,activation='softmax')(model_emb_bilstm2)\n",
        "model_emb_bilstm2 = Model(input,output)\n",
        "model_emb_bilstm2.compile(loss='categorical_crossentropy',optimizer='adam', metrics=['accuracy',precision,recall])"
      ],
      "execution_count": 0,
      "outputs": []
    },
    {
      "cell_type": "code",
      "metadata": {
        "colab_type": "code",
        "id": "cERI0XYTcf_V",
        "outputId": "8bb0e730-61f8-425f-fc9f-6b557e44c8cd",
        "colab": {
          "base_uri": "https://localhost:8080/",
          "height": 386
        }
      },
      "source": [
        "model_emb_bilstm2.summary()"
      ],
      "execution_count": 0,
      "outputs": [
        {
          "output_type": "stream",
          "text": [
            "Model: \"model_2\"\n",
            "_________________________________________________________________\n",
            "Layer (type)                 Output Shape              Param #   \n",
            "=================================================================\n",
            "input_3 (InputLayer)         [(None, 926)]             0         \n",
            "_________________________________________________________________\n",
            "embedding_3 (Embedding)      (None, 926, 200)          3027800   \n",
            "_________________________________________________________________\n",
            "bidirectional_2 (Bidirection (None, 926, 400)          641600    \n",
            "_________________________________________________________________\n",
            "time_distributed_2 (TimeDist (None, 926, 200)          80200     \n",
            "_________________________________________________________________\n",
            "flatten_2 (Flatten)          (None, 185200)            0         \n",
            "_________________________________________________________________\n",
            "dense_8 (Dense)              (None, 200)               37040200  \n",
            "_________________________________________________________________\n",
            "dense_9 (Dense)              (None, 74)                14874     \n",
            "=================================================================\n",
            "Total params: 40,804,674\n",
            "Trainable params: 40,804,674\n",
            "Non-trainable params: 0\n",
            "_________________________________________________________________\n"
          ],
          "name": "stdout"
        }
      ]
    },
    {
      "cell_type": "code",
      "metadata": {
        "colab_type": "code",
        "id": "X8d_i_p8d1hL",
        "outputId": "cf3519dd-1543-48a8-b643-e4a85349050c",
        "colab": {
          "base_uri": "https://localhost:8080/",
          "height": 406
        }
      },
      "source": [
        "import time\n",
        "batch_size = 256\n",
        "epochs = 10\n",
        "\n",
        "start = time.clock()\n",
        "history_emb_bilstm2 = model_emb_bilstm2.fit(X_train3, Y_train3, epochs=epochs, batch_size=batch_size,validation_split=0.1,callbacks=[EarlyStopping(monitor='val_loss', patience=3, min_delta=0.0001)])\n",
        "end  = time.clock()\n",
        "print('Duration taken: ',end-start,' secs')"
      ],
      "execution_count": 0,
      "outputs": [
        {
          "output_type": "stream",
          "text": [
            "Train on 6673 samples, validate on 742 samples\n",
            "Epoch 1/10\n",
            "6673/6673 [==============================] - 121s 18ms/sample - loss: 2.6258 - acc: 0.4818 - precision: 0.6385 - recall: 0.2846 - val_loss: 2.1455 - val_acc: 0.5202 - val_precision: 0.7923 - val_recall: 0.3473\n",
            "Epoch 2/10\n",
            "6673/6673 [==============================] - 120s 18ms/sample - loss: 1.9877 - acc: 0.5524 - precision: 0.7816 - recall: 0.3849 - val_loss: 1.8875 - val_acc: 0.5755 - val_precision: 0.8942 - val_recall: 0.3975\n",
            "Epoch 3/10\n",
            "6673/6673 [==============================] - 120s 18ms/sample - loss: 1.7447 - acc: 0.5810 - precision: 0.8177 - recall: 0.4442 - val_loss: 1.7617 - val_acc: 0.5836 - val_precision: 0.7584 - val_recall: 0.4964\n",
            "Epoch 4/10\n",
            "6673/6673 [==============================] - 119s 18ms/sample - loss: 1.5903 - acc: 0.6029 - precision: 0.8162 - recall: 0.4656 - val_loss: 1.6619 - val_acc: 0.5957 - val_precision: 0.7935 - val_recall: 0.5074\n",
            "Epoch 5/10\n",
            "6673/6673 [==============================] - 119s 18ms/sample - loss: 1.4238 - acc: 0.6355 - precision: 0.8286 - recall: 0.4934 - val_loss: 1.6444 - val_acc: 0.6011 - val_precision: 0.8320 - val_recall: 0.4662\n",
            "Epoch 6/10\n",
            "6673/6673 [==============================] - 119s 18ms/sample - loss: 1.3205 - acc: 0.6441 - precision: 0.8379 - recall: 0.5208 - val_loss: 1.6643 - val_acc: 0.5997 - val_precision: 0.8122 - val_recall: 0.5041\n",
            "Epoch 7/10\n",
            "6673/6673 [==============================] - 118s 18ms/sample - loss: 1.1568 - acc: 0.6820 - precision: 0.8494 - recall: 0.5527 - val_loss: 1.6212 - val_acc: 0.5997 - val_precision: 0.8064 - val_recall: 0.4708\n",
            "Epoch 8/10\n",
            "6673/6673 [==============================] - 117s 18ms/sample - loss: 1.0360 - acc: 0.7024 - precision: 0.8514 - recall: 0.5808 - val_loss: 1.7333 - val_acc: 0.6024 - val_precision: 0.7828 - val_recall: 0.5154\n",
            "Epoch 9/10\n",
            "6673/6673 [==============================] - 118s 18ms/sample - loss: 0.9015 - acc: 0.7452 - precision: 0.8731 - recall: 0.6317 - val_loss: 1.7903 - val_acc: 0.6038 - val_precision: 0.7052 - val_recall: 0.5483\n",
            "Epoch 10/10\n",
            "6673/6673 [==============================] - 115s 17ms/sample - loss: 0.7649 - acc: 0.7724 - precision: 0.8849 - recall: 0.6860 - val_loss: 1.8960 - val_acc: 0.6186 - val_precision: 0.7433 - val_recall: 0.5426\n",
            "Duration taken:  2538.268091  secs\n"
          ],
          "name": "stdout"
        }
      ]
    },
    {
      "cell_type": "code",
      "metadata": {
        "colab_type": "code",
        "id": "595Kb1mFe1b6",
        "outputId": "9960397d-f466-4609-b576-295b298ffda5",
        "colab": {
          "base_uri": "https://localhost:8080/",
          "height": 34
        }
      },
      "source": [
        "# list all data in history\n",
        "print(history_emb_bilstm2.history.keys())"
      ],
      "execution_count": 0,
      "outputs": [
        {
          "output_type": "stream",
          "text": [
            "dict_keys(['loss', 'acc', 'precision', 'recall', 'val_loss', 'val_acc', 'val_precision', 'val_recall'])\n"
          ],
          "name": "stdout"
        }
      ]
    },
    {
      "cell_type": "code",
      "metadata": {
        "colab_type": "code",
        "id": "ukFSWUuJe1gZ",
        "outputId": "05b20435-8735-4661-beff-d397fe927563",
        "colab": {
          "base_uri": "https://localhost:8080/",
          "height": 1000
        }
      },
      "source": [
        "from matplotlib import pyplot as plt\n",
        "try:\n",
        "  plt.plot(history_emb_bilstm2.history['accuracy'])\n",
        "  plt.plot(history_emb_bilstm2.history['val_accuracy'])\n",
        "except:\n",
        "  plt.plot(history_emb_bilstm2.history['acc'])\n",
        "  plt.plot(history_emb_bilstm2.history['val_acc'])\n",
        "plt.title('model accuracy')\n",
        "plt.ylabel('accuracy')\n",
        "plt.xlabel('epoch')\n",
        "plt.legend(['train', 'test'], loc='upper left')\n",
        "plt.show()\n",
        "# summarize history for loss\n",
        "plt.plot(history_emb_bilstm2.history['loss'])\n",
        "plt.plot(history_emb_bilstm2.history['val_loss'])\n",
        "plt.title('model loss')\n",
        "plt.ylabel('loss')\n",
        "plt.xlabel('epoch')\n",
        "plt.legend(['train', 'test'], loc='upper left')\n",
        "plt.show()\n",
        "# summarize history for mse\n",
        "plt.plot(history_emb_bilstm2.history['precision'])\n",
        "plt.plot(history_emb_bilstm2.history['val_precision'])\n",
        "plt.title('model precision')\n",
        "plt.ylabel('precision')\n",
        "plt.xlabel('epoch')\n",
        "plt.legend(['train', 'test'], loc='upper left')\n",
        "plt.show()\n",
        "# summarize history for mae\n",
        "plt.plot(history_emb_bilstm2.history['recall'])\n",
        "plt.plot(history_emb_bilstm2.history['val_recall'])\n",
        "plt.title('model recall')\n",
        "plt.ylabel('recall')\n",
        "plt.xlabel('epoch')\n",
        "plt.legend(['train', 'test'], loc='upper left')\n",
        "plt.show()"
      ],
      "execution_count": 0,
      "outputs": [
        {
          "output_type": "display_data",
          "data": {
            "image/png": "[encoded data removed]",
            "text/plain": [
              "<Figure size 432x288 with 1 Axes>"
            ]
          },
          "metadata": {
            "tags": []
          }
        },
        {
          "output_type": "display_data",
          "data": {
            "image/png": "[encoded data removed]",
            "text/plain": [
              "<Figure size 432x288 with 1 Axes>"
            ]
          },
          "metadata": {
            "tags": []
          }
        },
        {
          "output_type": "display_data",
          "data": {
            "image/png": "[encoded data removed]",
            "text/plain": [
              "<Figure size 432x288 with 1 Axes>"
            ]
          },
          "metadata": {
            "tags": []
          }
        },
        {
          "output_type": "display_data",
          "data": {
            "image/png": "[encoded data removed]",
            "text/plain": [
              "<Figure size 432x288 with 1 Axes>"
            ]
          },
          "metadata": {
            "tags": []
          }
        }
      ]
    },
    {
      "cell_type": "code",
      "metadata": {
        "colab_type": "code",
        "id": "wkSnTsuYe1jk",
        "outputId": "4ec5c82e-2fa8-46bc-b423-55be4f2b77aa",
        "colab": {
          "base_uri": "https://localhost:8080/",
          "height": 50
        }
      },
      "source": [
        "# Test accuracy\n",
        "accuracy = model_emb_bilstm2.evaluate(X_test3,Y_test3)\n",
        "print('Test Accuracy: %.2f%%' %(accuracy[1]*100))"
      ],
      "execution_count": 0,
      "outputs": [
        {
          "output_type": "stream",
          "text": [
            "824/824 [==============================] - 17s 21ms/sample - loss: 1.8825 - acc: 0.6189 - precision: 0.7187 - recall: 0.5473\n",
            "Test Accuracy: 61.89%\n"
          ],
          "name": "stdout"
        }
      ]
    },
    {
      "cell_type": "code",
      "metadata": {
        "colab_type": "code",
        "id": "aaLekxI1e1m2",
        "outputId": "a38b0074-89b8-4b85-9b31-f915770d416f",
        "colab": {
          "base_uri": "https://localhost:8080/",
          "height": 134
        }
      },
      "source": [
        "# Getting the confusion matrix\n",
        "pred = model_emb_bilstm2.predict(X_test3)\n",
        "matrix = metrics.confusion_matrix(Y_test3.argmax(axis=1), pred.argmax(axis=1))\n",
        "print(matrix)"
      ],
      "execution_count": 0,
      "outputs": [
        {
          "output_type": "stream",
          "text": [
            "[[335   0   1 ...   0   0   0]\n",
            " [  0   0   0 ...   0   1   0]\n",
            " [  0   0   2 ...   0   0   0]\n",
            " ...\n",
            " [  0   0   0 ...   0   0   0]\n",
            " [  0   0   1 ...   0  40  15]\n",
            " [  8   0   1 ...   0   0  15]]\n"
          ],
          "name": "stdout"
        }
      ]
    },
    {
      "cell_type": "code",
      "metadata": {
        "colab_type": "code",
        "id": "vzchVTb3e1pJ",
        "outputId": "4c6033cd-3571-4990-aaae-4e94c824c3bc",
        "colab": {
          "base_uri": "https://localhost:8080/",
          "height": 34
        }
      },
      "source": [
        "# Saving this model\n",
        "model_emb_bilstm2.save(\"model_emb_bilstm2.h5\")\n",
        "print(\"Saved model_emb_bilstm2 to disk\")"
      ],
      "execution_count": 0,
      "outputs": [
        {
          "output_type": "stream",
          "text": [
            "Saved model_emb_bilstm2 to disk\n"
          ],
          "name": "stdout"
        }
      ]
    },
    {
      "cell_type": "markdown",
      "metadata": {
        "colab_type": "text",
        "id": "q3KDmN_QoD3h"
      },
      "source": [
        "# Model - BiLSTM with 300D glove embeddings , additional dense layer, 8239 records"
      ]
    },
    {
      "cell_type": "code",
      "metadata": {
        "colab_type": "code",
        "id": "5lh_Y6gtoQiF",
        "outputId": "93114833-d453-4e5c-bc4e-8c9a84ce4cf5",
        "colab": {
          "base_uri": "https://localhost:8080/",
          "height": 67
        }
      },
      "source": [
        "max_features = 50000\n",
        "maxlen = maxlen\n",
        "embedding_size = 300\n",
        "tokenizer = Tokenizer(num_words=max_features, filters='!\"#$%&()*+,-./:;<=>?@[\\]^_`{|}~', lower=True)\n",
        "tokenizer.fit_on_texts(final_dataset['Combined description'].values)\n",
        "X = tokenizer.texts_to_sequences(final_dataset['Combined description'].values)\n",
        "X = pad_sequences(X, maxlen=maxlen)\n",
        "print('Shape of data tensor:', X.shape)\n",
        "Y = pd.get_dummies(final_dataset['Assignment group']).values\n",
        "print('Shape of label tensor:', Y.shape)\n",
        "## Get the Vocabulary size\n",
        "num_words = len(tokenizer.word_index) + 1\n",
        "print(num_words)"
      ],
      "execution_count": 0,
      "outputs": [
        {
          "output_type": "stream",
          "text": [
            "Shape of data tensor: (8239, 926)\n",
            "Shape of label tensor: (8239, 74)\n",
            "15139\n"
          ],
          "name": "stdout"
        }
      ]
    },
    {
      "cell_type": "code",
      "metadata": {
        "colab_type": "code",
        "id": "CqhtXY3voQiR",
        "colab": {}
      },
      "source": [
        "# Get the Word Embeddings using Embedding file\n",
        "EMBEDDING_FILE = './glove.6B.300d.txt'\n",
        "\n",
        "embeddings = {}\n",
        "for o in open(EMBEDDING_FILE):\n",
        "    word = o.split(\" \")[0]\n",
        "    # print(word)\n",
        "    embd = o.split(\" \")[1:]\n",
        "    embd = np.asarray(embd, dtype='float32')\n",
        "    # print(embd)\n",
        "    embeddings[word] = embd"
      ],
      "execution_count": 0,
      "outputs": []
    },
    {
      "cell_type": "code",
      "metadata": {
        "colab_type": "code",
        "id": "dY4cR0uQoQiW",
        "outputId": "26bb4753-a29f-40dd-b240-92a2ea46f472",
        "colab": {
          "base_uri": "https://localhost:8080/",
          "height": 34
        }
      },
      "source": [
        "# Create a weight matrix for words in training docs\n",
        "embedding_matrix = np.zeros((num_words, embedding_size))\n",
        "\n",
        "for word, i in tokenizer.word_index.items():\n",
        "    embedding_vector = embeddings.get(word)\n",
        "    if embedding_vector is not None:\n",
        "        embedding_matrix[i] = embedding_vector\n",
        "\n",
        "len(embeddings.values())"
      ],
      "execution_count": 0,
      "outputs": [
        {
          "output_type": "execute_result",
          "data": {
            "text/plain": [
              "400000"
            ]
          },
          "metadata": {
            "tags": []
          },
          "execution_count": 83
        }
      ]
    },
    {
      "cell_type": "code",
      "metadata": {
        "colab_type": "code",
        "id": "HYSXPGnloQiZ",
        "outputId": "f1a85127-f197-414c-90e7-f21ff8e1bbad",
        "colab": {
          "base_uri": "https://localhost:8080/",
          "height": 50
        }
      },
      "source": [
        "X_train4, X_test4, Y_train4, Y_test4 = train_test_split(X,Y, test_size = 0.10, random_state = 42)\n",
        "print(X_train4.shape,Y_train4.shape)\n",
        "print(X_test4.shape,Y_test4.shape)"
      ],
      "execution_count": 0,
      "outputs": [
        {
          "output_type": "stream",
          "text": [
            "(7415, 926) (7415, 74)\n",
            "(824, 926) (824, 74)\n"
          ],
          "name": "stdout"
        }
      ]
    },
    {
      "cell_type": "code",
      "metadata": {
        "colab_type": "code",
        "id": "e8R-MK-AoQic",
        "colab": {}
      },
      "source": [
        "import keras.backend as K\n",
        "def precision(y_true, y_pred): \n",
        "    true_positives = K.sum(K.round(K.clip(y_true * y_pred, 0, 1)))\n",
        "    predicted_positives = K.sum(K.round(K.clip(y_pred, 0, 1)))\n",
        "    precision = true_positives / (predicted_positives + K.epsilon())\n",
        "    return precision\n",
        "def recall(y_true, y_pred):\n",
        "    true_positives = K.sum(K.round(K.clip(y_true * y_pred, 0, 1)))\n",
        "    possible_positives = K.sum(K.round(K.clip(y_true, 0, 1)))\n",
        "    recall = true_positives / (possible_positives + K.epsilon())\n",
        "    return recall"
      ],
      "execution_count": 0,
      "outputs": []
    },
    {
      "cell_type": "code",
      "metadata": {
        "colab_type": "code",
        "id": "8ZKYTaIYoQie",
        "colab": {}
      },
      "source": [
        "# main model\n",
        "input = Input(shape=(maxlen,))\n",
        "model_emb_bilstm3 = Embedding(num_words,embedding_size,weights=[embedding_matrix],input_length=maxlen)(input)\n",
        "model_emb_bilstm3 =  Bidirectional (LSTM (300,return_sequences=True,dropout=0.50),merge_mode='concat')(model_emb_bilstm3)\n",
        "model_emb_bilstm3 = TimeDistributed(Dense(300,activation='relu'))(model_emb_bilstm3)\n",
        "model_emb_bilstm3 = Flatten()(model_emb_bilstm3)\n",
        "model_emb_bilstm3 = Dense(300,activation='relu')(model_emb_bilstm3)\n",
        "model_emb_bilstm3 = Flatten()(model_emb_bilstm3)\n",
        "model_emb_bilstm3 = Dense(187,activation='relu')(model_emb_bilstm3)\n",
        "output = Dense(74,activation='softmax')(model_emb_bilstm3)\n",
        "model_emb_bilstm3 = Model(input,output)\n",
        "model_emb_bilstm3.compile(loss='categorical_crossentropy',optimizer='adam', metrics=['accuracy',precision,recall])"
      ],
      "execution_count": 0,
      "outputs": []
    },
    {
      "cell_type": "code",
      "metadata": {
        "colab_type": "code",
        "id": "I5uTOJF0oQig",
        "outputId": "af965a9a-bc7e-4f7c-f6df-5d39e75781fe",
        "colab": {
          "base_uri": "https://localhost:8080/",
          "height": 454
        }
      },
      "source": [
        "model_emb_bilstm3.summary()"
      ],
      "execution_count": 0,
      "outputs": [
        {
          "output_type": "stream",
          "text": [
            "Model: \"model_3\"\n",
            "_________________________________________________________________\n",
            "Layer (type)                 Output Shape              Param #   \n",
            "=================================================================\n",
            "input_4 (InputLayer)         [(None, 926)]             0         \n",
            "_________________________________________________________________\n",
            "embedding_4 (Embedding)      (None, 926, 300)          4541700   \n",
            "_________________________________________________________________\n",
            "bidirectional_3 (Bidirection (None, 926, 600)          1442400   \n",
            "_________________________________________________________________\n",
            "time_distributed_3 (TimeDist (None, 926, 300)          180300    \n",
            "_________________________________________________________________\n",
            "flatten_3 (Flatten)          (None, 277800)            0         \n",
            "_________________________________________________________________\n",
            "dense_11 (Dense)             (None, 300)               83340300  \n",
            "_________________________________________________________________\n",
            "flatten_4 (Flatten)          (None, 300)               0         \n",
            "_________________________________________________________________\n",
            "dense_12 (Dense)             (None, 187)               56287     \n",
            "_________________________________________________________________\n",
            "dense_13 (Dense)             (None, 74)                13912     \n",
            "=================================================================\n",
            "Total params: 89,574,899\n",
            "Trainable params: 89,574,899\n",
            "Non-trainable params: 0\n",
            "_________________________________________________________________\n"
          ],
          "name": "stdout"
        }
      ]
    },
    {
      "cell_type": "code",
      "metadata": {
        "colab_type": "code",
        "id": "X0bAKnrgoQii",
        "outputId": "24c99cab-1ece-4a21-ef69-e0556b0cc1f0",
        "colab": {
          "base_uri": "https://localhost:8080/",
          "height": 339
        }
      },
      "source": [
        "import time\n",
        "batch_size = 256\n",
        "epochs = 10\n",
        "\n",
        "start = time.clock()\n",
        "history_emb_bilstm3 = model_emb_bilstm3.fit(X_train4, Y_train4, epochs=epochs, batch_size=batch_size,validation_split=0.1,callbacks=[EarlyStopping(monitor='val_loss', patience=3, min_delta=0.0001)])\n",
        "end  = time.clock()\n",
        "print('Duration taken: ',end-start,' secs')"
      ],
      "execution_count": 0,
      "outputs": [
        {
          "output_type": "stream",
          "text": [
            "Train on 6673 samples, validate on 742 samples\n",
            "Epoch 1/10\n",
            "6673/6673 [==============================] - 164s 25ms/sample - loss: 2.6677 - acc: 0.4740 - precision: 0.6640 - recall: 0.2822 - val_loss: 2.1304 - val_acc: 0.5027 - val_precision: 0.7360 - val_recall: 0.4380\n",
            "Epoch 2/10\n",
            "6673/6673 [==============================] - 160s 24ms/sample - loss: 1.9618 - acc: 0.5506 - precision: 0.7926 - recall: 0.4034 - val_loss: 1.8534 - val_acc: 0.5566 - val_precision: 0.8448 - val_recall: 0.4262\n",
            "Epoch 3/10\n",
            "6673/6673 [==============================] - 158s 24ms/sample - loss: 1.7189 - acc: 0.5855 - precision: 0.8121 - recall: 0.4383 - val_loss: 1.7193 - val_acc: 0.5849 - val_precision: 0.8523 - val_recall: 0.4631\n",
            "Epoch 4/10\n",
            "6673/6673 [==============================] - 160s 24ms/sample - loss: 1.5217 - acc: 0.6101 - precision: 0.8490 - recall: 0.4761 - val_loss: 1.6125 - val_acc: 0.6092 - val_precision: 0.8030 - val_recall: 0.5078\n",
            "Epoch 5/10\n",
            "6673/6673 [==============================] - 158s 24ms/sample - loss: 1.3504 - acc: 0.6364 - precision: 0.8431 - recall: 0.5218 - val_loss: 1.5837 - val_acc: 0.6024 - val_precision: 0.8120 - val_recall: 0.4960\n",
            "Epoch 6/10\n",
            "6673/6673 [==============================] - 159s 24ms/sample - loss: 1.1654 - acc: 0.6784 - precision: 0.8640 - recall: 0.5585 - val_loss: 1.6141 - val_acc: 0.6132 - val_precision: 0.7496 - val_recall: 0.5236\n",
            "Epoch 7/10\n",
            "6673/6673 [==============================] - 159s 24ms/sample - loss: 0.9965 - acc: 0.7156 - precision: 0.8623 - recall: 0.6077 - val_loss: 1.6587 - val_acc: 0.6173 - val_precision: 0.7889 - val_recall: 0.5243\n",
            "Epoch 8/10\n",
            "6673/6673 [==============================] - 158s 24ms/sample - loss: 0.8896 - acc: 0.7427 - precision: 0.8736 - recall: 0.6417 - val_loss: 1.7217 - val_acc: 0.6213 - val_precision: 0.7507 - val_recall: 0.5456\n",
            "Duration taken:  3293.9696859999995  secs\n"
          ],
          "name": "stdout"
        }
      ]
    },
    {
      "cell_type": "code",
      "metadata": {
        "colab_type": "code",
        "id": "aT5R91_foQik",
        "outputId": "8f461645-3e16-457d-cf8a-c75e8ad46f17",
        "colab": {
          "base_uri": "https://localhost:8080/",
          "height": 34
        }
      },
      "source": [
        "# list all data in history\n",
        "print(history_emb_bilstm3.history.keys())"
      ],
      "execution_count": 0,
      "outputs": [
        {
          "output_type": "stream",
          "text": [
            "dict_keys(['loss', 'acc', 'precision', 'recall', 'val_loss', 'val_acc', 'val_precision', 'val_recall'])\n"
          ],
          "name": "stdout"
        }
      ]
    },
    {
      "cell_type": "code",
      "metadata": {
        "colab_type": "code",
        "id": "Psk009PboQim",
        "outputId": "00f09959-0360-4e27-9654-daec35087e54",
        "colab": {
          "base_uri": "https://localhost:8080/",
          "height": 1000
        }
      },
      "source": [
        "from matplotlib import pyplot as plt\n",
        "try:\n",
        "  plt.plot(history_emb_bilstm3.history['accuracy'])\n",
        "  plt.plot(history_emb_bilstm3.history['val_accuracy'])\n",
        "except:\n",
        "  plt.plot(history_emb_bilstm3.history['acc'])\n",
        "  plt.plot(history_emb_bilstm3.history['val_acc'])\n",
        "plt.title('model accuracy')\n",
        "plt.ylabel('accuracy')\n",
        "plt.xlabel('epoch')\n",
        "plt.legend(['train', 'test'], loc='upper left')\n",
        "plt.show()\n",
        "# summarize history for loss\n",
        "plt.plot(history_emb_bilstm3.history['loss'])\n",
        "plt.plot(history_emb_bilstm3.history['val_loss'])\n",
        "plt.title('model loss')\n",
        "plt.ylabel('loss')\n",
        "plt.xlabel('epoch')\n",
        "plt.legend(['train', 'test'], loc='upper left')\n",
        "plt.show()\n",
        "# summarize history for mse\n",
        "plt.plot(history_emb_bilstm3.history['precision'])\n",
        "plt.plot(history_emb_bilstm3.history['val_precision'])\n",
        "plt.title('model precision')\n",
        "plt.ylabel('precision')\n",
        "plt.xlabel('epoch')\n",
        "plt.legend(['train', 'test'], loc='upper left')\n",
        "plt.show()\n",
        "# summarize history for mae\n",
        "plt.plot(history_emb_bilstm3.history['recall'])\n",
        "plt.plot(history_emb_bilstm3.history['val_recall'])\n",
        "plt.title('model recall')\n",
        "plt.ylabel('recall')\n",
        "plt.xlabel('epoch')\n",
        "plt.legend(['train', 'test'], loc='upper left')\n",
        "plt.show()"
      ],
      "execution_count": 0,
      "outputs": [
        {
          "output_type": "display_data",
          "data": {
            "image/png": "[encoded data removed]",
            "text/plain": [
              "<Figure size 432x288 with 1 Axes>"
            ]
          },
          "metadata": {
            "tags": []
          }
        },
        {
          "output_type": "display_data",
          "data": {
            "image/png": "[encoded data removed]",
            "text/plain": [
              "<Figure size 432x288 with 1 Axes>"
            ]
          },
          "metadata": {
            "tags": []
          }
        },
        {
          "output_type": "display_data",
          "data": {
            "image/png": "[encoded data removed]",
            "text/plain": [
              "<Figure size 432x288 with 1 Axes>"
            ]
          },
          "metadata": {
            "tags": []
          }
        },
        {
          "output_type": "display_data",
          "data": {
            "image/png": "[encoded data removed]",
            "text/plain": [
              "<Figure size 432x288 with 1 Axes>"
            ]
          },
          "metadata": {
            "tags": []
          }
        }
      ]
    },
    {
      "cell_type": "code",
      "metadata": {
        "colab_type": "code",
        "id": "mZEhe7SwoQin",
        "outputId": "8cd086f7-5686-40e7-b42d-5c5c949a5ead",
        "colab": {
          "base_uri": "https://localhost:8080/",
          "height": 50
        }
      },
      "source": [
        "# Test accuracy\n",
        "accuracy = model_emb_bilstm3.evaluate(X_test4,Y_test4)\n",
        "print('Test Accuracy: %.2f%%' %(accuracy[1]*100))"
      ],
      "execution_count": 0,
      "outputs": [
        {
          "output_type": "stream",
          "text": [
            "824/824 [==============================] - 19s 23ms/sample - loss: 1.7724 - acc: 0.6214 - precision: 0.7440 - recall: 0.5549\n",
            "Test Accuracy: 62.14%\n"
          ],
          "name": "stdout"
        }
      ]
    },
    {
      "cell_type": "code",
      "metadata": {
        "colab_type": "code",
        "id": "c8iigSKCoQip",
        "outputId": "734d5808-6e17-4756-9f56-19e5447820aa",
        "colab": {
          "base_uri": "https://localhost:8080/",
          "height": 134
        }
      },
      "source": [
        "# Getting the confusion matrix\n",
        "pred = model_emb_bilstm3.predict(X_test4)\n",
        "matrix = metrics.confusion_matrix(Y_test4.argmax(axis=1), pred.argmax(axis=1))\n",
        "print(matrix)"
      ],
      "execution_count": 0,
      "outputs": [
        {
          "output_type": "stream",
          "text": [
            "[[319   0   1 ...   0   0   0]\n",
            " [  0   0   0 ...   0   1   0]\n",
            " [  0   0   2 ...   0   0   0]\n",
            " ...\n",
            " [  0   0   0 ...   0   0   0]\n",
            " [  0   0   1 ...   0  55   1]\n",
            " [  4   0   0 ...   0  12   6]]\n"
          ],
          "name": "stdout"
        }
      ]
    },
    {
      "cell_type": "code",
      "metadata": {
        "colab_type": "code",
        "id": "TzB9O5D2oQir",
        "outputId": "642f3570-6efb-4fe9-dfe7-9a9545aaac09",
        "colab": {
          "base_uri": "https://localhost:8080/",
          "height": 34
        }
      },
      "source": [
        "# Saving this model\n",
        "model_emb_bilstm3.save(\"model_emb_bilstm3.h5\")\n",
        "print(\"Saved model_emb_bilstm3 to disk\")"
      ],
      "execution_count": 0,
      "outputs": [
        {
          "output_type": "stream",
          "text": [
            "Saved model_emb_bilstm3 to disk\n"
          ],
          "name": "stdout"
        }
      ]
    },
    {
      "cell_type": "code",
      "metadata": {
        "colab_type": "code",
        "id": "LPrXy2OoxUzB",
        "colab": {}
      },
      "source": [
        "# On getting low accuracy we will try to upsample the dataset"
      ],
      "execution_count": 0,
      "outputs": []
    },
    {
      "cell_type": "markdown",
      "metadata": {
        "colab_type": "text",
        "id": "4kPykf8wzlID"
      },
      "source": [
        "## Upsampling the groups having less than 500 records to 500 records"
      ]
    },
    {
      "cell_type": "code",
      "metadata": {
        "colab_type": "code",
        "id": "gl1PdVqY4eXB",
        "colab": {}
      },
      "source": [
        "# Loaded the final translated data\n",
        "pkl_file = open('final_processed_dataset.pkl', 'rb')\n",
        "final_dataset = pickle.load(pkl_file)\n",
        "\n",
        "pkl_file.close()"
      ],
      "execution_count": 0,
      "outputs": []
    },
    {
      "cell_type": "code",
      "metadata": {
        "colab_type": "code",
        "id": "HXh9CY1TxaEN",
        "colab": {}
      },
      "source": [
        "from sklearn.utils import resample"
      ],
      "execution_count": 0,
      "outputs": []
    },
    {
      "cell_type": "code",
      "metadata": {
        "colab_type": "code",
        "id": "wbCMwIUv3Kji",
        "outputId": "bc46fca1-11ea-468c-b031-f62c7a80bd4f",
        "colab": {
          "base_uri": "https://localhost:8080/",
          "height": 185
        }
      },
      "source": [
        "labels = final_dataset['Assignment group'].unique()\n",
        "print(labels)"
      ],
      "execution_count": 0,
      "outputs": [
        {
          "output_type": "stream",
          "text": [
            "['GRP_0' 'GRP_1' 'GRP_3' 'GRP_4' 'GRP_5' 'GRP_6' 'GRP_7' 'GRP_8' 'GRP_9'\n",
            " 'GRP_10' 'GRP_11' 'GRP_12' 'GRP_13' 'GRP_14' 'GRP_15' 'GRP_16' 'GRP_17'\n",
            " 'GRP_19' 'GRP_20' 'GRP_21' 'GRP_22' 'GRP_2' 'GRP_23' 'GRP_18' 'GRP_25'\n",
            " 'GRP_26' 'GRP_27' 'GRP_28' 'GRP_24' 'GRP_29' 'GRP_31' 'GRP_33' 'GRP_34'\n",
            " 'GRP_35' 'GRP_36' 'GRP_37' 'GRP_40' 'GRP_41' 'GRP_42' 'GRP_43' 'GRP_44'\n",
            " 'GRP_45' 'GRP_46' 'GRP_47' 'GRP_50' 'GRP_51' 'GRP_52' 'GRP_53' 'GRP_39'\n",
            " 'GRP_54' 'GRP_55' 'GRP_57' 'GRP_58' 'GRP_59' 'GRP_60' 'GRP_61' 'GRP_32'\n",
            " 'GRP_56' 'GRP_63' 'GRP_64' 'GRP_62' 'GRP_48' 'GRP_65' 'GRP_30' 'GRP_38'\n",
            " 'GRP_49' 'GRP_66' 'GRP_67' 'GRP_68' 'GRP_69' 'GRP_70' 'GRP_71' 'GRP_72'\n",
            " 'GRP_73']\n"
          ],
          "name": "stdout"
        }
      ]
    },
    {
      "cell_type": "code",
      "metadata": {
        "colab_type": "code",
        "id": "ASncjpsQ6L5g",
        "outputId": "d3511b1a-31c9-4c62-8a9d-07da8393fc11",
        "colab": {
          "base_uri": "https://localhost:8080/",
          "height": 218
        }
      },
      "source": [
        "# Looking at the numbers of different records\n",
        "final_dataset['Assignment group'].value_counts()"
      ],
      "execution_count": 0,
      "outputs": [
        {
          "output_type": "execute_result",
          "data": {
            "text/plain": [
              "GRP_0     3715\n",
              "GRP_8      661\n",
              "GRP_24     289\n",
              "GRP_12     257\n",
              "GRP_9      252\n",
              "          ... \n",
              "GRP_64       1\n",
              "GRP_61       1\n",
              "GRP_67       1\n",
              "GRP_35       1\n",
              "GRP_70       1\n",
              "Name: Assignment group, Length: 74, dtype: int64"
            ]
          },
          "metadata": {
            "tags": []
          },
          "execution_count": 10
        }
      ]
    },
    {
      "cell_type": "code",
      "metadata": {
        "colab_type": "code",
        "id": "D5yjfp7O6SZJ",
        "outputId": "a37493ac-63fb-4e7e-97de-0637b4b83ad2",
        "colab": {
          "base_uri": "https://localhost:8080/",
          "height": 34
        }
      },
      "source": [
        "final_dataset[final_dataset['Assignment group']=='GRP_0'].shape[0]"
      ],
      "execution_count": 0,
      "outputs": [
        {
          "output_type": "execute_result",
          "data": {
            "text/plain": [
              "3715"
            ]
          },
          "metadata": {
            "tags": []
          },
          "execution_count": 11
        }
      ]
    },
    {
      "cell_type": "code",
      "metadata": {
        "colab_type": "code",
        "id": "8HCXqxpi-Jj4",
        "colab": {}
      },
      "source": [
        "df = final_dataset.copy()"
      ],
      "execution_count": 0,
      "outputs": []
    },
    {
      "cell_type": "code",
      "metadata": {
        "colab_type": "code",
        "id": "1arffmGc9oSJ",
        "colab": {}
      },
      "source": [
        "frames = []"
      ],
      "execution_count": 0,
      "outputs": []
    },
    {
      "cell_type": "code",
      "metadata": {
        "colab_type": "code",
        "id": "qER-0CU4_q9Q",
        "outputId": "69f4fbae-0ebb-4024-e8fd-b3f42b5d805d",
        "colab": {
          "base_uri": "https://localhost:8080/",
          "height": 34
        }
      },
      "source": [
        "labels[0]"
      ],
      "execution_count": 0,
      "outputs": [
        {
          "output_type": "execute_result",
          "data": {
            "text/plain": [
              "'GRP_0'"
            ]
          },
          "metadata": {
            "tags": []
          },
          "execution_count": 14
        }
      ]
    },
    {
      "cell_type": "code",
      "metadata": {
        "colab_type": "code",
        "id": "uJSAxs8M_-4v",
        "outputId": "9436bd1c-1c4b-489e-edea-7edc5eb3cd2f",
        "colab": {
          "base_uri": "https://localhost:8080/",
          "height": 34
        }
      },
      "source": [
        "df[df['Assignment group']==labels[0]].shape[0]>3715"
      ],
      "execution_count": 0,
      "outputs": [
        {
          "output_type": "execute_result",
          "data": {
            "text/plain": [
              "False"
            ]
          },
          "metadata": {
            "tags": []
          },
          "execution_count": 15
        }
      ]
    },
    {
      "cell_type": "code",
      "metadata": {
        "colab_type": "code",
        "id": "Kq5o4sgI7WSc",
        "colab": {}
      },
      "source": [
        "# The groups which has less than 500 entries are upsampled to have 500 entries.\n",
        "for x in labels:\n",
        "  if df[df['Assignment group']==x].shape[0]>500:\n",
        "    frames.append(df[df['Assignment group']==x])\n",
        "  else:\n",
        "    frames.append(resample(df[df['Assignment group']==x],replace=True,n_samples=500,random_state=123))"
      ],
      "execution_count": 0,
      "outputs": []
    },
    {
      "cell_type": "code",
      "metadata": {
        "colab_type": "code",
        "id": "prqlo5u58Z7Q",
        "colab": {}
      },
      "source": [
        "# Merging all upsampled and downsampled data into one master dataset\n",
        "master_dataset = pd.concat(frames)"
      ],
      "execution_count": 0,
      "outputs": []
    },
    {
      "cell_type": "code",
      "metadata": {
        "colab_type": "code",
        "id": "rxZm9OLM31SI",
        "colab": {}
      },
      "source": [
        "# Shuffling the dataset\n",
        "master_dataset = master_dataset.sample(frac=1).reset_index(drop=True)"
      ],
      "execution_count": 0,
      "outputs": []
    },
    {
      "cell_type": "code",
      "metadata": {
        "colab_type": "code",
        "id": "_Eh4yBLS_Y2y",
        "outputId": "bafb0af3-9cd7-4bad-a0b4-5a584a511d9f",
        "colab": {
          "base_uri": "https://localhost:8080/",
          "height": 168
        }
      },
      "source": [
        "# Checking the dataset\n",
        "master_dataset.info() # The dataset has been upsampled from 8239 records to 40376 records"
      ],
      "execution_count": 0,
      "outputs": [
        {
          "output_type": "stream",
          "text": [
            "<class 'pandas.core.frame.DataFrame'>\n",
            "RangeIndex: 40376 entries, 0 to 40375\n",
            "Data columns (total 4 columns):\n",
            "Caller                  40376 non-null object\n",
            "Combined description    40376 non-null object\n",
            "Assignment group        40376 non-null object\n",
            "len                     40376 non-null int64\n",
            "dtypes: int64(1), object(3)\n",
            "memory usage: 1.2+ MB\n"
          ],
          "name": "stdout"
        }
      ]
    },
    {
      "cell_type": "code",
      "metadata": {
        "colab_type": "code",
        "id": "QOySuwsgif04",
        "outputId": "401cd806-cd79-4c7e-9e42-644a00f318b1",
        "colab": {
          "base_uri": "https://localhost:8080/",
          "height": 185
        }
      },
      "source": [
        "# looking at the different unique labels and their ordering after shuffling\n",
        "labels = master_dataset['Assignment group'].unique()\n",
        "print(labels)"
      ],
      "execution_count": 0,
      "outputs": [
        {
          "output_type": "stream",
          "text": [
            "['GRP_0' 'GRP_66' 'GRP_72' 'GRP_49' 'GRP_25' 'GRP_73' 'GRP_68' 'GRP_39'\n",
            " 'GRP_27' 'GRP_45' 'GRP_13' 'GRP_29' 'GRP_40' 'GRP_60' 'GRP_17' 'GRP_50'\n",
            " 'GRP_58' 'GRP_65' 'GRP_21' 'GRP_26' 'GRP_70' 'GRP_5' 'GRP_15' 'GRP_43'\n",
            " 'GRP_63' 'GRP_62' 'GRP_34' 'GRP_64' 'GRP_23' 'GRP_56' 'GRP_46' 'GRP_9'\n",
            " 'GRP_67' 'GRP_48' 'GRP_41' 'GRP_4' 'GRP_20' 'GRP_59' 'GRP_35' 'GRP_71'\n",
            " 'GRP_1' 'GRP_11' 'GRP_44' 'GRP_36' 'GRP_30' 'GRP_18' 'GRP_31' 'GRP_19'\n",
            " 'GRP_33' 'GRP_52' 'GRP_37' 'GRP_6' 'GRP_16' 'GRP_28' 'GRP_22' 'GRP_55'\n",
            " 'GRP_8' 'GRP_10' 'GRP_57' 'GRP_61' 'GRP_38' 'GRP_2' 'GRP_3' 'GRP_51'\n",
            " 'GRP_7' 'GRP_32' 'GRP_24' 'GRP_14' 'GRP_69' 'GRP_47' 'GRP_42' 'GRP_54'\n",
            " 'GRP_12' 'GRP_53']\n"
          ],
          "name": "stdout"
        }
      ]
    },
    {
      "cell_type": "code",
      "metadata": {
        "colab_type": "code",
        "id": "mCgKwnXdirUZ",
        "outputId": "f2d003ad-f25e-40c6-966a-10cafce29f8f",
        "colab": {
          "base_uri": "https://localhost:8080/",
          "height": 218
        }
      },
      "source": [
        "# Looking at the numbers of records for different groups\n",
        "master_dataset['Assignment group'].value_counts()"
      ],
      "execution_count": 0,
      "outputs": [
        {
          "output_type": "execute_result",
          "data": {
            "text/plain": [
              "GRP_0     3715\n",
              "GRP_8      661\n",
              "GRP_42     500\n",
              "GRP_50     500\n",
              "GRP_20     500\n",
              "          ... \n",
              "GRP_37     500\n",
              "GRP_3      500\n",
              "GRP_46     500\n",
              "GRP_32     500\n",
              "GRP_28     500\n",
              "Name: Assignment group, Length: 74, dtype: int64"
            ]
          },
          "metadata": {
            "tags": []
          },
          "execution_count": 21
        }
      ]
    },
    {
      "cell_type": "code",
      "metadata": {
        "colab_type": "code",
        "id": "r6RjNECoAtD-",
        "colab": {}
      },
      "source": [
        "# saving the sampled dataset\n",
        "output = open('sampled_dataset.pkl', 'wb')\n",
        "pickle.dump(master_dataset, output)\n",
        "output.close()"
      ],
      "execution_count": 0,
      "outputs": []
    },
    {
      "cell_type": "code",
      "metadata": {
        "colab_type": "code",
        "id": "lghW1-O0FJy1",
        "colab": {}
      },
      "source": [
        "# Loaded the sampled dataset\n",
        "pkl_file = open('sampled_dataset.pkl', 'rb')\n",
        "master_dataset = pickle.load(pkl_file)\n",
        "\n",
        "pkl_file.close()"
      ],
      "execution_count": 0,
      "outputs": []
    },
    {
      "cell_type": "code",
      "metadata": {
        "colab_type": "code",
        "id": "fhu57vfRCT96",
        "outputId": "04d95a0e-b700-4e3a-a64b-6cc20d85afad",
        "colab": {
          "base_uri": "https://localhost:8080/",
          "height": 34
        }
      },
      "source": [
        "max_features = 50000\n",
        "maxlen = 926\n",
        "embedding_size = 300\n",
        "tokenizer = Tokenizer(num_words=max_features, filters='!\"#$%&()*+,-./:;<=>?@[\\]^_`{|}~', lower=True)\n",
        "tokenizer.fit_on_texts(master_dataset['Combined description'].values)\n",
        "X = tokenizer.texts_to_sequences(master_dataset['Combined description'].values)\n",
        "X = pad_sequences(X, maxlen=maxlen)\n",
        "print('Shape of data tensor:', X.shape)\n",
        "Y_frame = pd.get_dummies(master_dataset['Assignment group'])"
      ],
      "execution_count": 22,
      "outputs": [
        {
          "output_type": "stream",
          "text": [
            "Shape of data tensor: (40376, 926)\n"
          ],
          "name": "stdout"
        }
      ]
    },
    {
      "cell_type": "code",
      "metadata": {
        "id": "UnRPhOPDIrgf",
        "colab_type": "code",
        "colab": {
          "base_uri": "https://localhost:8080/",
          "height": 215
        },
        "outputId": "0eae717e-2380-4926-c017-a614d4fad48a"
      },
      "source": [
        "# After the categorical data converted to dummies let's check the data\n",
        "Y_frame.head()"
      ],
      "execution_count": 23,
      "outputs": [
        {
          "output_type": "execute_result",
          "data": {
            "text/html": [
              "<div>\n",
              "<style scoped>\n",
              "    .dataframe tbody tr th:only-of-type {\n",
              "        vertical-align: middle;\n",
              "    }\n",
              "\n",
              "    .dataframe tbody tr th {\n",
              "        vertical-align: top;\n",
              "    }\n",
              "\n",
              "    .dataframe thead th {\n",
              "        text-align: right;\n",
              "    }\n",
              "</style>\n",
              "<table border=\"1\" class=\"dataframe\">\n",
              "  <thead>\n",
              "    <tr style=\"text-align: right;\">\n",
              "      <th></th>\n",
              "      <th>GRP_0</th>\n",
              "      <th>GRP_1</th>\n",
              "      <th>GRP_10</th>\n",
              "      <th>GRP_11</th>\n",
              "      <th>GRP_12</th>\n",
              "      <th>GRP_13</th>\n",
              "      <th>GRP_14</th>\n",
              "      <th>GRP_15</th>\n",
              "      <th>GRP_16</th>\n",
              "      <th>GRP_17</th>\n",
              "      <th>GRP_18</th>\n",
              "      <th>GRP_19</th>\n",
              "      <th>GRP_2</th>\n",
              "      <th>GRP_20</th>\n",
              "      <th>GRP_21</th>\n",
              "      <th>GRP_22</th>\n",
              "      <th>GRP_23</th>\n",
              "      <th>GRP_24</th>\n",
              "      <th>GRP_25</th>\n",
              "      <th>GRP_26</th>\n",
              "      <th>GRP_27</th>\n",
              "      <th>GRP_28</th>\n",
              "      <th>GRP_29</th>\n",
              "      <th>GRP_3</th>\n",
              "      <th>GRP_30</th>\n",
              "      <th>GRP_31</th>\n",
              "      <th>GRP_32</th>\n",
              "      <th>GRP_33</th>\n",
              "      <th>GRP_34</th>\n",
              "      <th>GRP_35</th>\n",
              "      <th>GRP_36</th>\n",
              "      <th>GRP_37</th>\n",
              "      <th>GRP_38</th>\n",
              "      <th>GRP_39</th>\n",
              "      <th>GRP_4</th>\n",
              "      <th>GRP_40</th>\n",
              "      <th>GRP_41</th>\n",
              "      <th>GRP_42</th>\n",
              "      <th>GRP_43</th>\n",
              "      <th>GRP_44</th>\n",
              "      <th>GRP_45</th>\n",
              "      <th>GRP_46</th>\n",
              "      <th>GRP_47</th>\n",
              "      <th>GRP_48</th>\n",
              "      <th>GRP_49</th>\n",
              "      <th>GRP_5</th>\n",
              "      <th>GRP_50</th>\n",
              "      <th>GRP_51</th>\n",
              "      <th>GRP_52</th>\n",
              "      <th>GRP_53</th>\n",
              "      <th>GRP_54</th>\n",
              "      <th>GRP_55</th>\n",
              "      <th>GRP_56</th>\n",
              "      <th>GRP_57</th>\n",
              "      <th>GRP_58</th>\n",
              "      <th>GRP_59</th>\n",
              "      <th>GRP_6</th>\n",
              "      <th>GRP_60</th>\n",
              "      <th>GRP_61</th>\n",
              "      <th>GRP_62</th>\n",
              "      <th>GRP_63</th>\n",
              "      <th>GRP_64</th>\n",
              "      <th>GRP_65</th>\n",
              "      <th>GRP_66</th>\n",
              "      <th>GRP_67</th>\n",
              "      <th>GRP_68</th>\n",
              "      <th>GRP_69</th>\n",
              "      <th>GRP_7</th>\n",
              "      <th>GRP_70</th>\n",
              "      <th>GRP_71</th>\n",
              "      <th>GRP_72</th>\n",
              "      <th>GRP_73</th>\n",
              "      <th>GRP_8</th>\n",
              "      <th>GRP_9</th>\n",
              "    </tr>\n",
              "  </thead>\n",
              "  <tbody>\n",
              "    <tr>\n",
              "      <th>0</th>\n",
              "      <td>1</td>\n",
              "      <td>0</td>\n",
              "      <td>0</td>\n",
              "      <td>0</td>\n",
              "      <td>0</td>\n",
              "      <td>0</td>\n",
              "      <td>0</td>\n",
              "      <td>0</td>\n",
              "      <td>0</td>\n",
              "      <td>0</td>\n",
              "      <td>0</td>\n",
              "      <td>0</td>\n",
              "      <td>0</td>\n",
              "      <td>0</td>\n",
              "      <td>0</td>\n",
              "      <td>0</td>\n",
              "      <td>0</td>\n",
              "      <td>0</td>\n",
              "      <td>0</td>\n",
              "      <td>0</td>\n",
              "      <td>0</td>\n",
              "      <td>0</td>\n",
              "      <td>0</td>\n",
              "      <td>0</td>\n",
              "      <td>0</td>\n",
              "      <td>0</td>\n",
              "      <td>0</td>\n",
              "      <td>0</td>\n",
              "      <td>0</td>\n",
              "      <td>0</td>\n",
              "      <td>0</td>\n",
              "      <td>0</td>\n",
              "      <td>0</td>\n",
              "      <td>0</td>\n",
              "      <td>0</td>\n",
              "      <td>0</td>\n",
              "      <td>0</td>\n",
              "      <td>0</td>\n",
              "      <td>0</td>\n",
              "      <td>0</td>\n",
              "      <td>0</td>\n",
              "      <td>0</td>\n",
              "      <td>0</td>\n",
              "      <td>0</td>\n",
              "      <td>0</td>\n",
              "      <td>0</td>\n",
              "      <td>0</td>\n",
              "      <td>0</td>\n",
              "      <td>0</td>\n",
              "      <td>0</td>\n",
              "      <td>0</td>\n",
              "      <td>0</td>\n",
              "      <td>0</td>\n",
              "      <td>0</td>\n",
              "      <td>0</td>\n",
              "      <td>0</td>\n",
              "      <td>0</td>\n",
              "      <td>0</td>\n",
              "      <td>0</td>\n",
              "      <td>0</td>\n",
              "      <td>0</td>\n",
              "      <td>0</td>\n",
              "      <td>0</td>\n",
              "      <td>0</td>\n",
              "      <td>0</td>\n",
              "      <td>0</td>\n",
              "      <td>0</td>\n",
              "      <td>0</td>\n",
              "      <td>0</td>\n",
              "      <td>0</td>\n",
              "      <td>0</td>\n",
              "      <td>0</td>\n",
              "      <td>0</td>\n",
              "      <td>0</td>\n",
              "    </tr>\n",
              "    <tr>\n",
              "      <th>1</th>\n",
              "      <td>0</td>\n",
              "      <td>0</td>\n",
              "      <td>0</td>\n",
              "      <td>0</td>\n",
              "      <td>0</td>\n",
              "      <td>0</td>\n",
              "      <td>0</td>\n",
              "      <td>0</td>\n",
              "      <td>0</td>\n",
              "      <td>0</td>\n",
              "      <td>0</td>\n",
              "      <td>0</td>\n",
              "      <td>0</td>\n",
              "      <td>0</td>\n",
              "      <td>0</td>\n",
              "      <td>0</td>\n",
              "      <td>0</td>\n",
              "      <td>0</td>\n",
              "      <td>0</td>\n",
              "      <td>0</td>\n",
              "      <td>0</td>\n",
              "      <td>0</td>\n",
              "      <td>0</td>\n",
              "      <td>0</td>\n",
              "      <td>0</td>\n",
              "      <td>0</td>\n",
              "      <td>0</td>\n",
              "      <td>0</td>\n",
              "      <td>0</td>\n",
              "      <td>0</td>\n",
              "      <td>0</td>\n",
              "      <td>0</td>\n",
              "      <td>0</td>\n",
              "      <td>0</td>\n",
              "      <td>0</td>\n",
              "      <td>0</td>\n",
              "      <td>0</td>\n",
              "      <td>0</td>\n",
              "      <td>0</td>\n",
              "      <td>0</td>\n",
              "      <td>0</td>\n",
              "      <td>0</td>\n",
              "      <td>0</td>\n",
              "      <td>0</td>\n",
              "      <td>0</td>\n",
              "      <td>0</td>\n",
              "      <td>0</td>\n",
              "      <td>0</td>\n",
              "      <td>0</td>\n",
              "      <td>0</td>\n",
              "      <td>0</td>\n",
              "      <td>0</td>\n",
              "      <td>0</td>\n",
              "      <td>0</td>\n",
              "      <td>0</td>\n",
              "      <td>0</td>\n",
              "      <td>0</td>\n",
              "      <td>0</td>\n",
              "      <td>0</td>\n",
              "      <td>0</td>\n",
              "      <td>0</td>\n",
              "      <td>0</td>\n",
              "      <td>0</td>\n",
              "      <td>1</td>\n",
              "      <td>0</td>\n",
              "      <td>0</td>\n",
              "      <td>0</td>\n",
              "      <td>0</td>\n",
              "      <td>0</td>\n",
              "      <td>0</td>\n",
              "      <td>0</td>\n",
              "      <td>0</td>\n",
              "      <td>0</td>\n",
              "      <td>0</td>\n",
              "    </tr>\n",
              "    <tr>\n",
              "      <th>2</th>\n",
              "      <td>0</td>\n",
              "      <td>0</td>\n",
              "      <td>0</td>\n",
              "      <td>0</td>\n",
              "      <td>0</td>\n",
              "      <td>0</td>\n",
              "      <td>0</td>\n",
              "      <td>0</td>\n",
              "      <td>0</td>\n",
              "      <td>0</td>\n",
              "      <td>0</td>\n",
              "      <td>0</td>\n",
              "      <td>0</td>\n",
              "      <td>0</td>\n",
              "      <td>0</td>\n",
              "      <td>0</td>\n",
              "      <td>0</td>\n",
              "      <td>0</td>\n",
              "      <td>0</td>\n",
              "      <td>0</td>\n",
              "      <td>0</td>\n",
              "      <td>0</td>\n",
              "      <td>0</td>\n",
              "      <td>0</td>\n",
              "      <td>0</td>\n",
              "      <td>0</td>\n",
              "      <td>0</td>\n",
              "      <td>0</td>\n",
              "      <td>0</td>\n",
              "      <td>0</td>\n",
              "      <td>0</td>\n",
              "      <td>0</td>\n",
              "      <td>0</td>\n",
              "      <td>0</td>\n",
              "      <td>0</td>\n",
              "      <td>0</td>\n",
              "      <td>0</td>\n",
              "      <td>0</td>\n",
              "      <td>0</td>\n",
              "      <td>0</td>\n",
              "      <td>0</td>\n",
              "      <td>0</td>\n",
              "      <td>0</td>\n",
              "      <td>0</td>\n",
              "      <td>0</td>\n",
              "      <td>0</td>\n",
              "      <td>0</td>\n",
              "      <td>0</td>\n",
              "      <td>0</td>\n",
              "      <td>0</td>\n",
              "      <td>0</td>\n",
              "      <td>0</td>\n",
              "      <td>0</td>\n",
              "      <td>0</td>\n",
              "      <td>0</td>\n",
              "      <td>0</td>\n",
              "      <td>0</td>\n",
              "      <td>0</td>\n",
              "      <td>0</td>\n",
              "      <td>0</td>\n",
              "      <td>0</td>\n",
              "      <td>0</td>\n",
              "      <td>0</td>\n",
              "      <td>0</td>\n",
              "      <td>0</td>\n",
              "      <td>0</td>\n",
              "      <td>0</td>\n",
              "      <td>0</td>\n",
              "      <td>0</td>\n",
              "      <td>0</td>\n",
              "      <td>1</td>\n",
              "      <td>0</td>\n",
              "      <td>0</td>\n",
              "      <td>0</td>\n",
              "    </tr>\n",
              "    <tr>\n",
              "      <th>3</th>\n",
              "      <td>0</td>\n",
              "      <td>0</td>\n",
              "      <td>0</td>\n",
              "      <td>0</td>\n",
              "      <td>0</td>\n",
              "      <td>0</td>\n",
              "      <td>0</td>\n",
              "      <td>0</td>\n",
              "      <td>0</td>\n",
              "      <td>0</td>\n",
              "      <td>0</td>\n",
              "      <td>0</td>\n",
              "      <td>0</td>\n",
              "      <td>0</td>\n",
              "      <td>0</td>\n",
              "      <td>0</td>\n",
              "      <td>0</td>\n",
              "      <td>0</td>\n",
              "      <td>0</td>\n",
              "      <td>0</td>\n",
              "      <td>0</td>\n",
              "      <td>0</td>\n",
              "      <td>0</td>\n",
              "      <td>0</td>\n",
              "      <td>0</td>\n",
              "      <td>0</td>\n",
              "      <td>0</td>\n",
              "      <td>0</td>\n",
              "      <td>0</td>\n",
              "      <td>0</td>\n",
              "      <td>0</td>\n",
              "      <td>0</td>\n",
              "      <td>0</td>\n",
              "      <td>0</td>\n",
              "      <td>0</td>\n",
              "      <td>0</td>\n",
              "      <td>0</td>\n",
              "      <td>0</td>\n",
              "      <td>0</td>\n",
              "      <td>0</td>\n",
              "      <td>0</td>\n",
              "      <td>0</td>\n",
              "      <td>0</td>\n",
              "      <td>0</td>\n",
              "      <td>1</td>\n",
              "      <td>0</td>\n",
              "      <td>0</td>\n",
              "      <td>0</td>\n",
              "      <td>0</td>\n",
              "      <td>0</td>\n",
              "      <td>0</td>\n",
              "      <td>0</td>\n",
              "      <td>0</td>\n",
              "      <td>0</td>\n",
              "      <td>0</td>\n",
              "      <td>0</td>\n",
              "      <td>0</td>\n",
              "      <td>0</td>\n",
              "      <td>0</td>\n",
              "      <td>0</td>\n",
              "      <td>0</td>\n",
              "      <td>0</td>\n",
              "      <td>0</td>\n",
              "      <td>0</td>\n",
              "      <td>0</td>\n",
              "      <td>0</td>\n",
              "      <td>0</td>\n",
              "      <td>0</td>\n",
              "      <td>0</td>\n",
              "      <td>0</td>\n",
              "      <td>0</td>\n",
              "      <td>0</td>\n",
              "      <td>0</td>\n",
              "      <td>0</td>\n",
              "    </tr>\n",
              "    <tr>\n",
              "      <th>4</th>\n",
              "      <td>0</td>\n",
              "      <td>0</td>\n",
              "      <td>0</td>\n",
              "      <td>0</td>\n",
              "      <td>0</td>\n",
              "      <td>0</td>\n",
              "      <td>0</td>\n",
              "      <td>0</td>\n",
              "      <td>0</td>\n",
              "      <td>0</td>\n",
              "      <td>0</td>\n",
              "      <td>0</td>\n",
              "      <td>0</td>\n",
              "      <td>0</td>\n",
              "      <td>0</td>\n",
              "      <td>0</td>\n",
              "      <td>0</td>\n",
              "      <td>0</td>\n",
              "      <td>1</td>\n",
              "      <td>0</td>\n",
              "      <td>0</td>\n",
              "      <td>0</td>\n",
              "      <td>0</td>\n",
              "      <td>0</td>\n",
              "      <td>0</td>\n",
              "      <td>0</td>\n",
              "      <td>0</td>\n",
              "      <td>0</td>\n",
              "      <td>0</td>\n",
              "      <td>0</td>\n",
              "      <td>0</td>\n",
              "      <td>0</td>\n",
              "      <td>0</td>\n",
              "      <td>0</td>\n",
              "      <td>0</td>\n",
              "      <td>0</td>\n",
              "      <td>0</td>\n",
              "      <td>0</td>\n",
              "      <td>0</td>\n",
              "      <td>0</td>\n",
              "      <td>0</td>\n",
              "      <td>0</td>\n",
              "      <td>0</td>\n",
              "      <td>0</td>\n",
              "      <td>0</td>\n",
              "      <td>0</td>\n",
              "      <td>0</td>\n",
              "      <td>0</td>\n",
              "      <td>0</td>\n",
              "      <td>0</td>\n",
              "      <td>0</td>\n",
              "      <td>0</td>\n",
              "      <td>0</td>\n",
              "      <td>0</td>\n",
              "      <td>0</td>\n",
              "      <td>0</td>\n",
              "      <td>0</td>\n",
              "      <td>0</td>\n",
              "      <td>0</td>\n",
              "      <td>0</td>\n",
              "      <td>0</td>\n",
              "      <td>0</td>\n",
              "      <td>0</td>\n",
              "      <td>0</td>\n",
              "      <td>0</td>\n",
              "      <td>0</td>\n",
              "      <td>0</td>\n",
              "      <td>0</td>\n",
              "      <td>0</td>\n",
              "      <td>0</td>\n",
              "      <td>0</td>\n",
              "      <td>0</td>\n",
              "      <td>0</td>\n",
              "      <td>0</td>\n",
              "    </tr>\n",
              "  </tbody>\n",
              "</table>\n",
              "</div>"
            ],
            "text/plain": [
              "   GRP_0  GRP_1  GRP_10  GRP_11  GRP_12  ...  GRP_71  GRP_72  GRP_73  GRP_8  GRP_9\n",
              "0      1      0       0       0       0  ...       0       0       0      0      0\n",
              "1      0      0       0       0       0  ...       0       0       0      0      0\n",
              "2      0      0       0       0       0  ...       0       1       0      0      0\n",
              "3      0      0       0       0       0  ...       0       0       0      0      0\n",
              "4      0      0       0       0       0  ...       0       0       0      0      0\n",
              "\n",
              "[5 rows x 74 columns]"
            ]
          },
          "metadata": {
            "tags": []
          },
          "execution_count": 23
        }
      ]
    },
    {
      "cell_type": "code",
      "metadata": {
        "id": "a3wT7G9oIrd7",
        "colab_type": "code",
        "colab": {}
      },
      "source": [
        "# Lets store the colummn names , so that we could use it for finding the group name at later stage\n",
        "labelColumnNames = Y_frame.columns.values"
      ],
      "execution_count": 0,
      "outputs": []
    },
    {
      "cell_type": "code",
      "metadata": {
        "colab_type": "code",
        "id": "wC4ldiDX3eQM",
        "outputId": "0d45f3d2-5f63-4015-94a3-53343d7a8e64",
        "colab": {
          "base_uri": "https://localhost:8080/",
          "height": 34
        }
      },
      "source": [
        "# Checking the type of the labelColumnNames\n",
        "type(labelColumnNames)"
      ],
      "execution_count": 25,
      "outputs": [
        {
          "output_type": "execute_result",
          "data": {
            "text/plain": [
              "numpy.ndarray"
            ]
          },
          "metadata": {
            "tags": []
          },
          "execution_count": 25
        }
      ]
    },
    {
      "cell_type": "code",
      "metadata": {
        "id": "2GtiBgSJJgaR",
        "colab_type": "code",
        "colab": {
          "base_uri": "https://localhost:8080/",
          "height": 185
        },
        "outputId": "08b05895-49ff-4a43-c412-69f1dcbebd68"
      },
      "source": [
        "print(labelColumnNames)"
      ],
      "execution_count": 26,
      "outputs": [
        {
          "output_type": "stream",
          "text": [
            "['GRP_0' 'GRP_1' 'GRP_10' 'GRP_11' 'GRP_12' 'GRP_13' 'GRP_14' 'GRP_15'\n",
            " 'GRP_16' 'GRP_17' 'GRP_18' 'GRP_19' 'GRP_2' 'GRP_20' 'GRP_21' 'GRP_22'\n",
            " 'GRP_23' 'GRP_24' 'GRP_25' 'GRP_26' 'GRP_27' 'GRP_28' 'GRP_29' 'GRP_3'\n",
            " 'GRP_30' 'GRP_31' 'GRP_32' 'GRP_33' 'GRP_34' 'GRP_35' 'GRP_36' 'GRP_37'\n",
            " 'GRP_38' 'GRP_39' 'GRP_4' 'GRP_40' 'GRP_41' 'GRP_42' 'GRP_43' 'GRP_44'\n",
            " 'GRP_45' 'GRP_46' 'GRP_47' 'GRP_48' 'GRP_49' 'GRP_5' 'GRP_50' 'GRP_51'\n",
            " 'GRP_52' 'GRP_53' 'GRP_54' 'GRP_55' 'GRP_56' 'GRP_57' 'GRP_58' 'GRP_59'\n",
            " 'GRP_6' 'GRP_60' 'GRP_61' 'GRP_62' 'GRP_63' 'GRP_64' 'GRP_65' 'GRP_66'\n",
            " 'GRP_67' 'GRP_68' 'GRP_69' 'GRP_7' 'GRP_70' 'GRP_71' 'GRP_72' 'GRP_73'\n",
            " 'GRP_8' 'GRP_9']\n"
          ],
          "name": "stdout"
        }
      ]
    },
    {
      "cell_type": "code",
      "metadata": {
        "colab_type": "code",
        "id": "U8L2f7BPfcq2",
        "colab": {}
      },
      "source": [
        "# Saving unique labels which is needed later alongwith the model to find the predicted group\n",
        "np.save('uniqueLabels',labelColumnNames)"
      ],
      "execution_count": 0,
      "outputs": []
    },
    {
      "cell_type": "code",
      "metadata": {
        "id": "ey6y0niZMGKN",
        "colab_type": "code",
        "colab": {
          "base_uri": "https://localhost:8080/",
          "height": 34
        },
        "outputId": "5a793dce-b705-40ac-ef67-e6abe4526c48"
      },
      "source": [
        "# Shape of label tensor\n",
        "Y = Y_frame.values\n",
        "print('Shape of label tensor:', Y.shape)\n"
      ],
      "execution_count": 28,
      "outputs": [
        {
          "output_type": "stream",
          "text": [
            "Shape of label tensor: (40376, 74)\n"
          ],
          "name": "stdout"
        }
      ]
    },
    {
      "cell_type": "code",
      "metadata": {
        "id": "L7xyXxlrMz9w",
        "colab_type": "code",
        "colab": {
          "base_uri": "https://localhost:8080/",
          "height": 34
        },
        "outputId": "defa937a-1b09-4334-8503-180574673d14"
      },
      "source": [
        "## Get the Vocabulary size\n",
        "num_words = len(tokenizer.word_index) + 1\n",
        "print(num_words)"
      ],
      "execution_count": 29,
      "outputs": [
        {
          "output_type": "stream",
          "text": [
            "14722\n"
          ],
          "name": "stdout"
        }
      ]
    },
    {
      "cell_type": "code",
      "metadata": {
        "colab_type": "code",
        "id": "HBZPAf0hJwiw",
        "colab": {}
      },
      "source": [
        "with open('tokenizer.pickle', 'wb') as handle:\n",
        "    pickle.dump(tokenizer, handle, protocol=pickle.HIGHEST_PROTOCOL)"
      ],
      "execution_count": 0,
      "outputs": []
    },
    {
      "cell_type": "code",
      "metadata": {
        "colab_type": "code",
        "id": "inc7WhOQCT-J",
        "colab": {}
      },
      "source": [
        "# Get the Word Embeddings using Embedding file\n",
        "EMBEDDING_FILE = './glove.6B.300d.txt'\n",
        "\n",
        "embeddings = {}\n",
        "for o in open(EMBEDDING_FILE):\n",
        "    word = o.split(\" \")[0]\n",
        "    # print(word)\n",
        "    embd = o.split(\" \")[1:]\n",
        "    embd = np.asarray(embd, dtype='float32')\n",
        "    # print(embd)\n",
        "    embeddings[word] = embd"
      ],
      "execution_count": 0,
      "outputs": []
    },
    {
      "cell_type": "code",
      "metadata": {
        "colab_type": "code",
        "id": "-LVHZcXPCT-N",
        "outputId": "9525625a-2a16-4f2d-dcd0-60f11e2986f8",
        "colab": {
          "base_uri": "https://localhost:8080/",
          "height": 34
        }
      },
      "source": [
        "# Create a weight matrix for words in training docs\n",
        "embedding_matrix = np.zeros((num_words, embedding_size))\n",
        "\n",
        "for word, i in tokenizer.word_index.items():\n",
        "    embedding_vector = embeddings.get(word)\n",
        "    if embedding_vector is not None:\n",
        "        embedding_matrix[i] = embedding_vector\n",
        "\n",
        "len(embeddings.values())"
      ],
      "execution_count": 32,
      "outputs": [
        {
          "output_type": "execute_result",
          "data": {
            "text/plain": [
              "400000"
            ]
          },
          "metadata": {
            "tags": []
          },
          "execution_count": 32
        }
      ]
    },
    {
      "cell_type": "code",
      "metadata": {
        "colab_type": "code",
        "id": "7UYZUdSyCT-Q",
        "outputId": "9fe71027-93da-4e35-cf74-d0ec16bd4c76",
        "colab": {
          "base_uri": "https://localhost:8080/",
          "height": 50
        }
      },
      "source": [
        "# Splitting the dataset into train and test sets\n",
        "X_train5, X_test5, Y_train5, Y_test5 = train_test_split(X,Y, test_size = 0.25, random_state = 42)\n",
        "print(X_train5.shape,Y_train5.shape)\n",
        "print(X_test5.shape,Y_test5.shape)"
      ],
      "execution_count": 33,
      "outputs": [
        {
          "output_type": "stream",
          "text": [
            "(30282, 926) (30282, 74)\n",
            "(10094, 926) (10094, 74)\n"
          ],
          "name": "stdout"
        }
      ]
    },
    {
      "cell_type": "code",
      "metadata": {
        "colab_type": "code",
        "id": "lT1uF7PGFkc_",
        "outputId": "6fb2a4a5-a50e-4a2a-90f9-c8421570c3d6",
        "colab": {
          "base_uri": "https://localhost:8080/",
          "height": 218
        }
      },
      "source": [
        "# Counts of number of entries assigned to different groups\n",
        "print('Number of labels count in training and validation set')\n",
        "print(Y_train5.sum(axis=0))\n",
        "print(Y_test5.sum(axis=0))"
      ],
      "execution_count": 34,
      "outputs": [
        {
          "output_type": "stream",
          "text": [
            "Number of labels count in training and validation set\n",
            "[2785  381  375  362  372  377  366  376  388  365  374  365  381  369\n",
            "  365  377  359  395  364  374  360  383  390  390  367  372  383  379\n",
            "  376  378  380  384  368  383  363  372  375  373  363  366  381  353\n",
            "  364  378  385  392  381  361  359  389  388  360  383  385  373  378\n",
            "  377  382  364  371  386  386  371  366  374  373  392  383  367  364\n",
            "  360  370  524  387]\n",
            "[930 119 125 138 128 123 134 124 112 135 126 135 119 131 135 123 141 105\n",
            " 136 126 140 117 110 110 133 128 117 121 124 122 120 116 132 117 137 128\n",
            " 125 127 137 134 119 147 136 122 115 108 119 139 141 111 112 140 117 115\n",
            " 127 122 123 118 136 129 114 114 129 134 126 127 108 117 133 136 140 130\n",
            " 137 113]\n"
          ],
          "name": "stdout"
        }
      ]
    },
    {
      "cell_type": "code",
      "metadata": {
        "colab_type": "code",
        "id": "ighVfyFTCT-T",
        "colab": {}
      },
      "source": [
        "# Precision and Recall functions\n",
        "import keras.backend as K\n",
        "def precision(y_true, y_pred): \n",
        "    true_positives = K.sum(K.round(K.clip(y_true * y_pred, 0, 1)))\n",
        "    predicted_positives = K.sum(K.round(K.clip(y_pred, 0, 1)))\n",
        "    precision = true_positives / (predicted_positives + K.epsilon())\n",
        "    return precision\n",
        "def recall(y_true, y_pred):\n",
        "    true_positives = K.sum(K.round(K.clip(y_true * y_pred, 0, 1)))\n",
        "    possible_positives = K.sum(K.round(K.clip(y_true, 0, 1)))\n",
        "    recall = true_positives / (possible_positives + K.epsilon())\n",
        "    return recall"
      ],
      "execution_count": 0,
      "outputs": []
    },
    {
      "cell_type": "markdown",
      "metadata": {
        "colab_type": "text",
        "id": "WHQ-ONqoCT-W"
      },
      "source": [
        "## Model - BiLSTM with 300D glove embeddings, on upsampled dataset with 40376 records"
      ]
    },
    {
      "cell_type": "code",
      "metadata": {
        "colab_type": "code",
        "id": "R13ipy1nCT-X",
        "colab": {}
      },
      "source": [
        "# main model\n",
        "input = Input(shape=(maxlen,))\n",
        "model_emb_bilstm4 = Embedding(num_words,embedding_size,weights=[embedding_matrix],input_length=maxlen)(input)\n",
        "model_emb_bilstm4 =  Bidirectional (LSTM (300,return_sequences=True,dropout=0.50),merge_mode='concat')(model_emb_bilstm4)\n",
        "model_emb_bilstm4 = TimeDistributed(Dense(300,activation='relu'))(model_emb_bilstm4)\n",
        "model_emb_bilstm4 = Flatten()(model_emb_bilstm4)\n",
        "model_emb_bilstm4 = Dense(300,activation='relu')(model_emb_bilstm4)\n",
        "model_emb_bilstm4 = Dense(187,activation='relu')(model_emb_bilstm4)\n",
        "output = Dense(74,activation='softmax')(model_emb_bilstm4)\n",
        "model_emb_bilstm4 = Model(input,output)\n",
        "model_emb_bilstm4.compile(loss='categorical_crossentropy',optimizer='adam', metrics=['accuracy',precision,recall])"
      ],
      "execution_count": 0,
      "outputs": []
    },
    {
      "cell_type": "code",
      "metadata": {
        "colab_type": "code",
        "id": "9nSTG9ZZCT-Z",
        "outputId": "6b6fd04a-c75d-4d37-f232-b33b3403653f",
        "colab": {
          "base_uri": "https://localhost:8080/",
          "height": 420
        }
      },
      "source": [
        "# looking at the model summary\n",
        "model_emb_bilstm4.summary()"
      ],
      "execution_count": 37,
      "outputs": [
        {
          "output_type": "stream",
          "text": [
            "Model: \"model_1\"\n",
            "_________________________________________________________________\n",
            "Layer (type)                 Output Shape              Param #   \n",
            "=================================================================\n",
            "input_2 (InputLayer)         [(None, 926)]             0         \n",
            "_________________________________________________________________\n",
            "embedding_1 (Embedding)      (None, 926, 300)          4416600   \n",
            "_________________________________________________________________\n",
            "bidirectional_1 (Bidirection (None, 926, 600)          1442400   \n",
            "_________________________________________________________________\n",
            "time_distributed_1 (TimeDist (None, 926, 300)          180300    \n",
            "_________________________________________________________________\n",
            "flatten_1 (Flatten)          (None, 277800)            0         \n",
            "_________________________________________________________________\n",
            "dense_5 (Dense)              (None, 300)               83340300  \n",
            "_________________________________________________________________\n",
            "dense_6 (Dense)              (None, 187)               56287     \n",
            "_________________________________________________________________\n",
            "dense_7 (Dense)              (None, 74)                13912     \n",
            "=================================================================\n",
            "Total params: 89,449,799\n",
            "Trainable params: 89,449,799\n",
            "Non-trainable params: 0\n",
            "_________________________________________________________________\n"
          ],
          "name": "stdout"
        }
      ]
    },
    {
      "cell_type": "code",
      "metadata": {
        "colab_type": "code",
        "id": "335hPqdwCT-b",
        "outputId": "2b236f4d-8bd9-4872-879e-d23e67ce8dd5",
        "colab": {
          "base_uri": "https://localhost:8080/",
          "height": 373
        }
      },
      "source": [
        "# Model fitting\n",
        "import time\n",
        "batch_size = 256\n",
        "epochs = 10\n",
        "\n",
        "start = time.clock()\n",
        "history_emb_bilstm4 = model_emb_bilstm4.fit(X_train5, Y_train5, epochs=epochs, batch_size=batch_size,validation_split=0.1,callbacks=[EarlyStopping(monitor='val_loss', patience=3, min_delta=0.0001)])\n",
        "end  = time.clock()\n",
        "print('Duration taken: ',end-start,' secs')"
      ],
      "execution_count": 38,
      "outputs": [
        {
          "output_type": "stream",
          "text": [
            "Train on 27253 samples, validate on 3029 samples\n",
            "Epoch 1/10\n",
            "27253/27253 [==============================] - 634s 23ms/sample - loss: 1.8622 - acc: 0.5454 - precision: 0.8592 - recall: 0.4084 - val_loss: 0.6812 - val_acc: 0.8013 - val_precision: 0.9398 - val_recall: 0.7060\n",
            "Epoch 2/10\n",
            "27253/27253 [==============================] - 597s 22ms/sample - loss: 0.5270 - acc: 0.8440 - precision: 0.9386 - recall: 0.7836 - val_loss: 0.4513 - val_acc: 0.8742 - val_precision: 0.9467 - val_recall: 0.8300\n",
            "Epoch 3/10\n",
            "27253/27253 [==============================] - 604s 22ms/sample - loss: 0.3061 - acc: 0.9066 - precision: 0.9599 - recall: 0.8775 - val_loss: 0.2917 - val_acc: 0.9119 - val_precision: 0.9631 - val_recall: 0.8899\n",
            "Epoch 4/10\n",
            "27253/27253 [==============================] - 603s 22ms/sample - loss: 0.2197 - acc: 0.9299 - precision: 0.9704 - recall: 0.9113 - val_loss: 0.2697 - val_acc: 0.9201 - val_precision: 0.9604 - val_recall: 0.9087\n",
            "Epoch 5/10\n",
            "27253/27253 [==============================] - 598s 22ms/sample - loss: 0.1741 - acc: 0.9439 - precision: 0.9785 - recall: 0.9313 - val_loss: 0.2475 - val_acc: 0.9293 - val_precision: 0.9686 - val_recall: 0.9148\n",
            "Epoch 6/10\n",
            "27253/27253 [==============================] - 597s 22ms/sample - loss: 0.1524 - acc: 0.9488 - precision: 0.9817 - recall: 0.9387 - val_loss: 0.2343 - val_acc: 0.9320 - val_precision: 0.9665 - val_recall: 0.9172\n",
            "Epoch 7/10\n",
            "27253/27253 [==============================] - 593s 22ms/sample - loss: 0.1414 - acc: 0.9523 - precision: 0.9840 - recall: 0.9418 - val_loss: 0.2395 - val_acc: 0.9356 - val_precision: 0.9708 - val_recall: 0.9246\n",
            "Epoch 8/10\n",
            "27253/27253 [==============================] - 600s 22ms/sample - loss: 0.1282 - acc: 0.9563 - precision: 0.9871 - recall: 0.9460 - val_loss: 0.2400 - val_acc: 0.9300 - val_precision: 0.9673 - val_recall: 0.9180\n",
            "Epoch 9/10\n",
            "27253/27253 [==============================] - 599s 22ms/sample - loss: 0.1254 - acc: 0.9563 - precision: 0.9882 - recall: 0.9477 - val_loss: 0.2501 - val_acc: 0.9343 - val_precision: 0.9676 - val_recall: 0.9251\n",
            "Duration taken:  14005.859056000001  secs\n"
          ],
          "name": "stdout"
        }
      ]
    },
    {
      "cell_type": "code",
      "metadata": {
        "colab_type": "code",
        "id": "MlrEnrKgCT-d",
        "outputId": "291498dc-f33e-48a0-912e-a8fff02c6eba",
        "colab": {
          "base_uri": "https://localhost:8080/",
          "height": 34
        }
      },
      "source": [
        "# list all data in history\n",
        "print(history_emb_bilstm4.history.keys())"
      ],
      "execution_count": 39,
      "outputs": [
        {
          "output_type": "stream",
          "text": [
            "dict_keys(['loss', 'acc', 'precision', 'recall', 'val_loss', 'val_acc', 'val_precision', 'val_recall'])\n"
          ],
          "name": "stdout"
        }
      ]
    },
    {
      "cell_type": "code",
      "metadata": {
        "colab_type": "code",
        "id": "qm0FXGR6CT-f",
        "outputId": "b31e5ffd-b369-496f-d7fe-6dc5c55c4012",
        "colab": {
          "base_uri": "https://localhost:8080/",
          "height": 1000
        }
      },
      "source": [
        "from matplotlib import pyplot as plt\n",
        "try:\n",
        "  plt.plot(history_emb_bilstm4.history['accuracy'])\n",
        "  plt.plot(history_emb_bilstm4.history['val_accuracy'])\n",
        "except:\n",
        "  plt.plot(history_emb_bilstm4.history['acc'])\n",
        "  plt.plot(history_emb_bilstm4.history['val_acc'])\n",
        "plt.title('model accuracy')\n",
        "plt.ylabel('accuracy')\n",
        "plt.xlabel('epoch')\n",
        "plt.legend(['train', 'test'], loc='upper left')\n",
        "plt.show()\n",
        "# summarize history for loss\n",
        "plt.plot(history_emb_bilstm4.history['loss'])\n",
        "plt.plot(history_emb_bilstm4.history['val_loss'])\n",
        "plt.title('model loss')\n",
        "plt.ylabel('loss')\n",
        "plt.xlabel('epoch')\n",
        "plt.legend(['train', 'test'], loc='upper left')\n",
        "plt.show()\n",
        "# summarize history for mse\n",
        "plt.plot(history_emb_bilstm4.history['precision'])\n",
        "plt.plot(history_emb_bilstm4.history['val_precision'])\n",
        "plt.title('model precision')\n",
        "plt.ylabel('precision')\n",
        "plt.xlabel('epoch')\n",
        "plt.legend(['train', 'test'], loc='upper left')\n",
        "plt.show()\n",
        "# summarize history for mae\n",
        "plt.plot(history_emb_bilstm4.history['recall'])\n",
        "plt.plot(history_emb_bilstm4.history['val_recall'])\n",
        "plt.title('model recall')\n",
        "plt.ylabel('recall')\n",
        "plt.xlabel('epoch')\n",
        "plt.legend(['train', 'test'], loc='upper left')\n",
        "plt.show()"
      ],
      "execution_count": 40,
      "outputs": [
        {
          "output_type": "display_data",
          "data": {
            "image/png": "[encoded data removed]",
            "text/plain": [
              "<Figure size 432x288 with 1 Axes>"
            ]
          },
          "metadata": {
            "tags": []
          }
        },
        {
          "output_type": "display_data",
          "data": {
            "image/png": "[encoded data removed]",
            "text/plain": [
              "<Figure size 432x288 with 1 Axes>"
            ]
          },
          "metadata": {
            "tags": []
          }
        },
        {
          "output_type": "display_data",
          "data": {
            "image/png": "[encoded data removed]",
            "text/plain": [
              "<Figure size 432x288 with 1 Axes>"
            ]
          },
          "metadata": {
            "tags": []
          }
        },
        {
          "output_type": "display_data",
          "data": {
            "image/png": "[encoded data removed]",
            "text/plain": [
              "<Figure size 432x288 with 1 Axes>"
            ]
          },
          "metadata": {
            "tags": []
          }
        }
      ]
    },
    {
      "cell_type": "code",
      "metadata": {
        "colab_type": "code",
        "id": "SuPPMix7CT-i",
        "outputId": "5fd2400f-c0d9-42f7-8123-e8dd8913dd92",
        "colab": {
          "base_uri": "https://localhost:8080/",
          "height": 50
        }
      },
      "source": [
        "# Test accuracy\n",
        "accuracy = model_emb_bilstm4.evaluate(X_test5,Y_test5)\n",
        "print('Test Accuracy: %.2f%%' %(accuracy[1]*100))"
      ],
      "execution_count": 41,
      "outputs": [
        {
          "output_type": "stream",
          "text": [
            "10094/10094 [==============================] - 203s 20ms/sample - loss: 0.2607 - acc: 0.9340 - precision: 0.9661 - recall: 0.9243\n",
            "Test Accuracy: 93.40%\n"
          ],
          "name": "stdout"
        }
      ]
    },
    {
      "cell_type": "code",
      "metadata": {
        "colab_type": "code",
        "id": "vDiVO5_uCT-j",
        "outputId": "c7072e24-96b7-4d72-e8de-4254d14d07c5",
        "colab": {
          "base_uri": "https://localhost:8080/",
          "height": 134
        }
      },
      "source": [
        "# Getting the confusion matrix\n",
        "pred = model_emb_bilstm4.predict(X_test5)\n",
        "matrix = metrics.confusion_matrix(Y_test5.argmax(axis=1), pred.argmax(axis=1))\n",
        "print(matrix)"
      ],
      "execution_count": 42,
      "outputs": [
        {
          "output_type": "stream",
          "text": [
            "[[767   0   7 ...   0   0   0]\n",
            " [  0 113   0 ...   0   0   0]\n",
            " [  2   0  99 ...   0   0   2]\n",
            " ...\n",
            " [  0   0   0 ... 130   0   0]\n",
            " [  1   3   2 ...   0  61   6]\n",
            " [  0   0   0 ...   0   0  54]]\n"
          ],
          "name": "stdout"
        }
      ]
    },
    {
      "cell_type": "code",
      "metadata": {
        "colab_type": "code",
        "id": "WEp_QMpgCT-l",
        "outputId": "b83ac779-50e4-4889-988c-7ec9cd6cdf1a",
        "colab": {
          "base_uri": "https://localhost:8080/",
          "height": 34
        }
      },
      "source": [
        "# Saving this model\n",
        "model_emb_bilstm4.save(\"model_emb_bilstm_sampledData.h5\")\n",
        "print(\"Saved model_emb_bilstm_sampledData to disk\")"
      ],
      "execution_count": 43,
      "outputs": [
        {
          "output_type": "stream",
          "text": [
            "Saved model_emb_bilstm_sampledData to disk\n"
          ],
          "name": "stdout"
        }
      ]
    },
    {
      "cell_type": "code",
      "metadata": {
        "colab_type": "code",
        "id": "fyVmdwyrmaB_",
        "outputId": "664a0f06-9079-4ee0-91d0-9da4fd6c2d74",
        "colab": {
          "base_uri": "https://localhost:8080/",
          "height": 336
        }
      },
      "source": [
        "#Example\n",
        "new_complaint = ['skype error skype error']\n",
        "seq = tokenizer.texts_to_sequences(new_complaint)\n",
        "padded = pad_sequences(seq, maxlen=maxlen)\n",
        "pred = model_emb_bilstm4.predict(padded)\n",
        "print(pred, labelColumnNames[np.argmax(pred)])"
      ],
      "execution_count": 44,
      "outputs": [
        {
          "output_type": "stream",
          "text": [
            "[[9.81896400e-01 9.64752100e-09 2.29588750e-06 4.42982582e-06\n",
            "  4.92862137e-06 6.24527820e-05 2.02678311e-05 5.30914633e-07\n",
            "  1.81270522e-07 1.85896909e-07 1.43686023e-07 1.50858527e-02\n",
            "  7.99270128e-05 1.09074083e-09 2.39927402e-07 5.45387365e-06\n",
            "  4.56346197e-06 4.87373145e-05 1.86153000e-06 3.43897227e-05\n",
            "  1.91690674e-06 1.00068242e-07 9.32244984e-06 9.70999317e-05\n",
            "  5.60303488e-06 7.68056314e-04 1.86906078e-07 1.14278623e-06\n",
            "  3.05845751e-05 2.09421605e-10 5.58910784e-09 1.35535788e-06\n",
            "  1.28289171e-10 4.90767661e-07 4.28288731e-05 3.30158800e-04\n",
            "  8.21721244e-07 1.06430434e-06 2.20952323e-08 3.75475537e-07\n",
            "  6.48009745e-07 1.73862602e-09 3.76309384e-09 1.42116039e-06\n",
            "  3.90482501e-06 1.77671200e-09 1.94898021e-05 1.27565842e-08\n",
            "  1.16532185e-07 8.81601807e-07 1.77238890e-10 1.19935294e-05\n",
            "  1.10903059e-07 6.24532470e-09 1.38418510e-09 1.18165410e-07\n",
            "  4.88248375e-08 2.88854167e-08 1.28865922e-05 5.33273987e-06\n",
            "  7.73563968e-08 3.63074726e-09 7.05122375e-06 9.63909315e-06\n",
            "  1.48354939e-10 5.88367364e-08 1.11416853e-06 3.02168701e-05\n",
            "  4.93923347e-09 2.41547458e-08 1.34958816e-03 3.29773769e-07\n",
            "  6.31185458e-07 1.91924542e-07]] GRP_0\n"
          ],
          "name": "stdout"
        }
      ]
    },
    {
      "cell_type": "markdown",
      "metadata": {
        "colab_type": "text",
        "id": "hoa1YIMDuOb4"
      },
      "source": [
        "## Model - Hierarchical Attention Networks, 300D, on real dataset with 8239 records"
      ]
    },
    {
      "cell_type": "code",
      "metadata": {
        "colab_type": "code",
        "id": "wAD6W5RVzMzT",
        "colab": {}
      },
      "source": [
        "# Importing some necessary libraries\n",
        "import numpy as np\n",
        "import pandas as pd\n",
        "\n",
        "from bs4 import BeautifulSoup\n",
        "from keras import backend as K\n",
        "from keras.models import Model\n",
        "from keras import initializers\n",
        "from keras.engine.topology import Layer\n",
        "from keras.layers import Dense, Input, Dropout\n",
        "from keras.layers import Embedding, GRU, Bidirectional, TimeDistributed\n",
        "\n",
        "from keras.preprocessing.text import Tokenizer, text_to_word_sequence\n",
        "from keras.utils.np_utils import to_categorical\n",
        "from nltk import tokenize\n",
        "from keras import initializers, regularizers, optimizers"
      ],
      "execution_count": 0,
      "outputs": []
    },
    {
      "cell_type": "code",
      "metadata": {
        "colab_type": "code",
        "id": "4ZHy86zeuSX1",
        "colab": {}
      },
      "source": [
        "embedding_dim = 300\n",
        "max_sent_len = 100\n",
        "max_sentences = 15\n",
        "max_words = 20000\n",
        "reviews = []\n",
        "labels = []\n",
        "texts = []"
      ],
      "execution_count": 0,
      "outputs": []
    },
    {
      "cell_type": "code",
      "metadata": {
        "colab_type": "code",
        "id": "-xMA-pcexox1",
        "outputId": "16bdba80-d789-4f3e-cefb-a8b129ffde40",
        "colab": {
          "base_uri": "https://localhost:8080/",
          "height": 67
        }
      },
      "source": [
        "import nltk\n",
        "nltk.download('punkt')"
      ],
      "execution_count": 0,
      "outputs": [
        {
          "output_type": "stream",
          "text": [
            "[nltk_data] Downloading package punkt to /root/nltk_data...\n",
            "[nltk_data]   Package punkt is already up-to-date!\n"
          ],
          "name": "stdout"
        },
        {
          "output_type": "execute_result",
          "data": {
            "text/plain": [
              "True"
            ]
          },
          "metadata": {
            "tags": []
          },
          "execution_count": 68
        }
      ]
    },
    {
      "cell_type": "code",
      "metadata": {
        "colab_type": "code",
        "id": "KmEhbA8N0vnx",
        "outputId": "dc6d910d-30bb-4db3-e368-2f886b4e566b",
        "colab": {
          "base_uri": "https://localhost:8080/",
          "height": 34
        }
      },
      "source": [
        "final_dataset.shape"
      ],
      "execution_count": 0,
      "outputs": [
        {
          "output_type": "execute_result",
          "data": {
            "text/plain": [
              "(8239, 4)"
            ]
          },
          "metadata": {
            "tags": []
          },
          "execution_count": 69
        }
      ]
    },
    {
      "cell_type": "code",
      "metadata": {
        "colab_type": "code",
        "id": "o5g_sq0Dxpc8",
        "colab": {}
      },
      "source": [
        "for idx in range(final_dataset.shape[0]):\n",
        "    text = final_dataset.iloc[idx]['Combined description']\n",
        "    texts.append(text)\n",
        "    sentences = tokenize.sent_tokenize(text)\n",
        "    reviews.append(sentences)\n",
        "    labels.append(final_dataset.iloc[idx]['Assignment group'])"
      ],
      "execution_count": 0,
      "outputs": []
    },
    {
      "cell_type": "code",
      "metadata": {
        "colab_type": "code",
        "id": "ZTJeiNVZzIR2",
        "colab": {}
      },
      "source": [
        "tokenizer = Tokenizer(num_words=max_words, filters='!\"#$%&()*+,-./:;<=>?@[\\]^_`{|}~', lower=True)\n",
        "tokenizer.fit_on_texts(texts)"
      ],
      "execution_count": 0,
      "outputs": []
    },
    {
      "cell_type": "code",
      "metadata": {
        "colab_type": "code",
        "id": "YQfHsfEQ9NN7",
        "outputId": "47b098c7-ed7d-42c1-bd1f-b90dc432ce8d",
        "colab": {
          "base_uri": "https://localhost:8080/",
          "height": 34
        }
      },
      "source": [
        "len(texts)"
      ],
      "execution_count": 0,
      "outputs": [
        {
          "output_type": "execute_result",
          "data": {
            "text/plain": [
              "8239"
            ]
          },
          "metadata": {
            "tags": []
          },
          "execution_count": 72
        }
      ]
    },
    {
      "cell_type": "code",
      "metadata": {
        "colab_type": "code",
        "id": "Xmw0GEd70gK7",
        "colab": {}
      },
      "source": [
        "data = np.zeros((len(texts), max_sentences, max_sent_len), dtype='int32')"
      ],
      "execution_count": 0,
      "outputs": []
    },
    {
      "cell_type": "code",
      "metadata": {
        "colab_type": "code",
        "id": "iFZPEN7X0kHz",
        "colab": {}
      },
      "source": [
        "for i, sentences in enumerate(reviews):\n",
        "    for j, sent in enumerate(sentences):\n",
        "        if j < max_sentences:\n",
        "            wordTokens = text_to_word_sequence(sent)\n",
        "            k = 0\n",
        "            for _, word in enumerate(wordTokens):\n",
        "                if k < max_sent_len and tokenizer.word_index[word] < max_words:\n",
        "                    data[i, j, k] = tokenizer.word_index[word]\n",
        "                    k = k + 1"
      ],
      "execution_count": 0,
      "outputs": []
    },
    {
      "cell_type": "code",
      "metadata": {
        "colab_type": "code",
        "id": "lEF3a5560olx",
        "outputId": "61eccb1c-eac0-47a5-9827-4c9846d5b9fe",
        "colab": {
          "base_uri": "https://localhost:8080/",
          "height": 34
        }
      },
      "source": [
        "word_index = tokenizer.word_index\n",
        "print('Total %s unique tokens.' % len(word_index))"
      ],
      "execution_count": 0,
      "outputs": [
        {
          "output_type": "stream",
          "text": [
            "Total 15138 unique tokens.\n"
          ],
          "name": "stdout"
        }
      ]
    },
    {
      "cell_type": "code",
      "metadata": {
        "colab_type": "code",
        "id": "riLdHtgW0qyK",
        "outputId": "6ea3460d-29cb-40f6-edba-fd70d1782712",
        "colab": {
          "base_uri": "https://localhost:8080/",
          "height": 50
        }
      },
      "source": [
        "labels = pd.get_dummies(labels).values\n",
        "print('Shape of reviews (data) tensor:', data.shape)\n",
        "print('Shape of sentiment (label) tensor:', labels.shape)"
      ],
      "execution_count": 0,
      "outputs": [
        {
          "output_type": "stream",
          "text": [
            "Shape of reviews (data) tensor: (8239, 15, 100)\n",
            "Shape of sentiment (label) tensor: (8239, 74)\n"
          ],
          "name": "stdout"
        }
      ]
    },
    {
      "cell_type": "code",
      "metadata": {
        "colab_type": "code",
        "id": "XFUIs-Tp0zgT",
        "colab": {}
      },
      "source": [
        "glove_dir = \"./\"\n",
        "embeddings_index = {}"
      ],
      "execution_count": 0,
      "outputs": []
    },
    {
      "cell_type": "code",
      "metadata": {
        "colab_type": "code",
        "id": "sUTxmDlZ1UA6",
        "colab": {}
      },
      "source": [
        "f = open('glove.6B.300d.txt')\n",
        "for line in f:\n",
        "    values = line.split()\n",
        "    word = values[0]\n",
        "    coefs = np.asarray(values[1:], dtype='float32')\n",
        "    embeddings_index[word] = coefs\n",
        "f.close()"
      ],
      "execution_count": 0,
      "outputs": []
    },
    {
      "cell_type": "code",
      "metadata": {
        "colab_type": "code",
        "id": "ilokc2-C1Xoi",
        "outputId": "de61b650-d06b-4a15-d506-3ca6e6951934",
        "colab": {
          "base_uri": "https://localhost:8080/",
          "height": 34
        }
      },
      "source": [
        "print('Total %s word vectors.' % len(embeddings_index))"
      ],
      "execution_count": 0,
      "outputs": [
        {
          "output_type": "stream",
          "text": [
            "Total 400000 word vectors.\n"
          ],
          "name": "stdout"
        }
      ]
    },
    {
      "cell_type": "code",
      "metadata": {
        "colab_type": "code",
        "id": "CA3IhJkY1i5L",
        "colab": {}
      },
      "source": [
        "# building Hierachical Attention network\n",
        "embedding_matrix = np.random.random((len(word_index) + 1, embedding_dim))\n",
        "for word, i in word_index.items():\n",
        "    embedding_vector = embeddings_index.get(word)\n",
        "    if embedding_vector is not None:\n",
        "        # words not found in embedding index will be all-zeros.\n",
        "        embedding_matrix[i] = embedding_vector"
      ],
      "execution_count": 0,
      "outputs": []
    },
    {
      "cell_type": "code",
      "metadata": {
        "colab_type": "code",
        "id": "gbQDVnRB1lki",
        "colab": {}
      },
      "source": [
        "class AttentionLayer(Layer):\n",
        "    \"\"\"\n",
        "    Hierarchial Attention Layer as described by Hierarchical Attention Networks for Document Classification(2016)\n",
        "    - Yang et. al.\n",
        "    Source: https://www.cs.cmu.edu/~hovy/papers/16HLT-hierarchical-attention-networks.pdf\n",
        "    Theano backend\n",
        "    \"\"\"\n",
        "    def __init__(self,attention_dim=100,return_coefficients=False,**kwargs):\n",
        "        # Initializer \n",
        "        self.supports_masking = True\n",
        "        self.return_coefficients = return_coefficients\n",
        "        self.init = initializers.get('glorot_uniform') # initializes values with uniform distribution\n",
        "        self.attention_dim = attention_dim\n",
        "        super(AttentionLayer, self).__init__(**kwargs)\n",
        "\n",
        "    def build(self, input_shape):\n",
        "        # Builds all weights\n",
        "        # W = Weight matrix, b = bias vector, u = context vector\n",
        "        assert len(input_shape) == 3\n",
        "        self.W = K.variable(self.init((input_shape[-1], self.attention_dim)),name='W')\n",
        "        self.b = K.variable(self.init((self.attention_dim, )),name='b')\n",
        "        self.u = K.variable(self.init((self.attention_dim, 1)),name='u')\n",
        "        self.trainable_weights = [self.W, self.b, self.u]\n",
        "\n",
        "        super(AttentionLayer, self).build(input_shape)\n",
        "\n",
        "    def compute_mask(self, input, input_mask=None):\n",
        "        return None\n",
        "\n",
        "    def call(self, hit, mask=None):\n",
        "        # Here, the actual calculation is done\n",
        "        uit = K.bias_add(K.dot(hit, self.W),self.b)\n",
        "        uit = K.tanh(uit)\n",
        "        \n",
        "        ait = K.dot(uit, self.u)\n",
        "        ait = K.squeeze(ait, -1)\n",
        "        ait = K.exp(ait)\n",
        "        \n",
        "        if mask is not None:\n",
        "            ait *= K.cast(mask, K.floatx())\n",
        "\n",
        "        ait /= K.cast(K.sum(ait, axis=1, keepdims=True) + K.epsilon(), K.floatx())\n",
        "        ait = K.expand_dims(ait)\n",
        "        weighted_input = hit * ait\n",
        "        \n",
        "        if self.return_coefficients:\n",
        "            return [K.sum(weighted_input, axis=1), ait]\n",
        "        else:\n",
        "            return K.sum(weighted_input, axis=1)\n",
        "\n",
        "    def compute_output_shape(self, input_shape):\n",
        "        if self.return_coefficients:\n",
        "            return [(input_shape[0], input_shape[-1]), (input_shape[0], input_shape[-1], 1)]\n",
        "        else:\n",
        "            return input_shape[0], input_shape[-1]"
      ],
      "execution_count": 0,
      "outputs": []
    },
    {
      "cell_type": "code",
      "metadata": {
        "colab_type": "code",
        "id": "t0x-ctTR1ri6",
        "colab": {}
      },
      "source": [
        "REG_PARAM = 1e-13\n",
        "l2_reg = regularizers.l2(REG_PARAM)"
      ],
      "execution_count": 0,
      "outputs": []
    },
    {
      "cell_type": "code",
      "metadata": {
        "colab_type": "code",
        "id": "BXd15ksw1vKi",
        "outputId": "79d3b4af-cc8e-4aad-b8a1-d2a6a9beb02b",
        "colab": {
          "base_uri": "https://localhost:8080/",
          "height": 722
        }
      },
      "source": [
        "embedding_layer = Embedding(len(word_index) + 1,embedding_dim,weights=[embedding_matrix], \n",
        "                            input_length=max_sent_len, trainable=False,name='word_embedding')\n",
        "\n",
        "# Words level attention model\n",
        "word_input = Input(shape=(max_sent_len,), dtype='int32',name='word_input')\n",
        "word_sequences = embedding_layer(word_input)\n",
        "word_gru = Bidirectional(GRU(50, return_sequences=True),name='word_gru')(word_sequences)\n",
        "word_dense = Dense(100, activation='relu', name='word_dense')(word_gru) \n",
        "word_att,word_coeffs = AttentionLayer(embedding_dim,True,name='word_attention')(word_dense)\n",
        "wordEncoder = Model(inputs = word_input,outputs = word_att)\n",
        "\n",
        "# Sentence level attention model\n",
        "sent_input = Input(shape=(max_sentences,max_sent_len), dtype='int32',name='sent_input')\n",
        "sent_encoder = TimeDistributed(wordEncoder,name='sent_linking')(sent_input)\n",
        "sent_gru = Bidirectional(GRU(50, return_sequences=True),name='sent_gru')(sent_encoder)\n",
        "sent_dense = Dense(100, activation='relu', name='sent_dense')(sent_gru) \n",
        "sent_att,sent_coeffs = AttentionLayer(embedding_dim,return_coefficients=True,name='sent_attention')(sent_dense)\n",
        "sent_drop = Dropout(0.5,name='sent_dropout')(sent_att)\n",
        "preds = Dense(74, activation='softmax',name='output')(sent_drop)\n",
        "\n",
        "# Model compile\n",
        "model_HAN = Model(sent_input, preds)\n",
        "model_HAN.compile(loss='categorical_crossentropy',optimizer='adam',metrics=['acc',precision,recall])\n",
        "print(wordEncoder.summary())\n",
        "print(model_HAN.summary())\n"
      ],
      "execution_count": 0,
      "outputs": [
        {
          "output_type": "stream",
          "text": [
            "Model: \"model_3\"\n",
            "_________________________________________________________________\n",
            "Layer (type)                 Output Shape              Param #   \n",
            "=================================================================\n",
            "word_input (InputLayer)      (None, 100)               0         \n",
            "_________________________________________________________________\n",
            "word_embedding (Embedding)   (None, 100, 300)          4541700   \n",
            "_________________________________________________________________\n",
            "word_gru (Bidirectional)     (None, 100, 100)          105300    \n",
            "_________________________________________________________________\n",
            "word_dense (Dense)           (None, 100, 100)          10100     \n",
            "_________________________________________________________________\n",
            "word_attention (AttentionLay [(None, 100), (None, 100, 30600     \n",
            "=================================================================\n",
            "Total params: 4,687,700\n",
            "Trainable params: 146,000\n",
            "Non-trainable params: 4,541,700\n",
            "_________________________________________________________________\n",
            "None\n",
            "Model: \"model_4\"\n",
            "_________________________________________________________________\n",
            "Layer (type)                 Output Shape              Param #   \n",
            "=================================================================\n",
            "sent_input (InputLayer)      (None, 15, 100)           0         \n",
            "_________________________________________________________________\n",
            "sent_linking (TimeDistribute (None, 15, 100)           4687700   \n",
            "_________________________________________________________________\n",
            "sent_gru (Bidirectional)     (None, 15, 100)           45300     \n",
            "_________________________________________________________________\n",
            "sent_dense (Dense)           (None, 15, 100)           10100     \n",
            "_________________________________________________________________\n",
            "sent_attention (AttentionLay [(None, 100), (None, 100, 30600     \n",
            "_________________________________________________________________\n",
            "sent_dropout (Dropout)       (None, 100)               0         \n",
            "_________________________________________________________________\n",
            "output (Dense)               (None, 74)                7474      \n",
            "=================================================================\n",
            "Total params: 4,781,174\n",
            "Trainable params: 239,474\n",
            "Non-trainable params: 4,541,700\n",
            "_________________________________________________________________\n",
            "None\n"
          ],
          "name": "stdout"
        }
      ]
    },
    {
      "cell_type": "code",
      "metadata": {
        "colab_type": "code",
        "id": "xpcHPKXC2Z7S",
        "colab": {}
      },
      "source": [
        "validation_split=0.2\n",
        "nb_validation_samples = int(validation_split * data.shape[0])\n",
        "\n",
        "X_train_HAN = data[:-nb_validation_samples]\n",
        "Y_train_HAN = labels[:-nb_validation_samples]\n",
        "X_test_HAN = data[-nb_validation_samples:]\n",
        "Y_test_HAN = labels[-nb_validation_samples:]"
      ],
      "execution_count": 0,
      "outputs": []
    },
    {
      "cell_type": "code",
      "metadata": {
        "colab_type": "code",
        "id": "eN5vXtY233kP",
        "outputId": "ce660363-5bc8-491d-922d-384840311387",
        "colab": {
          "base_uri": "https://localhost:8080/",
          "height": 218
        }
      },
      "source": [
        "print('Number of reviews in training and validation set')\n",
        "print(Y_train_HAN.sum(axis=0))\n",
        "print(Y_test_HAN.sum(axis=0))"
      ],
      "execution_count": 0,
      "outputs": [
        {
          "output_type": "stream",
          "text": [
            "Number of reviews in training and validation set\n",
            "[3206   26  121   19  181  118   89   31   68   68   67  180  181   26\n",
            "   22   19   16  168   91   45   11   30   75  167    3   22    1   50\n",
            "   39    1   14   14    2   14   74   40   37   13    3   13   27    5\n",
            "   24    1    3  108   10    8    6   11    2    4    1    2    2    5\n",
            "  137   19    1    8    3    1    7    2    1    2    2   56    1    0\n",
            "    0    0  557  211]\n",
            "[509   5  19  11  76  27  29   8  17  13  21  35  60  10   7  12   9 121\n",
            "  25  11   7  14  22  33  36  47   3  57  23   0   1   2   1   5  26   5\n",
            "   3  24   2   2   8   1   3  24   3  21   4   0   3   0   0   4   2   0\n",
            "   1   1  47   1   0  17   0   0   4   2   0   1   0  12   0   2   2   1\n",
            " 104  41]\n"
          ],
          "name": "stdout"
        }
      ]
    },
    {
      "cell_type": "code",
      "metadata": {
        "colab_type": "code",
        "id": "MAe4p_jd4kTE",
        "outputId": "fa30a948-bf35-4c88-c72c-43011649276a",
        "colab": {
          "base_uri": "https://localhost:8080/",
          "height": 692
        }
      },
      "source": [
        "print(\"model fitting - Hierachical attention network\")\n",
        "import time\n",
        "batch_size = 256\n",
        "epochs = 100\n",
        "\n",
        "start = time.clock()\n",
        "history_HAN = model_HAN.fit(X_train_HAN, Y_train_HAN, epochs=epochs, batch_size=batch_size,validation_split=validation_split,callbacks=[EarlyStopping(monitor='val_loss', patience=3, min_delta=0.0001)])\n",
        "end  = time.clock()\n",
        "print('Duration taken: ',end-start,' secs')"
      ],
      "execution_count": 0,
      "outputs": [
        {
          "output_type": "stream",
          "text": [
            "model fitting - Hierachical attention network\n",
            "Train on 5273 samples, validate on 1319 samples\n",
            "Epoch 1/100\n",
            "5273/5273 [==============================] - 12s 2ms/step - loss: 3.1636 - acc: 0.4314 - precision: 0.3257 - recall: 0.1149 - val_loss: 2.5944 - val_acc: 0.4754 - val_precision: 0.0000e+00 - val_recall: 0.0000e+00\n",
            "Epoch 2/100\n",
            "5273/5273 [==============================] - 9s 2ms/step - loss: 2.6908 - acc: 0.4864 - precision: 0.4750 - recall: 0.1606 - val_loss: 2.5434 - val_acc: 0.4754 - val_precision: 0.0000e+00 - val_recall: 0.0000e+00\n",
            "Epoch 3/100\n",
            "5273/5273 [==============================] - 9s 2ms/step - loss: 2.6077 - acc: 0.4883 - precision: 0.5087 - recall: 0.1815 - val_loss: 2.4978 - val_acc: 0.4754 - val_precision: 0.7478 - val_recall: 0.2282\n",
            "Epoch 4/100\n",
            "5273/5273 [==============================] - 9s 2ms/step - loss: 2.4217 - acc: 0.4906 - precision: 0.7118 - recall: 0.3049 - val_loss: 2.2755 - val_acc: 0.4754 - val_precision: 0.7695 - val_recall: 0.4117\n",
            "Epoch 5/100\n",
            "5273/5273 [==============================] - 9s 2ms/step - loss: 2.1953 - acc: 0.5371 - precision: 0.8262 - recall: 0.3658 - val_loss: 2.0872 - val_acc: 0.5550 - val_precision: 0.8460 - val_recall: 0.3912\n",
            "Epoch 6/100\n",
            "5273/5273 [==============================] - 9s 2ms/step - loss: 2.0255 - acc: 0.5617 - precision: 0.8147 - recall: 0.4119 - val_loss: 1.9965 - val_acc: 0.5610 - val_precision: 0.8583 - val_recall: 0.3927\n",
            "Epoch 7/100\n",
            "5273/5273 [==============================] - 9s 2ms/step - loss: 1.9119 - acc: 0.5627 - precision: 0.8265 - recall: 0.4332 - val_loss: 1.9461 - val_acc: 0.5648 - val_precision: 0.8396 - val_recall: 0.4170\n",
            "Epoch 8/100\n",
            "5273/5273 [==============================] - 9s 2ms/step - loss: 1.8131 - acc: 0.5784 - precision: 0.8418 - recall: 0.4481 - val_loss: 1.9042 - val_acc: 0.5921 - val_precision: 0.8208 - val_recall: 0.4352\n",
            "Epoch 9/100\n",
            "5273/5273 [==============================] - 9s 2ms/step - loss: 1.7106 - acc: 0.5981 - precision: 0.8576 - recall: 0.4633 - val_loss: 1.8395 - val_acc: 0.6020 - val_precision: 0.7997 - val_recall: 0.4625\n",
            "Epoch 10/100\n",
            "5273/5273 [==============================] - 9s 2ms/step - loss: 1.6302 - acc: 0.6116 - precision: 0.8617 - recall: 0.4851 - val_loss: 1.8216 - val_acc: 0.6042 - val_precision: 0.7976 - val_recall: 0.4807\n",
            "Epoch 11/100\n",
            "5273/5273 [==============================] - 9s 2ms/step - loss: 1.5474 - acc: 0.6141 - precision: 0.8832 - recall: 0.5003 - val_loss: 1.8300 - val_acc: 0.6042 - val_precision: 0.7593 - val_recall: 0.4920\n",
            "Epoch 12/100\n",
            "5273/5273 [==============================] - 9s 2ms/step - loss: 1.4895 - acc: 0.6296 - precision: 0.8833 - recall: 0.5098 - val_loss: 1.8582 - val_acc: 0.5997 - val_precision: 0.7448 - val_recall: 0.5193\n",
            "Epoch 13/100\n",
            "5273/5273 [==============================] - 9s 2ms/step - loss: 1.4286 - acc: 0.6330 - precision: 0.8829 - recall: 0.5230 - val_loss: 1.8179 - val_acc: 0.6058 - val_precision: 0.8061 - val_recall: 0.4579\n",
            "Epoch 14/100\n",
            "5273/5273 [==============================] - 9s 2ms/step - loss: 1.3656 - acc: 0.6393 - precision: 0.8998 - recall: 0.5299 - val_loss: 1.8262 - val_acc: 0.6103 - val_precision: 0.8286 - val_recall: 0.4435\n",
            "Epoch 15/100\n",
            "5273/5273 [==============================] - 9s 2ms/step - loss: 1.3369 - acc: 0.6476 - precision: 0.8973 - recall: 0.5344 - val_loss: 1.7916 - val_acc: 0.6012 - val_precision: 0.7929 - val_recall: 0.4556\n",
            "Epoch 16/100\n",
            "5273/5273 [==============================] - 9s 2ms/step - loss: 1.2728 - acc: 0.6600 - precision: 0.9061 - recall: 0.5481 - val_loss: 1.8257 - val_acc: 0.6027 - val_precision: 0.8031 - val_recall: 0.4663\n",
            "Epoch 17/100\n",
            "5273/5273 [==============================] - 9s 2ms/step - loss: 1.2567 - acc: 0.6588 - precision: 0.9186 - recall: 0.5431 - val_loss: 1.8795 - val_acc: 0.6187 - val_precision: 0.7774 - val_recall: 0.4882\n",
            "Epoch 18/100\n",
            "5273/5273 [==============================] - 9s 2ms/step - loss: 1.1932 - acc: 0.6731 - precision: 0.9082 - recall: 0.5621 - val_loss: 1.8781 - val_acc: 0.5936 - val_precision: 0.7805 - val_recall: 0.4814\n",
            "Duration taken:  258.75206099999923  secs\n"
          ],
          "name": "stdout"
        }
      ]
    },
    {
      "cell_type": "code",
      "metadata": {
        "colab_type": "code",
        "id": "b1RbiNP9I3ir",
        "outputId": "88caf8d7-5a88-464f-f5fb-8893c385950d",
        "colab": {
          "base_uri": "https://localhost:8080/",
          "height": 34
        }
      },
      "source": [
        "# list all data in history\n",
        "print(history_HAN.history.keys())"
      ],
      "execution_count": 0,
      "outputs": [
        {
          "output_type": "stream",
          "text": [
            "dict_keys(['val_loss', 'val_acc', 'val_precision', 'val_recall', 'loss', 'acc', 'precision', 'recall'])\n"
          ],
          "name": "stdout"
        }
      ]
    },
    {
      "cell_type": "code",
      "metadata": {
        "colab_type": "code",
        "id": "AuNyyBfYI3ix",
        "outputId": "7a9a16e2-d892-4f12-ef8d-6ad8aec9cdfb",
        "colab": {
          "base_uri": "https://localhost:8080/",
          "height": 1000
        }
      },
      "source": [
        "from matplotlib import pyplot as plt\n",
        "try:\n",
        "  plt.plot(history_HAN.history['accuracy'])\n",
        "  plt.plot(history_HAN.history['val_accuracy'])\n",
        "except:\n",
        "  plt.plot(history_HAN.history['acc'])\n",
        "  plt.plot(history_HAN.history['val_acc'])\n",
        "plt.title('model accuracy')\n",
        "plt.ylabel('accuracy')\n",
        "plt.xlabel('epoch')\n",
        "plt.legend(['train', 'test'], loc='upper left')\n",
        "plt.show()\n",
        "# summarize history for loss\n",
        "plt.plot(history_HAN.history['loss'])\n",
        "plt.plot(history_HAN.history['val_loss'])\n",
        "plt.title('model loss')\n",
        "plt.ylabel('loss')\n",
        "plt.xlabel('epoch')\n",
        "plt.legend(['train', 'test'], loc='upper left')\n",
        "plt.show()\n",
        "# summarize history for mse\n",
        "plt.plot(history_HAN.history['precision'])\n",
        "plt.plot(history_HAN.history['val_precision'])\n",
        "plt.title('model precision')\n",
        "plt.ylabel('precision')\n",
        "plt.xlabel('epoch')\n",
        "plt.legend(['train', 'test'], loc='upper left')\n",
        "plt.show()\n",
        "# summarize history for mae\n",
        "plt.plot(history_HAN.history['recall'])\n",
        "plt.plot(history_HAN.history['val_recall'])\n",
        "plt.title('model recall')\n",
        "plt.ylabel('recall')\n",
        "plt.xlabel('epoch')\n",
        "plt.legend(['train', 'test'], loc='upper left')\n",
        "plt.show()"
      ],
      "execution_count": 0,
      "outputs": [
        {
          "output_type": "display_data",
          "data": {
            "image/png": "[encoded data removed]",
            "text/plain": [
              "<Figure size 432x288 with 1 Axes>"
            ]
          },
          "metadata": {
            "tags": []
          }
        },
        {
          "output_type": "display_data",
          "data": {
            "image/png": "[encoded data removed]",
            "text/plain": [
              "<Figure size 432x288 with 1 Axes>"
            ]
          },
          "metadata": {
            "tags": []
          }
        },
        {
          "output_type": "display_data",
          "data": {
            "image/png": "[encoded data removed]",
            "text/plain": [
              "<Figure size 432x288 with 1 Axes>"
            ]
          },
          "metadata": {
            "tags": []
          }
        },
        {
          "output_type": "display_data",
          "data": {
            "image/png": "[encoded data removed]",
            "text/plain": [
              "<Figure size 432x288 with 1 Axes>"
            ]
          },
          "metadata": {
            "tags": []
          }
        }
      ]
    },
    {
      "cell_type": "code",
      "metadata": {
        "colab_type": "code",
        "id": "hAX8r_4nI3iz",
        "outputId": "9ab970fc-b9bc-46a0-a9bc-fddbdd5c1814",
        "colab": {
          "base_uri": "https://localhost:8080/",
          "height": 50
        }
      },
      "source": [
        "# Test accuracy\n",
        "accuracy = model_HAN.evaluate(X_test_HAN,Y_test_HAN)\n",
        "print('Test Accuracy: %.2f%%' %(accuracy[1]*100))"
      ],
      "execution_count": 0,
      "outputs": [
        {
          "output_type": "stream",
          "text": [
            "1647/1647 [==============================] - 5s 3ms/step\n",
            "Test Accuracy: 45.96%\n"
          ],
          "name": "stdout"
        }
      ]
    },
    {
      "cell_type": "code",
      "metadata": {
        "colab_type": "code",
        "id": "v_MGkxWtI3i2",
        "outputId": "76a682b4-91d4-405f-9edf-5e97332d6b92",
        "colab": {
          "base_uri": "https://localhost:8080/",
          "height": 34
        }
      },
      "source": [
        "# Saving this model\n",
        "model_HAN.save(\"model_HAN.h5\")\n",
        "print(\"Saved model_HAN to disk\")"
      ],
      "execution_count": 0,
      "outputs": [
        {
          "output_type": "stream",
          "text": [
            "Saved model_HAN to disk\n"
          ],
          "name": "stdout"
        }
      ]
    },
    {
      "cell_type": "markdown",
      "metadata": {
        "id": "gqP1BAR49FK6",
        "colab_type": "text"
      },
      "source": [
        "### Best Model :- BiLSTM, 300D glove embeddings, upsampled dataset with 40376 records , Accuracy - 93.33%"
      ]
    }
  ]
}