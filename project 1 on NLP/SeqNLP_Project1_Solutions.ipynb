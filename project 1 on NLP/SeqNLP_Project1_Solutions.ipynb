{
  "nbformat": 4,
  "nbformat_minor": 0,
  "metadata": {
    "accelerator": "GPU",
    "colab": {
      "name": "SeqNLP_Project1_Solutions-1.ipynb",
      "provenance": [],
      "collapsed_sections": [],
      "toc_visible": true
    },
    "kernelspec": {
      "display_name": "Python 3",
      "language": "python",
      "name": "python3"
    },
    "language_info": {
      "codemirror_mode": {
        "name": "ipython",
        "version": 3
      },
      "file_extension": ".py",
      "mimetype": "text/x-python",
      "name": "python",
      "nbconvert_exporter": "python",
      "pygments_lexer": "ipython3",
      "version": "3.7.3"
    }
  },
  "cells": [
    {
      "cell_type": "markdown",
      "metadata": {
        "colab_type": "text",
        "id": "xT7MKZuMRaCg"
      },
      "source": [
        "# Sentiment Classification\n"
      ]
    },
    {
      "cell_type": "markdown",
      "metadata": {
        "colab_type": "text",
        "id": "Wq4RCyyPSYRp"
      },
      "source": [
        "### Loading the dataset (5 points)"
      ]
    },
    {
      "cell_type": "code",
      "metadata": {
        "colab_type": "code",
        "id": "NGCtiXUhSWss",
        "outputId": "3d836974-2584-435e-8e77-55973fb8791e",
        "colab": {
          "base_uri": "https://localhost:8080/",
          "height": 79
        }
      },
      "source": [
        "from keras.datasets import imdb\n",
        "\n",
        "vocab_size = 10000 #vocab size\n",
        "\n",
        "(x_train, y_train), (x_test, y_test) = imdb.load_data(num_words=vocab_size) # vocab_size is no.of words to consider from the dataset, ordering based on frequency."
      ],
      "execution_count": 1,
      "outputs": [
        {
          "output_type": "stream",
          "text": [
            "Using TensorFlow backend.\n"
          ],
          "name": "stderr"
        },
        {
          "output_type": "display_data",
          "data": {
            "text/html": [
              "<p style=\"color: red;\">\n",
              "The default version of TensorFlow in Colab will soon switch to TensorFlow 2.x.<br>\n",
              "We recommend you <a href=\"https://www.tensorflow.org/guide/migrate\" target=\"_blank\">upgrade</a> now \n",
              "or ensure your notebook will continue to use TensorFlow 1.x via the <code>%tensorflow_version 1.x</code> magic:\n",
              "<a href=\"https://colab.research.google.com/notebooks/tensorflow_version.ipynb\" target=\"_blank\">more info</a>.</p>\n"
            ],
            "text/plain": [
              "<IPython.core.display.HTML object>"
            ]
          },
          "metadata": {
            "tags": []
          }
        }
      ]
    },
    {
      "cell_type": "code",
      "metadata": {
        "colab_type": "code",
        "id": "fCPC_WN-eCyw",
        "colab": {}
      },
      "source": [
        "from keras.preprocessing.sequence import pad_sequences\n",
        "vocab_size = 10000 #vocab size\n",
        "maxlen = 300  #number of word used from each review"
      ],
      "execution_count": 0,
      "outputs": []
    },
    {
      "cell_type": "markdown",
      "metadata": {
        "colab_type": "text",
        "id": "qMEsHYrWxdtk"
      },
      "source": [
        "## Train test split ( 5 points)"
      ]
    },
    {
      "cell_type": "code",
      "metadata": {
        "colab_type": "code",
        "id": "h0g381XzeCyz",
        "colab": {}
      },
      "source": [
        "#load dataset as a list of ints\n",
        "(x_train, y_train), (x_test, y_test) = imdb.load_data(num_words=vocab_size)\n",
        "#make all sequences of the same length\n",
        "x_train = pad_sequences(x_train, maxlen=maxlen)\n",
        "x_test =  pad_sequences(x_test, maxlen=maxlen)"
      ],
      "execution_count": 0,
      "outputs": []
    },
    {
      "cell_type": "code",
      "metadata": {
        "colab_type": "code",
        "id": "Jy6n-uM2eCy2",
        "outputId": "9cb96d9b-c2db-4da6-9b98-0c52c8c7183c",
        "colab": {
          "base_uri": "https://localhost:8080/",
          "height": 34
        }
      },
      "source": [
        "x_train.shape  #number of review, number of words in each review"
      ],
      "execution_count": 4,
      "outputs": [
        {
          "output_type": "execute_result",
          "data": {
            "text/plain": [
              "(25000, 300)"
            ]
          },
          "metadata": {
            "tags": []
          },
          "execution_count": 4
        }
      ]
    },
    {
      "cell_type": "code",
      "metadata": {
        "colab_type": "code",
        "id": "tZhMAgaNeCy5",
        "colab": {}
      },
      "source": [
        "# Taking a look at the review and sentiment\n",
        "(training_data, training_labels) , (test_data, test_labels) = imdb.load_data(num_words=vocab_size, index_from=3) # we want to assign first three words as three special characters"
      ],
      "execution_count": 0,
      "outputs": []
    },
    {
      "cell_type": "code",
      "metadata": {
        "id": "A3LJDPWkHw4D",
        "colab_type": "code",
        "colab": {}
      },
      "source": [
        "word_to_id = imdb.get_word_index()\n",
        "word_to_id = {k:(v+3) for k,v in word_to_id.items()} # shifting the index value by 3\n",
        "word_to_id[\"<PAD>\"] = 0\n",
        "word_to_id[\"<START>\"] = 1\n",
        "word_to_id[\"<UNK>\"] = 2"
      ],
      "execution_count": 0,
      "outputs": []
    },
    {
      "cell_type": "code",
      "metadata": {
        "colab_type": "code",
        "id": "A5OLM4eBeCy9",
        "outputId": "374dd5c7-39f7-45de-b575-ba61c773e8f0",
        "colab": {
          "base_uri": "https://localhost:8080/",
          "height": 70
        }
      },
      "source": [
        "id_to_word = {value:key for key,value in word_to_id.items()}\n",
        "print(' '.join(id_to_word[id] for id in training_data[6]) )\n",
        "print('The sentiment is: ',training_labels[6])"
      ],
      "execution_count": 7,
      "outputs": [
        {
          "output_type": "stream",
          "text": [
            "<START> lavish production values and solid performances in this straightforward adaption of jane <UNK> satirical classic about the marriage game within and between the classes in <UNK> 18th century england northam and paltrow are a <UNK> mixture as friends who must pass through <UNK> and lies to discover that they love each other good humor is a <UNK> virtue which goes a long way towards explaining the <UNK> of the aged source material which has been toned down a bit in its harsh <UNK> i liked the look of the film and how shots were set up and i thought it didn't rely too much on <UNK> of head shots like most other films of the 80s and 90s do very good results\n",
            "The sentiment is:  1\n"
          ],
          "name": "stdout"
        }
      ]
    },
    {
      "cell_type": "code",
      "metadata": {
        "id": "JpZCla-yL2MC",
        "colab_type": "code",
        "colab": {}
      },
      "source": [
        "# Here is a positive review , from 6th number in training set"
      ],
      "execution_count": 0,
      "outputs": []
    },
    {
      "cell_type": "markdown",
      "metadata": {
        "colab_type": "text",
        "id": "dybtUgUReCy8"
      },
      "source": [
        "## Build Keras Embedding Layer Model (30 points)\n",
        "We can think of the Embedding layer as a dicionary that maps a index assigned to a word to a word vector. This layer is very flexible and can be used in a few ways:\n",
        "\n",
        "* The embedding layer can be used at the start of a larger deep learning model. \n",
        "* Also we could load pre-train word embeddings into the embedding layer when we create our model.\n",
        "* Use the embedding layer to train our own word2vec models.\n",
        "\n",
        "The keras embedding layer doesn't require us to onehot encode our words, instead we have to give each word a unqiue intger number as an id. For the imdb dataset we've loaded this has already been done, but if this wasn't the case we could use sklearn [LabelEncoder](http://scikit-learn.org/stable/modules/generated/sklearn.preprocessing.LabelEncoder.html)."
      ]
    },
    {
      "cell_type": "code",
      "metadata": {
        "colab_type": "code",
        "id": "TxNDNhrseCzA",
        "colab": {}
      },
      "source": [
        "import time\n",
        "from keras.models import Sequential\n",
        "from keras.layers import Flatten, Dense, Embedding\n",
        "from keras.layers import LSTM, TimeDistributed"
      ],
      "execution_count": 0,
      "outputs": []
    },
    {
      "cell_type": "code",
      "metadata": {
        "id": "nqfjCc_kNIx5",
        "colab_type": "code",
        "outputId": "2ad733b4-2630-44a9-e35d-a3db3fea1c86",
        "colab": {
          "base_uri": "https://localhost:8080/",
          "height": 591
        }
      },
      "source": [
        "model = Sequential()\n",
        "model.add(Embedding(10000 , 8, input_length=maxlen)) # 1000 for vocab size , 8 for dimensionality of embedding\n",
        "model.add(LSTM(64,activation='relu',return_sequences=True))\n",
        "model.add(TimeDistributed(Dense(100)))\n",
        "model.add(Flatten())\n",
        "model.add(Dense(250, activation='relu'))\n",
        "model.add(Dense(1,activation='sigmoid'))\n",
        "model.compile(optimizer='adam', loss = 'binary_crossentropy' , metrics=['acc'])\n",
        "model.summary()"
      ],
      "execution_count": 10,
      "outputs": [
        {
          "output_type": "stream",
          "text": [
            "WARNING:tensorflow:From /usr/local/lib/python3.6/dist-packages/keras/backend/tensorflow_backend.py:66: The name tf.get_default_graph is deprecated. Please use tf.compat.v1.get_default_graph instead.\n",
            "\n",
            "WARNING:tensorflow:From /usr/local/lib/python3.6/dist-packages/keras/backend/tensorflow_backend.py:541: The name tf.placeholder is deprecated. Please use tf.compat.v1.placeholder instead.\n",
            "\n",
            "WARNING:tensorflow:From /usr/local/lib/python3.6/dist-packages/keras/backend/tensorflow_backend.py:4432: The name tf.random_uniform is deprecated. Please use tf.random.uniform instead.\n",
            "\n",
            "WARNING:tensorflow:From /usr/local/lib/python3.6/dist-packages/keras/optimizers.py:793: The name tf.train.Optimizer is deprecated. Please use tf.compat.v1.train.Optimizer instead.\n",
            "\n",
            "WARNING:tensorflow:From /usr/local/lib/python3.6/dist-packages/keras/backend/tensorflow_backend.py:3657: The name tf.log is deprecated. Please use tf.math.log instead.\n",
            "\n",
            "WARNING:tensorflow:From /usr/local/lib/python3.6/dist-packages/tensorflow_core/python/ops/nn_impl.py:183: where (from tensorflow.python.ops.array_ops) is deprecated and will be removed in a future version.\n",
            "Instructions for updating:\n",
            "Use tf.where in 2.0, which has the same broadcast rule as np.where\n",
            "Model: \"sequential_1\"\n",
            "_________________________________________________________________\n",
            "Layer (type)                 Output Shape              Param #   \n",
            "=================================================================\n",
            "embedding_1 (Embedding)      (None, 300, 8)            80000     \n",
            "_________________________________________________________________\n",
            "lstm_1 (LSTM)                (None, 300, 64)           18688     \n",
            "_________________________________________________________________\n",
            "time_distributed_1 (TimeDist (None, 300, 100)          6500      \n",
            "_________________________________________________________________\n",
            "flatten_1 (Flatten)          (None, 30000)             0         \n",
            "_________________________________________________________________\n",
            "dense_2 (Dense)              (None, 250)               7500250   \n",
            "_________________________________________________________________\n",
            "dense_3 (Dense)              (None, 1)                 251       \n",
            "=================================================================\n",
            "Total params: 7,605,689\n",
            "Trainable params: 7,605,689\n",
            "Non-trainable params: 0\n",
            "_________________________________________________________________\n"
          ],
          "name": "stdout"
        }
      ]
    },
    {
      "cell_type": "code",
      "metadata": {
        "id": "i7_KKiN3NI59",
        "colab_type": "code",
        "outputId": "32bb0a02-fef9-4734-e96a-2e321bb0ebb9",
        "colab": {
          "base_uri": "https://localhost:8080/",
          "height": 34
        }
      },
      "source": [
        "x_train.shape #number of examples , number of words"
      ],
      "execution_count": 11,
      "outputs": [
        {
          "output_type": "execute_result",
          "data": {
            "text/plain": [
              "(25000, 300)"
            ]
          },
          "metadata": {
            "tags": []
          },
          "execution_count": 11
        }
      ]
    },
    {
      "cell_type": "code",
      "metadata": {
        "id": "XTJc6CTLNJBd",
        "colab_type": "code",
        "outputId": "a0fdcd75-59ad-4f27-a377-ee7a14e6c491",
        "colab": {
          "base_uri": "https://localhost:8080/",
          "height": 487
        }
      },
      "source": [
        "x_train[1] # words are represented by numbers"
      ],
      "execution_count": 12,
      "outputs": [
        {
          "output_type": "execute_result",
          "data": {
            "text/plain": [
              "array([   0,    0,    0,    0,    0,    0,    0,    0,    0,    0,    0,\n",
              "          0,    0,    0,    0,    0,    0,    0,    0,    0,    0,    0,\n",
              "          0,    0,    0,    0,    0,    0,    0,    0,    0,    0,    0,\n",
              "          0,    0,    0,    0,    0,    0,    0,    0,    0,    0,    0,\n",
              "          0,    0,    0,    0,    0,    0,    0,    0,    0,    0,    0,\n",
              "          0,    0,    0,    0,    0,    0,    0,    0,    0,    0,    0,\n",
              "          0,    0,    0,    0,    0,    0,    0,    0,    0,    0,    0,\n",
              "          0,    0,    0,    0,    0,    0,    0,    0,    0,    0,    0,\n",
              "          0,    0,    0,    0,    0,    0,    0,    0,    0,    0,    0,\n",
              "          0,    0,    0,    0,    0,    0,    0,    0,    0,    0,    0,\n",
              "          0,    1,  194, 1153,  194, 8255,   78,  228,    5,    6, 1463,\n",
              "       4369, 5012,  134,   26,    4,  715,    8,  118, 1634,   14,  394,\n",
              "         20,   13,  119,  954,  189,  102,    5,  207,  110, 3103,   21,\n",
              "         14,   69,  188,    8,   30,   23,    7,    4,  249,  126,   93,\n",
              "          4,  114,    9, 2300, 1523,    5,  647,    4,  116,    9,   35,\n",
              "       8163,    4,  229,    9,  340, 1322,    4,  118,    9,    4,  130,\n",
              "       4901,   19,    4, 1002,    5,   89,   29,  952,   46,   37,    4,\n",
              "        455,    9,   45,   43,   38, 1543, 1905,  398,    4, 1649,   26,\n",
              "       6853,    5,  163,   11, 3215,    2,    4, 1153,    9,  194,  775,\n",
              "          7, 8255,    2,  349, 2637,  148,  605,    2, 8003,   15,  123,\n",
              "        125,   68,    2, 6853,   15,  349,  165, 4362,   98,    5,    4,\n",
              "        228,    9,   43,    2, 1157,   15,  299,  120,    5,  120,  174,\n",
              "         11,  220,  175,  136,   50,    9, 4373,  228, 8255,    5,    2,\n",
              "        656,  245, 2350,    5,    4, 9837,  131,  152,  491,   18,    2,\n",
              "         32, 7464, 1212,   14,    9,    6,  371,   78,   22,  625,   64,\n",
              "       1382,    9,    8,  168,  145,   23,    4, 1690,   15,   16,    4,\n",
              "       1355,    5,   28,    6,   52,  154,  462,   33,   89,   78,  285,\n",
              "         16,  145,   95], dtype=int32)"
            ]
          },
          "metadata": {
            "tags": []
          },
          "execution_count": 12
        }
      ]
    },
    {
      "cell_type": "code",
      "metadata": {
        "colab_type": "code",
        "id": "L3CSVVPPeCzD",
        "colab": {}
      },
      "source": [
        "# We have some pad sequence so if the length is not 300 it will pad it with zeros also start of the sequence is 1 as expected from the network to understand"
      ],
      "execution_count": 0,
      "outputs": []
    },
    {
      "cell_type": "code",
      "metadata": {
        "id": "-jgRrb-4Qx4e",
        "colab_type": "code",
        "outputId": "a8316cc0-48e0-419a-8d13-f55fc7bcddd1",
        "colab": {
          "base_uri": "https://localhost:8080/",
          "height": 34
        }
      },
      "source": [
        "y_train.shape"
      ],
      "execution_count": 14,
      "outputs": [
        {
          "output_type": "execute_result",
          "data": {
            "text/plain": [
              "(25000,)"
            ]
          },
          "metadata": {
            "tags": []
          },
          "execution_count": 14
        }
      ]
    },
    {
      "cell_type": "code",
      "metadata": {
        "id": "px9phr68Q4AG",
        "colab_type": "code",
        "outputId": "786f5343-2d41-41ef-d4f6-1845f725fd69",
        "colab": {
          "base_uri": "https://localhost:8080/",
          "height": 487
        }
      },
      "source": [
        "x_test[1]"
      ],
      "execution_count": 15,
      "outputs": [
        {
          "output_type": "execute_result",
          "data": {
            "text/plain": [
              "array([   0,    0,    0,    0,    0,    0,    0,    0,    0,    0,    0,\n",
              "          0,    0,    0,    0,    0,    0,    0,    0,    0,    0,    0,\n",
              "          0,    0,    0,    0,    0,    0,    0,    0,    0,    0,    0,\n",
              "          0,    0,    0,    0,    0,    0,    0,    1,   14,   22, 3443,\n",
              "          6,  176,    7, 5063,   88,   12, 2679,   23, 1310,    5,  109,\n",
              "        943,    4,  114,    9,   55,  606,    5,  111,    7,    4,  139,\n",
              "        193,  273,   23,    4,  172,  270,   11, 7216,    2,    4, 8463,\n",
              "       2801,  109, 1603,   21,    4,   22, 3861,    8,    6, 1193, 1330,\n",
              "         10,   10,    4,  105,  987,   35,  841,    2,   19,  861, 1074,\n",
              "          5, 1987,    2,   45,   55,  221,   15,  670, 5304,  526,   14,\n",
              "       1069,    4,  405,    5, 2438,    7,   27,   85,  108,  131,    4,\n",
              "       5045, 5304, 3884,  405,    9, 3523,  133,    5,   50,   13,  104,\n",
              "         51,   66,  166,   14,   22,  157,    9,    4,  530,  239,   34,\n",
              "       8463, 2801,   45,  407,   31,    7,   41, 3778,  105,   21,   59,\n",
              "        299,   12,   38,  950,    5, 4521,   15,   45,  629,  488, 2733,\n",
              "        127,    6,   52,  292,   17,    4, 6936,  185,  132, 1988, 5304,\n",
              "       1799,  488, 2693,   47,    6,  392,  173,    4,    2, 4378,  270,\n",
              "       2352,    4, 1500,    7,    4,   65,   55,   73,   11,  346,   14,\n",
              "         20,    9,    6,  976, 2078,    7, 5293,  861,    2,    5, 4182,\n",
              "         30, 3127,    2,   56,    4,  841,    5,  990,  692,    8,    4,\n",
              "       1669,  398,  229,   10,   10,   13, 2822,  670, 5304,   14,    9,\n",
              "         31,    7,   27,  111,  108,   15, 2033,   19, 7836, 1429,  875,\n",
              "        551,   14,   22,    9, 1193,   21,   45, 4829,    5,   45,  252,\n",
              "          8,    2,    6,  565,  921, 3639,   39,    4,  529,   48,   25,\n",
              "        181,    8,   67,   35, 1732,   22,   49,  238,   60,  135, 1162,\n",
              "         14,    9,  290,    4,   58,   10,   10,  472,   45,   55,  878,\n",
              "          8,  169,   11,  374, 5687,   25,  203,   28,    8,  818,   12,\n",
              "        125,    4, 3077], dtype=int32)"
            ]
          },
          "metadata": {
            "tags": []
          },
          "execution_count": 15
        }
      ]
    },
    {
      "cell_type": "code",
      "metadata": {
        "id": "ZKTAWLf1RSP1",
        "colab_type": "code",
        "colab": {}
      },
      "source": [
        "# Again as expected the padding is done with zeros and the start of the sequence is successfully understood as 1 by the network"
      ],
      "execution_count": 0,
      "outputs": []
    },
    {
      "cell_type": "code",
      "metadata": {
        "id": "4ZyH7GQsRfQg",
        "colab_type": "code",
        "outputId": "4374e5b7-e47e-42aa-e4d0-6c45c3356c47",
        "colab": {
          "base_uri": "https://localhost:8080/",
          "height": 507
        }
      },
      "source": [
        "start = time.clock()\n",
        "history = model.fit(x_train , y_train, epochs=5, batch_size=500, validation_data=(x_test,y_test))\n",
        "end  = time.clock()\n",
        "print('Duration taken: ',end-start,' secs')"
      ],
      "execution_count": 17,
      "outputs": [
        {
          "output_type": "stream",
          "text": [
            "WARNING:tensorflow:From /usr/local/lib/python3.6/dist-packages/keras/backend/tensorflow_backend.py:1033: The name tf.assign_add is deprecated. Please use tf.compat.v1.assign_add instead.\n",
            "\n",
            "WARNING:tensorflow:From /usr/local/lib/python3.6/dist-packages/keras/backend/tensorflow_backend.py:1020: The name tf.assign is deprecated. Please use tf.compat.v1.assign instead.\n",
            "\n",
            "WARNING:tensorflow:From /usr/local/lib/python3.6/dist-packages/keras/backend/tensorflow_backend.py:3005: The name tf.Session is deprecated. Please use tf.compat.v1.Session instead.\n",
            "\n",
            "Train on 25000 samples, validate on 25000 samples\n",
            "Epoch 1/5\n",
            "WARNING:tensorflow:From /usr/local/lib/python3.6/dist-packages/keras/backend/tensorflow_backend.py:190: The name tf.get_default_session is deprecated. Please use tf.compat.v1.get_default_session instead.\n",
            "\n",
            "WARNING:tensorflow:From /usr/local/lib/python3.6/dist-packages/keras/backend/tensorflow_backend.py:197: The name tf.ConfigProto is deprecated. Please use tf.compat.v1.ConfigProto instead.\n",
            "\n",
            "WARNING:tensorflow:From /usr/local/lib/python3.6/dist-packages/keras/backend/tensorflow_backend.py:207: The name tf.global_variables is deprecated. Please use tf.compat.v1.global_variables instead.\n",
            "\n",
            "WARNING:tensorflow:From /usr/local/lib/python3.6/dist-packages/keras/backend/tensorflow_backend.py:216: The name tf.is_variable_initialized is deprecated. Please use tf.compat.v1.is_variable_initialized instead.\n",
            "\n",
            "WARNING:tensorflow:From /usr/local/lib/python3.6/dist-packages/keras/backend/tensorflow_backend.py:223: The name tf.variables_initializer is deprecated. Please use tf.compat.v1.variables_initializer instead.\n",
            "\n",
            "25000/25000 [==============================] - 35s 1ms/step - loss: 0.5947 - acc: 0.6494 - val_loss: 0.4630 - val_acc: 0.7815\n",
            "Epoch 2/5\n",
            "25000/25000 [==============================] - 33s 1ms/step - loss: 0.3063 - acc: 0.8704 - val_loss: 0.3080 - val_acc: 0.8658\n",
            "Epoch 3/5\n",
            "25000/25000 [==============================] - 32s 1ms/step - loss: 0.2243 - acc: 0.9119 - val_loss: 0.3259 - val_acc: 0.8644\n",
            "Epoch 4/5\n",
            "25000/25000 [==============================] - 33s 1ms/step - loss: 0.1697 - acc: 0.9375 - val_loss: 0.3180 - val_acc: 0.8709\n",
            "Epoch 5/5\n",
            "25000/25000 [==============================] - 33s 1ms/step - loss: 0.1349 - acc: 0.9514 - val_loss: 0.3780 - val_acc: 0.8598\n",
            "Duration taken:  242.646713  secs\n"
          ],
          "name": "stdout"
        }
      ]
    },
    {
      "cell_type": "code",
      "metadata": {
        "id": "5et2Z5w2Wcyp",
        "colab_type": "code",
        "outputId": "04e918df-ef46-4c2a-e598-d66f2596f3d6",
        "colab": {
          "base_uri": "https://localhost:8080/",
          "height": 34
        }
      },
      "source": [
        "# list all data in history\n",
        "print(history.history.keys())"
      ],
      "execution_count": 18,
      "outputs": [
        {
          "output_type": "stream",
          "text": [
            "dict_keys(['val_loss', 'val_acc', 'loss', 'acc'])\n"
          ],
          "name": "stdout"
        }
      ]
    },
    {
      "cell_type": "code",
      "metadata": {
        "id": "W82NWrSyWyjH",
        "colab_type": "code",
        "outputId": "2f4176bf-241e-4ee4-9813-d714cabd4690",
        "colab": {
          "base_uri": "https://localhost:8080/",
          "height": 573
        }
      },
      "source": [
        "from matplotlib import pyplot as plt\n",
        "plt.plot(history.history['acc'])\n",
        "plt.plot(history.history['val_acc'])\n",
        "plt.title('model accuracy')\n",
        "plt.ylabel('accuracy')\n",
        "plt.xlabel('epoch')\n",
        "plt.legend(['train', 'test'], loc='upper left')\n",
        "plt.show()\n",
        "# summarize history for loss\n",
        "plt.plot(history.history['loss'])\n",
        "plt.plot(history.history['val_loss'])\n",
        "plt.title('model loss')\n",
        "plt.ylabel('loss')\n",
        "plt.xlabel('epoch')\n",
        "plt.legend(['train', 'test'], loc='upper left')\n",
        "plt.show()"
      ],
      "execution_count": 19,
      "outputs": [
        {
          "output_type": "display_data",
          "data": {
            "image/png": "[encoded data removed]",
            "text/plain": [
              "<Figure size 432x288 with 1 Axes>"
            ]
          },
          "metadata": {
            "tags": []
          }
        },
        {
          "output_type": "display_data",
          "data": {
            "image/png": "[encoded data removed]",
            "text/plain": [
              "<Figure size 432x288 with 1 Axes>"
            ]
          },
          "metadata": {
            "tags": []
          }
        }
      ]
    },
    {
      "cell_type": "code",
      "metadata": {
        "id": "qq4OIRaCkstm",
        "colab_type": "code",
        "outputId": "902564d1-fadf-44f5-f63e-28d043c84f10",
        "colab": {
          "base_uri": "https://localhost:8080/",
          "height": 118
        }
      },
      "source": [
        "model.layers # get all layers from model"
      ],
      "execution_count": 20,
      "outputs": [
        {
          "output_type": "execute_result",
          "data": {
            "text/plain": [
              "[<keras.layers.embeddings.Embedding at 0x7fcef594a710>,\n",
              " <keras.layers.recurrent.LSTM at 0x7fcef594a978>,\n",
              " <keras.layers.wrappers.TimeDistributed at 0x7fcef203b198>,\n",
              " <keras.layers.core.Flatten at 0x7fcef58fc908>,\n",
              " <keras.layers.core.Dense at 0x7fcef2af5fd0>,\n",
              " <keras.layers.core.Dense at 0x7fcef147bb70>]"
            ]
          },
          "metadata": {
            "tags": []
          },
          "execution_count": 20
        }
      ]
    },
    {
      "cell_type": "markdown",
      "metadata": {
        "colab_type": "text",
        "id": "Igq8Qm8GeCzG"
      },
      "source": [
        "## Accuracy of the model  & Retrive the output of each layer in keras for a given single test sample from the trained model you built (10 Points)"
      ]
    },
    {
      "cell_type": "code",
      "metadata": {
        "id": "NzJ_oo9JX1-M",
        "colab_type": "code",
        "outputId": "6eb68fde-80ef-4227-ed29-35c72263886c",
        "colab": {
          "base_uri": "https://localhost:8080/",
          "height": 34
        }
      },
      "source": [
        "score = model.evaluate(x_test, y_test)"
      ],
      "execution_count": 21,
      "outputs": [
        {
          "output_type": "stream",
          "text": [
            "25000/25000 [==============================] - 131s 5ms/step\n"
          ],
          "name": "stdout"
        }
      ]
    },
    {
      "cell_type": "code",
      "metadata": {
        "colab_type": "code",
        "id": "0AqOnLa2eCzH",
        "outputId": "4fc238c6-11d9-4cfb-9c76-9f5b420e7035",
        "colab": {
          "base_uri": "https://localhost:8080/",
          "height": 34
        }
      },
      "source": [
        "model.metrics_names"
      ],
      "execution_count": 22,
      "outputs": [
        {
          "output_type": "execute_result",
          "data": {
            "text/plain": [
              "['loss', 'acc']"
            ]
          },
          "metadata": {
            "tags": []
          },
          "execution_count": 22
        }
      ]
    },
    {
      "cell_type": "code",
      "metadata": {
        "colab_type": "code",
        "id": "-dUDSg7VeCzM",
        "outputId": "82846032-ed2f-4c7a-d4d9-ab003acee5ee",
        "colab": {
          "base_uri": "https://localhost:8080/",
          "height": 34
        }
      },
      "source": [
        "score"
      ],
      "execution_count": 23,
      "outputs": [
        {
          "output_type": "execute_result",
          "data": {
            "text/plain": [
              "[0.3780007284164429, 0.8598]"
            ]
          },
          "metadata": {
            "tags": []
          },
          "execution_count": 23
        }
      ]
    },
    {
      "cell_type": "code",
      "metadata": {
        "colab_type": "code",
        "id": "Tskt_1npeCzP",
        "outputId": "d443a59f-b166-4284-9829-811e594c31da",
        "colab": {
          "base_uri": "https://localhost:8080/",
          "height": 34
        }
      },
      "source": [
        "print('Test Accuracy: %.2f%%' %(score[1]*100))"
      ],
      "execution_count": 24,
      "outputs": [
        {
          "output_type": "stream",
          "text": [
            "Test Accuracy: 85.98%\n"
          ],
          "name": "stdout"
        }
      ]
    },
    {
      "cell_type": "code",
      "metadata": {
        "id": "2WwNQGp6mf2a",
        "colab_type": "code",
        "outputId": "85a500c2-6a43-4938-fb78-82e9c7fdab9f",
        "colab": {
          "base_uri": "https://localhost:8080/",
          "height": 34
        }
      },
      "source": [
        "model.layers[0].output"
      ],
      "execution_count": 25,
      "outputs": [
        {
          "output_type": "execute_result",
          "data": {
            "text/plain": [
              "<tf.Tensor 'embedding_1/embedding_lookup/Identity:0' shape=(?, 300, 8) dtype=float32>"
            ]
          },
          "metadata": {
            "tags": []
          },
          "execution_count": 25
        }
      ]
    },
    {
      "cell_type": "code",
      "metadata": {
        "id": "HjAstCbHmwv1",
        "colab_type": "code",
        "colab": {}
      },
      "source": [
        "# Retrieving output of each layer in keras for a given test sample\n",
        "test_sample = 11"
      ],
      "execution_count": 0,
      "outputs": []
    },
    {
      "cell_type": "code",
      "metadata": {
        "id": "46Kb4xM8obd1",
        "colab_type": "code",
        "outputId": "dfb7bfdf-b239-46c1-d960-737aedd53df6",
        "colab": {
          "base_uri": "https://localhost:8080/",
          "height": 34
        }
      },
      "source": [
        "import numpy as np\n",
        "round(float(model.predict(np.array([x_test[test_sample],]))))"
      ],
      "execution_count": 27,
      "outputs": [
        {
          "output_type": "execute_result",
          "data": {
            "text/plain": [
              "0"
            ]
          },
          "metadata": {
            "tags": []
          },
          "execution_count": 27
        }
      ]
    },
    {
      "cell_type": "code",
      "metadata": {
        "id": "WWRY4O0Wooal",
        "colab_type": "code",
        "outputId": "be04bbc8-d15d-48f2-8888-a8aad6d0428c",
        "colab": {
          "base_uri": "https://localhost:8080/",
          "height": 34
        }
      },
      "source": [
        "y_test[11]"
      ],
      "execution_count": 28,
      "outputs": [
        {
          "output_type": "execute_result",
          "data": {
            "text/plain": [
              "0"
            ]
          },
          "metadata": {
            "tags": []
          },
          "execution_count": 28
        }
      ]
    },
    {
      "cell_type": "code",
      "metadata": {
        "id": "3PmRYxzSoyfG",
        "colab_type": "code",
        "colab": {}
      },
      "source": [
        "# We see that predicted and expected values are same for the given test sample"
      ],
      "execution_count": 0,
      "outputs": []
    },
    {
      "cell_type": "code",
      "metadata": {
        "id": "vzHDm9AcphAU",
        "colab_type": "code",
        "outputId": "4e04f6ff-18a4-4578-81dd-a762da44241a",
        "colab": {
          "base_uri": "https://localhost:8080/",
          "height": 1000
        }
      },
      "source": [
        "from keras import backend as k\n",
        "\n",
        "inp = model.input # input placeholder\n",
        "outputs = [layer.output for layer in model.layers] # all layer outputs\n",
        "functors = [k.function([inp, k.learning_phase()], [out]) for out in outputs] # evaluation function\n",
        "\n",
        "# Testing\n",
        "test = np.array([x_test[test_sample],])\n",
        "layer_outs = [func([test,1]) for func in functors] # we want to simulate dropout layer hence chose 1\n",
        "print(len(layer_outs[0][0][0][0]))\n",
        "print(layer_outs) # Getting the output of all the layers"
      ],
      "execution_count": 30,
      "outputs": [
        {
          "output_type": "stream",
          "text": [
            "WARNING:tensorflow:From /usr/local/lib/python3.6/dist-packages/keras/backend/tensorflow_backend.py:148: The name tf.placeholder_with_default is deprecated. Please use tf.compat.v1.placeholder_with_default instead.\n",
            "\n",
            "8\n",
            "[[array([[[-0.00821249, -0.02743134, -0.04032865, ..., -0.02302344,\n",
            "          0.0156406 , -0.01921797],\n",
            "        [-0.00821249, -0.02743134, -0.04032865, ..., -0.02302344,\n",
            "          0.0156406 , -0.01921797],\n",
            "        [-0.00821249, -0.02743134, -0.04032865, ..., -0.02302344,\n",
            "          0.0156406 , -0.01921797],\n",
            "        ...,\n",
            "        [-0.0102319 , -0.01709338,  0.0680077 , ..., -0.01360554,\n",
            "          0.04824011,  0.04628466],\n",
            "        [ 0.03186453, -0.03627975, -0.05268579, ..., -0.09924363,\n",
            "         -0.05713877,  0.09345388],\n",
            "        [ 0.01419222, -0.00166997, -0.05309185, ...,  0.03307606,\n",
            "          0.01536513,  0.01370452]]], dtype=float32)], [array([[[0.0000000e+00, 0.0000000e+00, 0.0000000e+00, ...,\n",
            "         0.0000000e+00, 0.0000000e+00, 0.0000000e+00],\n",
            "        [0.0000000e+00, 0.0000000e+00, 0.0000000e+00, ...,\n",
            "         0.0000000e+00, 0.0000000e+00, 0.0000000e+00],\n",
            "        [0.0000000e+00, 0.0000000e+00, 0.0000000e+00, ...,\n",
            "         0.0000000e+00, 0.0000000e+00, 0.0000000e+00],\n",
            "        ...,\n",
            "        [3.8395252e-03, 3.6752352e-03, 4.3386086e-03, ...,\n",
            "         1.0600687e-26, 1.0039184e-03, 3.9158841e-03],\n",
            "        [1.3549203e-02, 7.0021618e-03, 3.0059768e-03, ...,\n",
            "         7.3101229e-27, 4.1145096e-03, 9.1226837e-03],\n",
            "        [1.3658464e-02, 4.9252897e-03, 3.4920715e-03, ...,\n",
            "         5.1215523e-27, 2.8373438e-03, 7.0392434e-03]]], dtype=float32)], [array([[[-0.00028072, -0.00538126,  0.0042911 , ..., -0.00426096,\n",
            "          0.00279059, -0.00018873],\n",
            "        [-0.00035704, -0.00555483,  0.00418834, ..., -0.00331877,\n",
            "          0.00098332,  0.00068476],\n",
            "        [-0.00030662, -0.00571838,  0.00391714, ..., -0.00244599,\n",
            "         -0.00052107,  0.00122812],\n",
            "        ...,\n",
            "        [ 0.00034279, -0.00058434, -0.00199691, ...,  0.00489646,\n",
            "         -0.00611052, -0.0041344 ],\n",
            "        [ 0.00302057,  0.00113766, -0.00900107, ...,  0.01731081,\n",
            "         -0.02189635, -0.01107558],\n",
            "        [ 0.00242094, -0.00023463, -0.00912567, ...,  0.01547754,\n",
            "         -0.01900104, -0.00782401]]], dtype=float32)], [array([[-0.00028072, -0.00538126,  0.0042911 , ...,  0.01547754,\n",
            "        -0.01900104, -0.00782401]], dtype=float32)], [array([[0.        , 0.        , 0.45865336, 0.39388373, 0.        ,\n",
            "        0.        , 0.        , 0.        , 0.5630734 , 0.68886656,\n",
            "        0.        , 0.        , 0.        , 0.        , 0.        ,\n",
            "        0.48907587, 0.        , 0.8829901 , 0.        , 0.881045  ,\n",
            "        0.88474786, 0.        , 0.79403764, 0.90951085, 0.        ,\n",
            "        0.        , 0.        , 0.7189949 , 0.        , 0.        ,\n",
            "        0.91841555, 0.        , 0.76290953, 0.        , 0.        ,\n",
            "        0.        , 0.        , 0.        , 0.        , 0.        ,\n",
            "        0.        , 0.49621347, 0.7616987 , 0.7137691 , 0.        ,\n",
            "        0.        , 0.        , 0.        , 0.9065814 , 0.        ,\n",
            "        0.        , 0.92072403, 0.7949391 , 0.        , 0.        ,\n",
            "        0.        , 0.85837615, 0.        , 0.9319891 , 0.        ,\n",
            "        0.        , 0.        , 0.        , 0.        , 0.        ,\n",
            "        0.8342136 , 0.9046704 , 0.        , 0.93351424, 0.        ,\n",
            "        0.        , 0.        , 0.        , 0.        , 0.7991029 ,\n",
            "        0.7942309 , 0.80324775, 0.        , 0.84011286, 0.8838384 ,\n",
            "        0.        , 0.        , 0.        , 0.00499431, 0.        ,\n",
            "        0.67682886, 0.        , 0.        , 0.        , 0.63543737,\n",
            "        0.        , 0.        , 0.94699544, 0.8269235 , 0.755526  ,\n",
            "        0.        , 0.        , 0.9119243 , 0.        , 0.        ,\n",
            "        0.8594544 , 0.05685099, 0.8457605 , 0.        , 0.        ,\n",
            "        0.        , 0.        , 0.31148154, 0.7729981 , 0.61849815,\n",
            "        0.82999974, 0.8166266 , 0.        , 0.        , 0.        ,\n",
            "        0.        , 0.        , 0.        , 0.        , 0.        ,\n",
            "        0.88902944, 0.        , 0.        , 0.8377431 , 0.        ,\n",
            "        0.        , 0.        , 0.35842955, 0.        , 0.9105425 ,\n",
            "        0.8898585 , 0.        , 0.        , 0.        , 0.8928812 ,\n",
            "        0.8765392 , 0.87020636, 0.        , 0.77867955, 0.        ,\n",
            "        0.        , 0.8394341 , 0.        , 0.        , 0.        ,\n",
            "        0.        , 0.        , 0.75598687, 0.9396929 , 0.57943785,\n",
            "        0.86638635, 0.        , 0.        , 0.        , 0.7156487 ,\n",
            "        0.23733678, 0.        , 0.        , 0.9053745 , 0.        ,\n",
            "        0.        , 0.        , 0.        , 0.        , 0.21645951,\n",
            "        0.86061156, 0.6123924 , 0.5540333 , 0.69226575, 0.        ,\n",
            "        0.        , 0.        , 0.        , 0.8815385 , 0.6384109 ,\n",
            "        0.        , 0.        , 0.        , 0.        , 0.859011  ,\n",
            "        0.715874  , 0.02019928, 0.17459556, 0.        , 0.        ,\n",
            "        0.61794305, 0.8905973 , 0.        , 0.        , 0.        ,\n",
            "        0.9007971 , 0.        , 0.9021348 , 0.        , 0.        ,\n",
            "        0.        , 0.        , 0.86071265, 0.8855261 , 0.        ,\n",
            "        0.        , 0.7817015 , 0.        , 0.        , 0.        ,\n",
            "        0.        , 0.6678469 , 0.        , 0.        , 0.788645  ,\n",
            "        0.8210254 , 0.        , 0.8914067 , 0.85686356, 0.        ,\n",
            "        0.        , 0.        , 0.        , 0.        , 0.9023419 ,\n",
            "        0.        , 0.        , 0.        , 0.        , 0.        ,\n",
            "        0.90231425, 0.        , 0.        , 0.        , 0.        ,\n",
            "        0.        , 0.        , 0.        , 0.        , 0.70270115,\n",
            "        0.        , 0.        , 0.785818  , 0.        , 0.6149572 ,\n",
            "        0.8107655 , 0.        , 0.        , 0.8003125 , 0.        ,\n",
            "        0.7219679 , 0.56935894, 0.        , 0.        , 0.8522644 ]],\n",
            "      dtype=float32)], [array([[0.00106782]], dtype=float32)]]\n"
          ],
          "name": "stdout"
        }
      ]
    },
    {
      "cell_type": "code",
      "metadata": {
        "id": "UJfrRocprNau",
        "colab_type": "code",
        "outputId": "9eef94d0-2ed2-47bb-946b-824c3f2d5f92",
        "colab": {
          "base_uri": "https://localhost:8080/",
          "height": 118
        }
      },
      "source": [
        "# Checking user created sentiment\n",
        "\n",
        "from keras.preprocessing import sequence\n",
        "\n",
        "bad = \"this was a poor and terrible movie\"\n",
        "good = \"this movie was awesome\"\n",
        "sarcasm = \"go and watch this movie if you have enough time\"\n",
        "for review in [good,bad,sarcasm]:\n",
        "  tmp = []\n",
        "  for word in review.split(\" \"):\n",
        "    tmp.append(word_to_id[word])\n",
        "  tmp_padded = sequence.pad_sequences([tmp], maxlen=300)\n",
        "\n",
        "  print(\"%s. Sentiment: %s\" % (review,model.predict(np.array([tmp_padded][0]))[0][0]))\n",
        "  print(\"%s. Sentiment: %s\" % (review,model.predict_classes(np.array([tmp_padded][0]))[0][0]))"
      ],
      "execution_count": 31,
      "outputs": [
        {
          "output_type": "stream",
          "text": [
            "this movie was awesome. Sentiment: 0.50461984\n",
            "this movie was awesome. Sentiment: 1\n",
            "this was a poor and terrible movie. Sentiment: 0.03218486\n",
            "this was a poor and terrible movie. Sentiment: 0\n",
            "go and watch this movie if you have enough time. Sentiment: 0.32258764\n",
            "go and watch this movie if you have enough time. Sentiment: 0\n"
          ],
          "name": "stdout"
        }
      ]
    },
    {
      "cell_type": "markdown",
      "metadata": {
        "id": "zGt7AKem2INb",
        "colab_type": "text"
      },
      "source": [
        "### Conclusion ###\n",
        "\n",
        "IMDB dataset containing 25,000 movies where reviews labeled by sentiment (positive/negative). A sequential model is built on this dataset using keras for sentiment analysis. The model is trained with 5 epochs and is having an accuracy of 86%. It has correctly predicted the sentiment for the sample review. Also we checked our model with three types of user created reviews good, bad and sarcasm. For each cases our model has perfectly predicted the sentiment."
      ]
    },
    {
      "cell_type": "code",
      "metadata": {
        "id": "JdumWha-Wf8I",
        "colab_type": "code",
        "colab": {}
      },
      "source": [
        ""
      ],
      "execution_count": 0,
      "outputs": []
    }
  ]
}