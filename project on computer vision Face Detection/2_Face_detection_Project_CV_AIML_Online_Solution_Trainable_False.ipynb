{
  "nbformat": 4,
  "nbformat_minor": 0,
  "metadata": {
    "accelerator": "GPU",
    "colab": {
      "name": "2.Face_detection_Project_CV_AIML_Online_Solution_Trainable_False.ipynb",
      "provenance": [],
      "collapsed_sections": []
    },
    "kernelspec": {
      "name": "python3",
      "display_name": "Python 3"
    },
    "language_info": {
      "codemirror_mode": {
        "name": "ipython",
        "version": 3
      },
      "file_extension": ".py",
      "mimetype": "text/x-python",
      "name": "python",
      "nbconvert_exporter": "python",
      "pygments_lexer": "ipython3",
      "version": "3.7.4"
    }
  },
  "cells": [
    {
      "cell_type": "markdown",
      "metadata": {
        "colab_type": "text",
        "id": "VvWl3ebqzCc1"
      },
      "source": [
        "# Instructions\n",
        "- Some parts of the code are already done for you\n",
        "- You need to execute all the cells\n",
        "- You need to add the code where ever you see `\"#### Add your code here ####\"`\n",
        "- Marks are mentioned along with the cells"
      ]
    },
    {
      "cell_type": "markdown",
      "metadata": {
        "colab_type": "text",
        "id": "NgR0j5310qqC"
      },
      "source": [
        "# Face detection\n",
        "Task is to predict the boundaries(mask) around the face in a given image."
      ]
    },
    {
      "cell_type": "markdown",
      "metadata": {
        "colab_type": "text",
        "id": "Aa0jyJzw091I"
      },
      "source": [
        "## Dataset\n",
        "Faces in images marked with bounding boxes. Have around 500 images with around 1100 faces manually tagged via bounding box."
      ]
    },
    {
      "cell_type": "markdown",
      "metadata": {
        "colab_type": "text",
        "id": "CjRTlPkp1LC2"
      },
      "source": [
        "### Mount Google drive if you are using google colab\n",
        "- We recommend using Google Colab as you can face memory issues and longer runtimes while running on local"
      ]
    },
    {
      "cell_type": "code",
      "metadata": {
        "colab_type": "code",
        "id": "sBWMoTJ9cf3Z",
        "outputId": "6d15b462-2dbc-4aef-c768-4096114b93b1",
        "colab": {
          "base_uri": "https://localhost:8080/",
          "height": 34
        }
      },
      "source": [
        "from google.colab import drive\n",
        "drive.mount('/content/drive')"
      ],
      "execution_count": 1,
      "outputs": [
        {
          "output_type": "stream",
          "text": [
            "Drive already mounted at /content/drive; to attempt to forcibly remount, call drive.mount(\"/content/drive\", force_remount=True).\n"
          ],
          "name": "stdout"
        }
      ]
    },
    {
      "cell_type": "markdown",
      "metadata": {
        "colab_type": "text",
        "id": "sO9mgMmp13sI"
      },
      "source": [
        "### Change current working directory to project folder"
      ]
    },
    {
      "cell_type": "code",
      "metadata": {
        "colab_type": "code",
        "id": "TddMnf4D1-59",
        "outputId": "01417c31-5ba7-4dfd-ba45-47b7a34bf8ad",
        "colab": {
          "base_uri": "https://localhost:8080/",
          "height": 34
        }
      },
      "source": [
        "import os\n",
        "\n",
        "path = '/content/drive/My Drive/Project/CNN Face Detection'\n",
        "try:  \n",
        "    os.chdir(path)\n",
        "    print(\"Directory changed to Project folder\")\n",
        "except OSError:\n",
        "    print(\"Can't change the Current Working Directory\")"
      ],
      "execution_count": 2,
      "outputs": [
        {
          "output_type": "stream",
          "text": [
            "Directory changed to Project folder\n"
          ],
          "name": "stdout"
        }
      ]
    },
    {
      "cell_type": "markdown",
      "metadata": {
        "colab_type": "text",
        "id": "3srplE-FEpKa"
      },
      "source": [
        "### Load the \"images.npy\" file\n",
        "- This file contains images with details of bounding boxes"
      ]
    },
    {
      "cell_type": "code",
      "metadata": {
        "colab_type": "code",
        "id": "MqFE_tZDf0sM",
        "colab": {}
      },
      "source": [
        "import numpy as np\n",
        "data = np.load('/content/drive/My Drive/Deep Learning/images.npy',allow_pickle=True)"
      ],
      "execution_count": 0,
      "outputs": []
    },
    {
      "cell_type": "markdown",
      "metadata": {
        "colab_type": "text",
        "id": "_SMP8zliFT7R"
      },
      "source": [
        "### Check one sample from the loaded \"images.npy\" file"
      ]
    },
    {
      "cell_type": "code",
      "metadata": {
        "colab_type": "code",
        "id": "NoqNvPK-iXqG",
        "outputId": "76410112-14c2-49e8-b3a8-1ef84e5c1b7e",
        "colab": {
          "base_uri": "https://localhost:8080/",
          "height": 34
        }
      },
      "source": [
        "data.shape # This array consists of 409 rows and 2 columns"
      ],
      "execution_count": 4,
      "outputs": [
        {
          "output_type": "execute_result",
          "data": {
            "text/plain": [
              "(409, 2)"
            ]
          },
          "metadata": {
            "tags": []
          },
          "execution_count": 4
        }
      ]
    },
    {
      "cell_type": "code",
      "metadata": {
        "id": "4as-ScwRwQZD",
        "colab_type": "code",
        "outputId": "7456715c-4e5b-45a5-9cfe-f4a538e34a49",
        "colab": {
          "base_uri": "https://localhost:8080/",
          "height": 34
        }
      },
      "source": [
        "# Checking the shape of the 10th input image\n",
        "n=10\n",
        "data[n][0].shape  "
      ],
      "execution_count": 5,
      "outputs": [
        {
          "output_type": "execute_result",
          "data": {
            "text/plain": [
              "(337, 600, 3)"
            ]
          },
          "metadata": {
            "tags": []
          },
          "execution_count": 5
        }
      ]
    },
    {
      "cell_type": "code",
      "metadata": {
        "id": "zt2pYCuPx9Ez",
        "colab_type": "code",
        "outputId": "3adcc726-d69d-4ab7-ac5e-ffff9fe9e34c",
        "colab": {
          "base_uri": "https://localhost:8080/",
          "height": 240
        }
      },
      "source": [
        "# This means that this is an RGB dataset and the said image is having 337 X 600 pixels in each channnels\n",
        "# Viewing the original image\n",
        "from matplotlib import pyplot as plt\n",
        "img_array = data[n][0]\n",
        "plt.imshow(img_array)\n",
        "plt.show()"
      ],
      "execution_count": 6,
      "outputs": [
        {
          "output_type": "display_data",
          "data": {
            "image/png": "[encoded data removed]",
            "text/plain": [
              "<Figure size 432x288 with 1 Axes>"
            ]
          },
          "metadata": {
            "tags": []
          }
        }
      ]
    },
    {
      "cell_type": "code",
      "metadata": {
        "id": "na-mtRtFwT1R",
        "colab_type": "code",
        "outputId": "ace97675-2e80-4dda-e06d-5c4e42c4a1d1",
        "colab": {
          "base_uri": "https://localhost:8080/",
          "height": 118
        }
      },
      "source": [
        "# Checking the mask for the given image\n",
        "data[n][1]"
      ],
      "execution_count": 7,
      "outputs": [
        {
          "output_type": "execute_result",
          "data": {
            "text/plain": [
              "[{'imageHeight': 337,\n",
              "  'imageWidth': 600,\n",
              "  'label': ['Face'],\n",
              "  'notes': '',\n",
              "  'points': [{'x': 0.48, 'y': 0.10385756676557864},\n",
              "   {'x': 0.7716666666666666, 'y': 0.6795252225519288}]}]"
            ]
          },
          "metadata": {
            "tags": []
          },
          "execution_count": 7
        }
      ]
    },
    {
      "cell_type": "markdown",
      "metadata": {
        "colab_type": "text",
        "id": "m94G4p3CE5Cj"
      },
      "source": [
        "### Set image dimensions\n",
        "- Initialize image height, image width with value: 224 "
      ]
    },
    {
      "cell_type": "code",
      "metadata": {
        "colab_type": "code",
        "id": "kuZmtOASevDo",
        "colab": {}
      },
      "source": [
        "IMAGE_WIDTH = 224\n",
        "IMAGE_HEIGHT = 224"
      ],
      "execution_count": 0,
      "outputs": []
    },
    {
      "cell_type": "markdown",
      "metadata": {
        "colab_type": "text",
        "id": "wY6FEsCjG47s"
      },
      "source": [
        "### Create features and labels\n",
        "- Here feature is the image\n",
        "- The label is the mask\n",
        "- Images will be stored in \"X_train\" array\n",
        "- Masks will be stored in \"masks\" array"
      ]
    },
    {
      "cell_type": "code",
      "metadata": {
        "colab_type": "code",
        "id": "XjCT9EVTgAvr",
        "outputId": "ff41d0ab-6795-488e-d61c-dcfbe002159b",
        "colab": {
          "base_uri": "https://localhost:8080/",
          "height": 62
        }
      },
      "source": [
        "import cv2\n",
        "from tensorflow.keras.applications.mobilenet import preprocess_input\n",
        "\n",
        "masks = np.zeros((int(data.shape[0]), IMAGE_HEIGHT, IMAGE_WIDTH))\n",
        "X_train = np.zeros((int(data.shape[0]), IMAGE_HEIGHT, IMAGE_WIDTH, 3))\n",
        "for index in range(data.shape[0]):\n",
        "    img = data[index][0]\n",
        "    img = cv2.resize(img, dsize=(IMAGE_HEIGHT, IMAGE_WIDTH), interpolation=cv2.INTER_CUBIC)\n",
        "    try:\n",
        "      img = img[:, :, :3]\n",
        "    except:\n",
        "      continue\n",
        "    X_train[index] = preprocess_input(np.array(img, dtype=np.float32))\n",
        "    for i in data[index][1]:\n",
        "        x1 = int(i[\"points\"][0]['x'] * IMAGE_WIDTH)\n",
        "        x2 = int(i[\"points\"][1]['x'] * IMAGE_WIDTH)\n",
        "        y1 = int(i[\"points\"][0]['y'] * IMAGE_HEIGHT)\n",
        "        y2 = int(i[\"points\"][1]['y'] * IMAGE_HEIGHT)\n",
        "        masks[index][y1:y2, x1:x2] = 1"
      ],
      "execution_count": 9,
      "outputs": [
        {
          "output_type": "display_data",
          "data": {
            "text/html": [
              "<p style=\"color: red;\">\n",
              "The default version of TensorFlow in Colab will soon switch to TensorFlow 2.x.<br>\n",
              "We recommend you <a href=\"https://www.tensorflow.org/guide/migrate\" target=\"_blank\">upgrade</a> now \n",
              "or ensure your notebook will continue to use TensorFlow 1.x via the <code>%tensorflow_version 1.x</code> magic:\n",
              "<a href=\"https://colab.research.google.com/notebooks/tensorflow_version.ipynb\" target=\"_blank\">more info</a>.</p>\n"
            ],
            "text/plain": [
              "<IPython.core.display.HTML object>"
            ]
          },
          "metadata": {
            "tags": []
          }
        }
      ]
    },
    {
      "cell_type": "markdown",
      "metadata": {
        "colab_type": "text",
        "id": "N3AYbP79bFtJ"
      },
      "source": [
        "### Print the shape of X_train and mask array"
      ]
    },
    {
      "cell_type": "code",
      "metadata": {
        "colab_type": "code",
        "id": "3PIRaEdWIjDa",
        "outputId": "a31a872f-e40e-45a9-ee8b-d82aa142a8d1",
        "colab": {
          "base_uri": "https://localhost:8080/",
          "height": 34
        }
      },
      "source": [
        "print(\"X_train shape : \",X_train.shape)"
      ],
      "execution_count": 10,
      "outputs": [
        {
          "output_type": "stream",
          "text": [
            "X_train shape :  (409, 224, 224, 3)\n"
          ],
          "name": "stdout"
        }
      ]
    },
    {
      "cell_type": "code",
      "metadata": {
        "colab_type": "code",
        "id": "Gw6uH5DxgI_r",
        "outputId": "20314a99-f639-4b74-ebcd-f5cec0d2a9fb",
        "colab": {
          "base_uri": "https://localhost:8080/",
          "height": 34
        }
      },
      "source": [
        "print(\"masks array shape : \",masks.shape)"
      ],
      "execution_count": 11,
      "outputs": [
        {
          "output_type": "stream",
          "text": [
            "masks array shape :  (409, 224, 224)\n"
          ],
          "name": "stdout"
        }
      ]
    },
    {
      "cell_type": "markdown",
      "metadata": {
        "colab_type": "text",
        "id": "R4wgkWq1bk5F"
      },
      "source": [
        "### Print a sample image and image array"
      ]
    },
    {
      "cell_type": "code",
      "metadata": {
        "colab_type": "code",
        "id": "qfRZjQufj0N9",
        "outputId": "f3b901dc-95ca-4b57-cfeb-48fb0acb0f0d",
        "colab": {
          "base_uri": "https://localhost:8080/",
          "height": 1000
        }
      },
      "source": [
        "# After reshaping the image to 224 X 224 let's view it\n",
        "from matplotlib import pyplot\n",
        "n = 10\n",
        "print(X_train[n])\n",
        "pyplot.imshow(X_train[n])"
      ],
      "execution_count": 12,
      "outputs": [
        {
          "output_type": "stream",
          "text": [
            "Clipping input data to the valid range for imshow with RGB data ([0..1] for floats or [0..255] for integers).\n"
          ],
          "name": "stderr"
        },
        {
          "output_type": "stream",
          "text": [
            "[[[-0.98431373 -0.98431373 -0.98431373]\n",
            "  [-0.98431373 -0.98431373 -0.98431373]\n",
            "  [-0.98431373 -0.98431373 -0.98431373]\n",
            "  ...\n",
            "  [-1.         -1.         -1.        ]\n",
            "  [-1.         -1.         -1.        ]\n",
            "  [-1.         -1.         -1.        ]]\n",
            "\n",
            " [[-0.98431373 -0.98431373 -0.98431373]\n",
            "  [-0.98431373 -0.98431373 -0.98431373]\n",
            "  [-0.98431373 -0.98431373 -0.98431373]\n",
            "  ...\n",
            "  [-1.         -1.         -1.        ]\n",
            "  [-1.         -1.         -1.        ]\n",
            "  [-1.         -1.         -1.        ]]\n",
            "\n",
            " [[-0.98431373 -0.98431373 -0.98431373]\n",
            "  [-0.98431373 -0.98431373 -0.98431373]\n",
            "  [-0.98431373 -0.98431373 -0.98431373]\n",
            "  ...\n",
            "  [-1.         -1.         -1.        ]\n",
            "  [-1.         -1.         -1.        ]\n",
            "  [-1.         -1.         -1.        ]]\n",
            "\n",
            " ...\n",
            "\n",
            " [[-1.         -1.         -1.        ]\n",
            "  [-1.         -1.         -1.        ]\n",
            "  [-1.         -1.         -1.        ]\n",
            "  ...\n",
            "  [-0.96862745 -0.96862745 -0.96862745]\n",
            "  [-0.96078432 -0.96078432 -0.96078432]\n",
            "  [-0.96078432 -0.96078432 -0.96078432]]\n",
            "\n",
            " [[-1.         -1.         -1.        ]\n",
            "  [-1.         -1.         -1.        ]\n",
            "  [-1.         -1.         -1.        ]\n",
            "  ...\n",
            "  [-0.96862745 -0.96862745 -0.96862745]\n",
            "  [-0.96078432 -0.96078432 -0.96078432]\n",
            "  [-0.95294118 -0.95294118 -0.95294118]]\n",
            "\n",
            " [[-1.         -1.         -1.        ]\n",
            "  [-1.         -1.         -1.        ]\n",
            "  [-1.         -1.         -1.        ]\n",
            "  ...\n",
            "  [-0.97647059 -0.97647059 -0.97647059]\n",
            "  [-0.96862745 -0.96862745 -0.96862745]\n",
            "  [-0.96078432 -0.96078432 -0.96078432]]]\n"
          ],
          "name": "stdout"
        },
        {
          "output_type": "execute_result",
          "data": {
            "text/plain": [
              "<matplotlib.image.AxesImage at 0x7f386407ce48>"
            ]
          },
          "metadata": {
            "tags": []
          },
          "execution_count": 12
        },
        {
          "output_type": "display_data",
          "data": {
            "image/png": "[encoded data removed]",
            "text/plain": [
              "<Figure size 432x288 with 1 Axes>"
            ]
          },
          "metadata": {
            "tags": []
          }
        }
      ]
    },
    {
      "cell_type": "code",
      "metadata": {
        "colab_type": "code",
        "id": "983gGKcwlSe8",
        "outputId": "9430c9bf-2085-4b40-f8a1-ce3742ef0db4",
        "colab": {
          "base_uri": "https://localhost:8080/",
          "height": 286
        }
      },
      "source": [
        "# Viewing the given mask for the said input image\n",
        "pyplot.imshow(masks[n]) # We are able to see that the portion having the face in the image is coloured as yellow and the rest portion as purple"
      ],
      "execution_count": 13,
      "outputs": [
        {
          "output_type": "execute_result",
          "data": {
            "text/plain": [
              "<matplotlib.image.AxesImage at 0x7f3863fece80>"
            ]
          },
          "metadata": {
            "tags": []
          },
          "execution_count": 13
        },
        {
          "output_type": "display_data",
          "data": {
            "image/png": "[encoded data removed]",
            "text/plain": [
              "<Figure size 432x288 with 1 Axes>"
            ]
          },
          "metadata": {
            "tags": []
          }
        }
      ]
    },
    {
      "cell_type": "markdown",
      "metadata": {
        "colab_type": "text",
        "id": "Z0Qa1UOue9TE"
      },
      "source": [
        "## Create the model\n",
        "- Add MobileNet as model with below parameter values\n",
        "  - input_shape: IMAGE_HEIGHT, IMAGE_WIDTH, 3\n",
        "  - include_top: False\n",
        "  - alpha: 1.0\n",
        "  - weights: \"imagenet\"\n",
        "- Add UNET architecture layers\n",
        "  - This is the trickiest part of the project, you need to research and implement it correctly"
      ]
    },
    {
      "cell_type": "code",
      "metadata": {
        "colab_type": "code",
        "id": "BTVYOvANrUVx",
        "colab": {}
      },
      "source": [
        "from tensorflow.keras.applications.mobilenet import MobileNet\n",
        "from tensorflow.keras.layers import Concatenate, UpSampling2D, Conv2D, Reshape\n",
        "from tensorflow.keras.models import Model\n",
        "\n",
        "\n",
        "def create_model(trainable=True):\n",
        "    ALPHA = 1.0\n",
        "    model = MobileNet(input_shape=(IMAGE_HEIGHT, IMAGE_WIDTH, 3), include_top=False, alpha=ALPHA, weights=\"imagenet\") # Load pre-trained mobilenet\n",
        "    for layer in model.layers:\n",
        "        layer.trainable = trainable\n",
        "    HEIGHT_CELLS = 224\n",
        "    WIDTH_CELLS = 224\n",
        "    # Add all the UNET layers here\n",
        "\n",
        "# Initializing some blocks whose layer names are collected from the architecture. \n",
        "    block1 = model.input\n",
        "    block2 = model.get_layer(\"conv_pw_1_relu\").output\n",
        "    block3 = model.get_layer(\"conv_pw_3_relu\").output\n",
        "    block4 = model.get_layer(\"conv_pw_5_relu\").output\n",
        "    block5 = model.get_layer(\"conv_pw_11_relu\").output\n",
        "    block6 = model.get_layer(\"conv_pw_13_relu\").output\n",
        "\n",
        "# So following UNET architecture we concatenate the upsampled feature map of a layer with the downsampled feature map present in the same layer.\n",
        "    x = Concatenate()([UpSampling2D()(block6), block5])\n",
        "    x = Concatenate()([UpSampling2D()(x), block4])\n",
        "    x = Concatenate()([UpSampling2D()(x), block3])\n",
        "    x = Concatenate()([UpSampling2D()(x), block2])\n",
        "    x = Concatenate()([UpSampling2D()(x), block1])\n",
        "\n",
        "# We use activation function as sigmoid in this case\n",
        "    x = Conv2D(1, kernel_size=1, activation=\"sigmoid\")(x)\n",
        "    x = Reshape((HEIGHT_CELLS, WIDTH_CELLS))(x)\n",
        "# Reshaping the predicted mask as the shape of the expected mask. \n",
        "\n",
        "    return Model(inputs=model.input, outputs=x)"
      ],
      "execution_count": 0,
      "outputs": []
    },
    {
      "cell_type": "markdown",
      "metadata": {
        "colab_type": "text",
        "id": "_snZ9o0ZBAiv"
      },
      "source": [
        "### Call the create_model function"
      ]
    },
    {
      "cell_type": "markdown",
      "metadata": {
        "id": "2xX8S4srzD0v",
        "colab_type": "text"
      },
      "source": [
        "# Here we are making trainable as False"
      ]
    },
    {
      "cell_type": "code",
      "metadata": {
        "colab_type": "code",
        "id": "9TfSSP51uPoO",
        "outputId": "d7b7f0ec-2c43-4158-a8d4-35cd9b99e2e9",
        "colab": {
          "base_uri": "https://localhost:8080/",
          "height": 1000
        }
      },
      "source": [
        "# Give trainable=False as argument, if you want to freeze lower layers for fast training (but low accuracy)\n",
        "model = create_model(False) # Making trainable as False\n",
        "\n",
        "# Print summary\n",
        "model.summary()"
      ],
      "execution_count": 15,
      "outputs": [
        {
          "output_type": "stream",
          "text": [
            "WARNING:tensorflow:From /usr/local/lib/python3.6/dist-packages/tensorflow_core/python/ops/resource_variable_ops.py:1630: calling BaseResourceVariable.__init__ (from tensorflow.python.ops.resource_variable_ops) with constraint is deprecated and will be removed in a future version.\n",
            "Instructions for updating:\n",
            "If using Keras pass *_constraint arguments to layers.\n",
            "Model: \"model\"\n",
            "__________________________________________________________________________________________________\n",
            "Layer (type)                    Output Shape         Param #     Connected to                     \n",
            "==================================================================================================\n",
            "input_1 (InputLayer)            [(None, 224, 224, 3) 0                                            \n",
            "__________________________________________________________________________________________________\n",
            "conv1_pad (ZeroPadding2D)       (None, 225, 225, 3)  0           input_1[0][0]                    \n",
            "__________________________________________________________________________________________________\n",
            "conv1 (Conv2D)                  (None, 112, 112, 32) 864         conv1_pad[0][0]                  \n",
            "__________________________________________________________________________________________________\n",
            "conv1_bn (BatchNormalization)   (None, 112, 112, 32) 128         conv1[0][0]                      \n",
            "__________________________________________________________________________________________________\n",
            "conv1_relu (ReLU)               (None, 112, 112, 32) 0           conv1_bn[0][0]                   \n",
            "__________________________________________________________________________________________________\n",
            "conv_dw_1 (DepthwiseConv2D)     (None, 112, 112, 32) 288         conv1_relu[0][0]                 \n",
            "__________________________________________________________________________________________________\n",
            "conv_dw_1_bn (BatchNormalizatio (None, 112, 112, 32) 128         conv_dw_1[0][0]                  \n",
            "__________________________________________________________________________________________________\n",
            "conv_dw_1_relu (ReLU)           (None, 112, 112, 32) 0           conv_dw_1_bn[0][0]               \n",
            "__________________________________________________________________________________________________\n",
            "conv_pw_1 (Conv2D)              (None, 112, 112, 64) 2048        conv_dw_1_relu[0][0]             \n",
            "__________________________________________________________________________________________________\n",
            "conv_pw_1_bn (BatchNormalizatio (None, 112, 112, 64) 256         conv_pw_1[0][0]                  \n",
            "__________________________________________________________________________________________________\n",
            "conv_pw_1_relu (ReLU)           (None, 112, 112, 64) 0           conv_pw_1_bn[0][0]               \n",
            "__________________________________________________________________________________________________\n",
            "conv_pad_2 (ZeroPadding2D)      (None, 113, 113, 64) 0           conv_pw_1_relu[0][0]             \n",
            "__________________________________________________________________________________________________\n",
            "conv_dw_2 (DepthwiseConv2D)     (None, 56, 56, 64)   576         conv_pad_2[0][0]                 \n",
            "__________________________________________________________________________________________________\n",
            "conv_dw_2_bn (BatchNormalizatio (None, 56, 56, 64)   256         conv_dw_2[0][0]                  \n",
            "__________________________________________________________________________________________________\n",
            "conv_dw_2_relu (ReLU)           (None, 56, 56, 64)   0           conv_dw_2_bn[0][0]               \n",
            "__________________________________________________________________________________________________\n",
            "conv_pw_2 (Conv2D)              (None, 56, 56, 128)  8192        conv_dw_2_relu[0][0]             \n",
            "__________________________________________________________________________________________________\n",
            "conv_pw_2_bn (BatchNormalizatio (None, 56, 56, 128)  512         conv_pw_2[0][0]                  \n",
            "__________________________________________________________________________________________________\n",
            "conv_pw_2_relu (ReLU)           (None, 56, 56, 128)  0           conv_pw_2_bn[0][0]               \n",
            "__________________________________________________________________________________________________\n",
            "conv_dw_3 (DepthwiseConv2D)     (None, 56, 56, 128)  1152        conv_pw_2_relu[0][0]             \n",
            "__________________________________________________________________________________________________\n",
            "conv_dw_3_bn (BatchNormalizatio (None, 56, 56, 128)  512         conv_dw_3[0][0]                  \n",
            "__________________________________________________________________________________________________\n",
            "conv_dw_3_relu (ReLU)           (None, 56, 56, 128)  0           conv_dw_3_bn[0][0]               \n",
            "__________________________________________________________________________________________________\n",
            "conv_pw_3 (Conv2D)              (None, 56, 56, 128)  16384       conv_dw_3_relu[0][0]             \n",
            "__________________________________________________________________________________________________\n",
            "conv_pw_3_bn (BatchNormalizatio (None, 56, 56, 128)  512         conv_pw_3[0][0]                  \n",
            "__________________________________________________________________________________________________\n",
            "conv_pw_3_relu (ReLU)           (None, 56, 56, 128)  0           conv_pw_3_bn[0][0]               \n",
            "__________________________________________________________________________________________________\n",
            "conv_pad_4 (ZeroPadding2D)      (None, 57, 57, 128)  0           conv_pw_3_relu[0][0]             \n",
            "__________________________________________________________________________________________________\n",
            "conv_dw_4 (DepthwiseConv2D)     (None, 28, 28, 128)  1152        conv_pad_4[0][0]                 \n",
            "__________________________________________________________________________________________________\n",
            "conv_dw_4_bn (BatchNormalizatio (None, 28, 28, 128)  512         conv_dw_4[0][0]                  \n",
            "__________________________________________________________________________________________________\n",
            "conv_dw_4_relu (ReLU)           (None, 28, 28, 128)  0           conv_dw_4_bn[0][0]               \n",
            "__________________________________________________________________________________________________\n",
            "conv_pw_4 (Conv2D)              (None, 28, 28, 256)  32768       conv_dw_4_relu[0][0]             \n",
            "__________________________________________________________________________________________________\n",
            "conv_pw_4_bn (BatchNormalizatio (None, 28, 28, 256)  1024        conv_pw_4[0][0]                  \n",
            "__________________________________________________________________________________________________\n",
            "conv_pw_4_relu (ReLU)           (None, 28, 28, 256)  0           conv_pw_4_bn[0][0]               \n",
            "__________________________________________________________________________________________________\n",
            "conv_dw_5 (DepthwiseConv2D)     (None, 28, 28, 256)  2304        conv_pw_4_relu[0][0]             \n",
            "__________________________________________________________________________________________________\n",
            "conv_dw_5_bn (BatchNormalizatio (None, 28, 28, 256)  1024        conv_dw_5[0][0]                  \n",
            "__________________________________________________________________________________________________\n",
            "conv_dw_5_relu (ReLU)           (None, 28, 28, 256)  0           conv_dw_5_bn[0][0]               \n",
            "__________________________________________________________________________________________________\n",
            "conv_pw_5 (Conv2D)              (None, 28, 28, 256)  65536       conv_dw_5_relu[0][0]             \n",
            "__________________________________________________________________________________________________\n",
            "conv_pw_5_bn (BatchNormalizatio (None, 28, 28, 256)  1024        conv_pw_5[0][0]                  \n",
            "__________________________________________________________________________________________________\n",
            "conv_pw_5_relu (ReLU)           (None, 28, 28, 256)  0           conv_pw_5_bn[0][0]               \n",
            "__________________________________________________________________________________________________\n",
            "conv_pad_6 (ZeroPadding2D)      (None, 29, 29, 256)  0           conv_pw_5_relu[0][0]             \n",
            "__________________________________________________________________________________________________\n",
            "conv_dw_6 (DepthwiseConv2D)     (None, 14, 14, 256)  2304        conv_pad_6[0][0]                 \n",
            "__________________________________________________________________________________________________\n",
            "conv_dw_6_bn (BatchNormalizatio (None, 14, 14, 256)  1024        conv_dw_6[0][0]                  \n",
            "__________________________________________________________________________________________________\n",
            "conv_dw_6_relu (ReLU)           (None, 14, 14, 256)  0           conv_dw_6_bn[0][0]               \n",
            "__________________________________________________________________________________________________\n",
            "conv_pw_6 (Conv2D)              (None, 14, 14, 512)  131072      conv_dw_6_relu[0][0]             \n",
            "__________________________________________________________________________________________________\n",
            "conv_pw_6_bn (BatchNormalizatio (None, 14, 14, 512)  2048        conv_pw_6[0][0]                  \n",
            "__________________________________________________________________________________________________\n",
            "conv_pw_6_relu (ReLU)           (None, 14, 14, 512)  0           conv_pw_6_bn[0][0]               \n",
            "__________________________________________________________________________________________________\n",
            "conv_dw_7 (DepthwiseConv2D)     (None, 14, 14, 512)  4608        conv_pw_6_relu[0][0]             \n",
            "__________________________________________________________________________________________________\n",
            "conv_dw_7_bn (BatchNormalizatio (None, 14, 14, 512)  2048        conv_dw_7[0][0]                  \n",
            "__________________________________________________________________________________________________\n",
            "conv_dw_7_relu (ReLU)           (None, 14, 14, 512)  0           conv_dw_7_bn[0][0]               \n",
            "__________________________________________________________________________________________________\n",
            "conv_pw_7 (Conv2D)              (None, 14, 14, 512)  262144      conv_dw_7_relu[0][0]             \n",
            "__________________________________________________________________________________________________\n",
            "conv_pw_7_bn (BatchNormalizatio (None, 14, 14, 512)  2048        conv_pw_7[0][0]                  \n",
            "__________________________________________________________________________________________________\n",
            "conv_pw_7_relu (ReLU)           (None, 14, 14, 512)  0           conv_pw_7_bn[0][0]               \n",
            "__________________________________________________________________________________________________\n",
            "conv_dw_8 (DepthwiseConv2D)     (None, 14, 14, 512)  4608        conv_pw_7_relu[0][0]             \n",
            "__________________________________________________________________________________________________\n",
            "conv_dw_8_bn (BatchNormalizatio (None, 14, 14, 512)  2048        conv_dw_8[0][0]                  \n",
            "__________________________________________________________________________________________________\n",
            "conv_dw_8_relu (ReLU)           (None, 14, 14, 512)  0           conv_dw_8_bn[0][0]               \n",
            "__________________________________________________________________________________________________\n",
            "conv_pw_8 (Conv2D)              (None, 14, 14, 512)  262144      conv_dw_8_relu[0][0]             \n",
            "__________________________________________________________________________________________________\n",
            "conv_pw_8_bn (BatchNormalizatio (None, 14, 14, 512)  2048        conv_pw_8[0][0]                  \n",
            "__________________________________________________________________________________________________\n",
            "conv_pw_8_relu (ReLU)           (None, 14, 14, 512)  0           conv_pw_8_bn[0][0]               \n",
            "__________________________________________________________________________________________________\n",
            "conv_dw_9 (DepthwiseConv2D)     (None, 14, 14, 512)  4608        conv_pw_8_relu[0][0]             \n",
            "__________________________________________________________________________________________________\n",
            "conv_dw_9_bn (BatchNormalizatio (None, 14, 14, 512)  2048        conv_dw_9[0][0]                  \n",
            "__________________________________________________________________________________________________\n",
            "conv_dw_9_relu (ReLU)           (None, 14, 14, 512)  0           conv_dw_9_bn[0][0]               \n",
            "__________________________________________________________________________________________________\n",
            "conv_pw_9 (Conv2D)              (None, 14, 14, 512)  262144      conv_dw_9_relu[0][0]             \n",
            "__________________________________________________________________________________________________\n",
            "conv_pw_9_bn (BatchNormalizatio (None, 14, 14, 512)  2048        conv_pw_9[0][0]                  \n",
            "__________________________________________________________________________________________________\n",
            "conv_pw_9_relu (ReLU)           (None, 14, 14, 512)  0           conv_pw_9_bn[0][0]               \n",
            "__________________________________________________________________________________________________\n",
            "conv_dw_10 (DepthwiseConv2D)    (None, 14, 14, 512)  4608        conv_pw_9_relu[0][0]             \n",
            "__________________________________________________________________________________________________\n",
            "conv_dw_10_bn (BatchNormalizati (None, 14, 14, 512)  2048        conv_dw_10[0][0]                 \n",
            "__________________________________________________________________________________________________\n",
            "conv_dw_10_relu (ReLU)          (None, 14, 14, 512)  0           conv_dw_10_bn[0][0]              \n",
            "__________________________________________________________________________________________________\n",
            "conv_pw_10 (Conv2D)             (None, 14, 14, 512)  262144      conv_dw_10_relu[0][0]            \n",
            "__________________________________________________________________________________________________\n",
            "conv_pw_10_bn (BatchNormalizati (None, 14, 14, 512)  2048        conv_pw_10[0][0]                 \n",
            "__________________________________________________________________________________________________\n",
            "conv_pw_10_relu (ReLU)          (None, 14, 14, 512)  0           conv_pw_10_bn[0][0]              \n",
            "__________________________________________________________________________________________________\n",
            "conv_dw_11 (DepthwiseConv2D)    (None, 14, 14, 512)  4608        conv_pw_10_relu[0][0]            \n",
            "__________________________________________________________________________________________________\n",
            "conv_dw_11_bn (BatchNormalizati (None, 14, 14, 512)  2048        conv_dw_11[0][0]                 \n",
            "__________________________________________________________________________________________________\n",
            "conv_dw_11_relu (ReLU)          (None, 14, 14, 512)  0           conv_dw_11_bn[0][0]              \n",
            "__________________________________________________________________________________________________\n",
            "conv_pw_11 (Conv2D)             (None, 14, 14, 512)  262144      conv_dw_11_relu[0][0]            \n",
            "__________________________________________________________________________________________________\n",
            "conv_pw_11_bn (BatchNormalizati (None, 14, 14, 512)  2048        conv_pw_11[0][0]                 \n",
            "__________________________________________________________________________________________________\n",
            "conv_pw_11_relu (ReLU)          (None, 14, 14, 512)  0           conv_pw_11_bn[0][0]              \n",
            "__________________________________________________________________________________________________\n",
            "conv_pad_12 (ZeroPadding2D)     (None, 15, 15, 512)  0           conv_pw_11_relu[0][0]            \n",
            "__________________________________________________________________________________________________\n",
            "conv_dw_12 (DepthwiseConv2D)    (None, 7, 7, 512)    4608        conv_pad_12[0][0]                \n",
            "__________________________________________________________________________________________________\n",
            "conv_dw_12_bn (BatchNormalizati (None, 7, 7, 512)    2048        conv_dw_12[0][0]                 \n",
            "__________________________________________________________________________________________________\n",
            "conv_dw_12_relu (ReLU)          (None, 7, 7, 512)    0           conv_dw_12_bn[0][0]              \n",
            "__________________________________________________________________________________________________\n",
            "conv_pw_12 (Conv2D)             (None, 7, 7, 1024)   524288      conv_dw_12_relu[0][0]            \n",
            "__________________________________________________________________________________________________\n",
            "conv_pw_12_bn (BatchNormalizati (None, 7, 7, 1024)   4096        conv_pw_12[0][0]                 \n",
            "__________________________________________________________________________________________________\n",
            "conv_pw_12_relu (ReLU)          (None, 7, 7, 1024)   0           conv_pw_12_bn[0][0]              \n",
            "__________________________________________________________________________________________________\n",
            "conv_dw_13 (DepthwiseConv2D)    (None, 7, 7, 1024)   9216        conv_pw_12_relu[0][0]            \n",
            "__________________________________________________________________________________________________\n",
            "conv_dw_13_bn (BatchNormalizati (None, 7, 7, 1024)   4096        conv_dw_13[0][0]                 \n",
            "__________________________________________________________________________________________________\n",
            "conv_dw_13_relu (ReLU)          (None, 7, 7, 1024)   0           conv_dw_13_bn[0][0]              \n",
            "__________________________________________________________________________________________________\n",
            "conv_pw_13 (Conv2D)             (None, 7, 7, 1024)   1048576     conv_dw_13_relu[0][0]            \n",
            "__________________________________________________________________________________________________\n",
            "conv_pw_13_bn (BatchNormalizati (None, 7, 7, 1024)   4096        conv_pw_13[0][0]                 \n",
            "__________________________________________________________________________________________________\n",
            "conv_pw_13_relu (ReLU)          (None, 7, 7, 1024)   0           conv_pw_13_bn[0][0]              \n",
            "__________________________________________________________________________________________________\n",
            "up_sampling2d (UpSampling2D)    (None, 14, 14, 1024) 0           conv_pw_13_relu[0][0]            \n",
            "__________________________________________________________________________________________________\n",
            "concatenate (Concatenate)       (None, 14, 14, 1536) 0           up_sampling2d[0][0]              \n",
            "                                                                 conv_pw_11_relu[0][0]            \n",
            "__________________________________________________________________________________________________\n",
            "up_sampling2d_1 (UpSampling2D)  (None, 28, 28, 1536) 0           concatenate[0][0]                \n",
            "__________________________________________________________________________________________________\n",
            "concatenate_1 (Concatenate)     (None, 28, 28, 1792) 0           up_sampling2d_1[0][0]            \n",
            "                                                                 conv_pw_5_relu[0][0]             \n",
            "__________________________________________________________________________________________________\n",
            "up_sampling2d_2 (UpSampling2D)  (None, 56, 56, 1792) 0           concatenate_1[0][0]              \n",
            "__________________________________________________________________________________________________\n",
            "concatenate_2 (Concatenate)     (None, 56, 56, 1920) 0           up_sampling2d_2[0][0]            \n",
            "                                                                 conv_pw_3_relu[0][0]             \n",
            "__________________________________________________________________________________________________\n",
            "up_sampling2d_3 (UpSampling2D)  (None, 112, 112, 192 0           concatenate_2[0][0]              \n",
            "__________________________________________________________________________________________________\n",
            "concatenate_3 (Concatenate)     (None, 112, 112, 198 0           up_sampling2d_3[0][0]            \n",
            "                                                                 conv_pw_1_relu[0][0]             \n",
            "__________________________________________________________________________________________________\n",
            "up_sampling2d_4 (UpSampling2D)  (None, 224, 224, 198 0           concatenate_3[0][0]              \n",
            "__________________________________________________________________________________________________\n",
            "concatenate_4 (Concatenate)     (None, 224, 224, 198 0           up_sampling2d_4[0][0]            \n",
            "                                                                 input_1[0][0]                    \n",
            "__________________________________________________________________________________________________\n",
            "conv2d (Conv2D)                 (None, 224, 224, 1)  1988        concatenate_4[0][0]              \n",
            "__________________________________________________________________________________________________\n",
            "reshape (Reshape)               (None, 224, 224)     0           conv2d[0][0]                     \n",
            "==================================================================================================\n",
            "Total params: 3,230,852\n",
            "Trainable params: 1,988\n",
            "Non-trainable params: 3,228,864\n",
            "__________________________________________________________________________________________________\n"
          ],
          "name": "stdout"
        }
      ]
    },
    {
      "cell_type": "markdown",
      "metadata": {
        "colab_type": "text",
        "id": "2spcE4TvfEZw"
      },
      "source": [
        "### Define dice coefficient function\n",
        "- Create a function to calculate dice coefficient\n"
      ]
    },
    {
      "cell_type": "code",
      "metadata": {
        "colab_type": "code",
        "id": "8H8aViXZuWz1",
        "colab": {}
      },
      "source": [
        "import tensorflow as tf\n",
        "def dice_coefficient(y_true, y_pred):\n",
        "    numerator = 2 * tf.reduce_sum(y_true * y_pred)\n",
        "    denominator = tf.reduce_sum(y_true + y_pred)\n",
        "    return numerator / (denominator + tf.keras.backend.epsilon())"
      ],
      "execution_count": 0,
      "outputs": []
    },
    {
      "cell_type": "markdown",
      "metadata": {
        "colab_type": "text",
        "id": "Nkp5SDM1fIu2"
      },
      "source": [
        "### Define loss"
      ]
    },
    {
      "cell_type": "code",
      "metadata": {
        "colab_type": "code",
        "id": "FEOVfs19KVLv",
        "colab": {}
      },
      "source": [
        "from tensorflow.keras.losses import binary_crossentropy\n",
        "from tensorflow.keras.backend import log, epsilon\n",
        "def loss(y_true, y_pred):\n",
        "    return binary_crossentropy(y_true, y_pred) - log(dice_coefficient(y_true, y_pred) + epsilon())"
      ],
      "execution_count": 0,
      "outputs": []
    },
    {
      "cell_type": "markdown",
      "metadata": {
        "colab_type": "text",
        "id": "Thltv_akfOMS"
      },
      "source": [
        "### Compile the model\n",
        "- Complie the model using below parameters\n",
        "  - loss: use the loss function defined above\n",
        "  - optimizers: use Adam optimizer\n",
        "  - metrics: use dice_coefficient function defined above"
      ]
    },
    {
      "cell_type": "code",
      "metadata": {
        "colab_type": "code",
        "id": "atPb8xm2qkK5",
        "colab": {}
      },
      "source": [
        "from tensorflow.keras.optimizers import Adam\n",
        "optimizer = Adam()\n",
        "model.compile(loss=loss, optimizer=optimizer, metrics=[dice_coefficient])"
      ],
      "execution_count": 0,
      "outputs": []
    },
    {
      "cell_type": "markdown",
      "metadata": {
        "colab_type": "text",
        "id": "VTumZyg0fuVy"
      },
      "source": [
        "### Define checkpoint and earlystopping"
      ]
    },
    {
      "cell_type": "code",
      "metadata": {
        "colab_type": "code",
        "id": "QNlQHt8DMy7h",
        "outputId": "e1b23344-0bd9-4ab8-c94e-fad3ff62d74b",
        "colab": {
          "base_uri": "https://localhost:8080/",
          "height": 34
        }
      },
      "source": [
        "from tensorflow.keras.callbacks import ModelCheckpoint, EarlyStopping, ReduceLROnPlateau\n",
        "checkpoint = ModelCheckpoint(\"model-{loss:.2f}.h5\", monitor=\"loss\", verbose=1, save_best_only=True,\n",
        "                             save_weights_only=True, mode=\"min\", period=1)\n",
        "stop = EarlyStopping(monitor=\"loss\", patience=5, mode=\"min\")\n",
        "reduce_lr = ReduceLROnPlateau(monitor=\"loss\", factor=0.2, patience=5, min_lr=1e-6, verbose=1, mode=\"min\")"
      ],
      "execution_count": 19,
      "outputs": [
        {
          "output_type": "stream",
          "text": [
            "WARNING:tensorflow:`period` argument is deprecated. Please use `save_freq` to specify the frequency in number of samples seen.\n"
          ],
          "name": "stdout"
        }
      ]
    },
    {
      "cell_type": "markdown",
      "metadata": {
        "colab_type": "text",
        "id": "LxxbwvXEf07e"
      },
      "source": [
        "### Fit the model\n",
        "- Fit the model using below parameters\n",
        "  - epochs: you can decide\n",
        "  - batch_size: 1\n",
        "  - callbacks: checkpoint, reduce_lr, stop"
      ]
    },
    {
      "cell_type": "code",
      "metadata": {
        "colab_type": "code",
        "id": "guFfKsEmq58j",
        "colab": {}
      },
      "source": [
        "EPOCHS = 50\n",
        "BATCH_SIZE = 1"
      ],
      "execution_count": 0,
      "outputs": []
    },
    {
      "cell_type": "code",
      "metadata": {
        "id": "4E6Cwst6HYp_",
        "colab_type": "code",
        "outputId": "7f1f5b67-8dd6-4d93-f1ab-03ee6942780e",
        "colab": {
          "base_uri": "https://localhost:8080/",
          "height": 1000
        }
      },
      "source": [
        "# Fit the model\n",
        "history = model.fit(X_train, masks, validation_split=0.20, epochs=EPOCHS, batch_size=BATCH_SIZE,callbacks=[checkpoint, reduce_lr, stop])"
      ],
      "execution_count": 21,
      "outputs": [
        {
          "output_type": "stream",
          "text": [
            "WARNING:tensorflow:From /usr/local/lib/python3.6/dist-packages/tensorflow_core/python/ops/math_grad.py:1424: where (from tensorflow.python.ops.array_ops) is deprecated and will be removed in a future version.\n",
            "Instructions for updating:\n",
            "Use tf.where in 2.0, which has the same broadcast rule as np.where\n",
            "Train on 327 samples, validate on 82 samples\n",
            "Epoch 1/50\n",
            "326/327 [============================>.] - ETA: 0s - loss: 1.3661 - dice_coefficient: 0.4332\n",
            "Epoch 00001: loss improved from inf to 1.36544, saving model to model-1.37.h5\n",
            "327/327 [==============================] - 13s 39ms/sample - loss: 1.3654 - dice_coefficient: 0.4335 - val_loss: 1.0520 - val_dice_coefficient: 0.5145\n",
            "Epoch 2/50\n",
            "324/327 [============================>.] - ETA: 0s - loss: 1.0921 - dice_coefficient: 0.5235\n",
            "Epoch 00002: loss improved from 1.36544 to 1.08870, saving model to model-1.09.h5\n",
            "327/327 [==============================] - 9s 26ms/sample - loss: 1.0887 - dice_coefficient: 0.5246 - val_loss: 0.9265 - val_dice_coefficient: 0.5484\n",
            "Epoch 3/50\n",
            "325/327 [============================>.] - ETA: 0s - loss: 1.0509 - dice_coefficient: 0.5408\n",
            "Epoch 00003: loss improved from 1.08870 to 1.04804, saving model to model-1.05.h5\n",
            "327/327 [==============================] - 9s 27ms/sample - loss: 1.0480 - dice_coefficient: 0.5420 - val_loss: 1.4498 - val_dice_coefficient: 0.4643\n",
            "Epoch 4/50\n",
            "324/327 [============================>.] - ETA: 0s - loss: 0.9999 - dice_coefficient: 0.5556\n",
            "Epoch 00004: loss improved from 1.04804 to 1.00243, saving model to model-1.00.h5\n",
            "327/327 [==============================] - 9s 26ms/sample - loss: 1.0024 - dice_coefficient: 0.5551 - val_loss: 0.8809 - val_dice_coefficient: 0.5661\n",
            "Epoch 5/50\n",
            "325/327 [============================>.] - ETA: 0s - loss: 1.0088 - dice_coefficient: 0.5561\n",
            "Epoch 00005: loss did not improve from 1.00243\n",
            "327/327 [==============================] - 8s 26ms/sample - loss: 1.0058 - dice_coefficient: 0.5570 - val_loss: 1.0485 - val_dice_coefficient: 0.5389\n",
            "Epoch 6/50\n",
            "324/327 [============================>.] - ETA: 0s - loss: 0.9464 - dice_coefficient: 0.5713\n",
            "Epoch 00006: loss improved from 1.00243 to 0.94489, saving model to model-0.94.h5\n",
            "327/327 [==============================] - 9s 26ms/sample - loss: 0.9449 - dice_coefficient: 0.5714 - val_loss: 0.9090 - val_dice_coefficient: 0.5553\n",
            "Epoch 7/50\n",
            "324/327 [============================>.] - ETA: 0s - loss: 1.0002 - dice_coefficient: 0.5606\n",
            "Epoch 00007: loss did not improve from 0.94489\n",
            "327/327 [==============================] - 8s 26ms/sample - loss: 0.9986 - dice_coefficient: 0.5613 - val_loss: 0.9367 - val_dice_coefficient: 0.5523\n",
            "Epoch 8/50\n",
            "325/327 [============================>.] - ETA: 0s - loss: 0.9420 - dice_coefficient: 0.5773\n",
            "Epoch 00008: loss improved from 0.94489 to 0.93992, saving model to model-0.94.h5\n",
            "327/327 [==============================] - 9s 27ms/sample - loss: 0.9399 - dice_coefficient: 0.5780 - val_loss: 1.0965 - val_dice_coefficient: 0.5353\n",
            "Epoch 9/50\n",
            "325/327 [============================>.] - ETA: 0s - loss: 0.9350 - dice_coefficient: 0.5778\n",
            "Epoch 00009: loss improved from 0.93992 to 0.93440, saving model to model-0.93.h5\n",
            "327/327 [==============================] - 9s 27ms/sample - loss: 0.9344 - dice_coefficient: 0.5779 - val_loss: 1.0812 - val_dice_coefficient: 0.5361\n",
            "Epoch 10/50\n",
            "324/327 [============================>.] - ETA: 0s - loss: 0.9305 - dice_coefficient: 0.5820\n",
            "Epoch 00010: loss improved from 0.93440 to 0.93314, saving model to model-0.93.h5\n",
            "327/327 [==============================] - 9s 27ms/sample - loss: 0.9331 - dice_coefficient: 0.5808 - val_loss: 1.0458 - val_dice_coefficient: 0.5417\n",
            "Epoch 11/50\n",
            "325/327 [============================>.] - ETA: 0s - loss: 0.9374 - dice_coefficient: 0.5795\n",
            "Epoch 00011: loss did not improve from 0.93314\n",
            "327/327 [==============================] - 8s 26ms/sample - loss: 0.9377 - dice_coefficient: 0.5793 - val_loss: 1.2196 - val_dice_coefficient: 0.5130\n",
            "Epoch 12/50\n",
            "325/327 [============================>.] - ETA: 0s - loss: 0.9012 - dice_coefficient: 0.5915\n",
            "Epoch 00012: loss improved from 0.93314 to 0.90250, saving model to model-0.90.h5\n",
            "327/327 [==============================] - 9s 27ms/sample - loss: 0.9025 - dice_coefficient: 0.5903 - val_loss: 0.9221 - val_dice_coefficient: 0.5660\n",
            "Epoch 13/50\n",
            "325/327 [============================>.] - ETA: 0s - loss: 0.9217 - dice_coefficient: 0.5866\n",
            "Epoch 00013: loss did not improve from 0.90250\n",
            "327/327 [==============================] - 8s 26ms/sample - loss: 0.9235 - dice_coefficient: 0.5854 - val_loss: 0.9196 - val_dice_coefficient: 0.5667\n",
            "Epoch 14/50\n",
            "325/327 [============================>.] - ETA: 0s - loss: 0.9172 - dice_coefficient: 0.5878\n",
            "Epoch 00014: loss did not improve from 0.90250\n",
            "327/327 [==============================] - 8s 25ms/sample - loss: 0.9155 - dice_coefficient: 0.5881 - val_loss: 0.9037 - val_dice_coefficient: 0.5693\n",
            "Epoch 15/50\n",
            "325/327 [============================>.] - ETA: 0s - loss: 0.9248 - dice_coefficient: 0.5846\n",
            "Epoch 00015: loss did not improve from 0.90250\n",
            "327/327 [==============================] - 8s 25ms/sample - loss: 0.9246 - dice_coefficient: 0.5853 - val_loss: 0.9557 - val_dice_coefficient: 0.5628\n",
            "Epoch 16/50\n",
            "324/327 [============================>.] - ETA: 0s - loss: 0.9313 - dice_coefficient: 0.5870\n",
            "Epoch 00016: loss did not improve from 0.90250\n",
            "327/327 [==============================] - 8s 25ms/sample - loss: 0.9311 - dice_coefficient: 0.5867 - val_loss: 1.3782 - val_dice_coefficient: 0.4935\n",
            "Epoch 17/50\n",
            "325/327 [============================>.] - ETA: 0s - loss: 0.8995 - dice_coefficient: 0.5959\n",
            "Epoch 00017: loss improved from 0.90250 to 0.89639, saving model to model-0.90.h5\n",
            "327/327 [==============================] - 9s 27ms/sample - loss: 0.8964 - dice_coefficient: 0.5968 - val_loss: 0.9199 - val_dice_coefficient: 0.5675\n",
            "Epoch 18/50\n",
            "325/327 [============================>.] - ETA: 0s - loss: 0.9070 - dice_coefficient: 0.5937\n",
            "Epoch 00018: loss did not improve from 0.89639\n",
            "327/327 [==============================] - 8s 25ms/sample - loss: 0.9088 - dice_coefficient: 0.5929 - val_loss: 1.0911 - val_dice_coefficient: 0.5388\n",
            "Epoch 19/50\n",
            "325/327 [============================>.] - ETA: 0s - loss: 0.9055 - dice_coefficient: 0.5943\n",
            "Epoch 00019: loss did not improve from 0.89639\n",
            "327/327 [==============================] - 8s 26ms/sample - loss: 0.9041 - dice_coefficient: 0.5943 - val_loss: 0.9420 - val_dice_coefficient: 0.5652\n",
            "Epoch 20/50\n",
            "325/327 [============================>.] - ETA: 0s - loss: 0.9008 - dice_coefficient: 0.5965\n",
            "Epoch 00020: loss did not improve from 0.89639\n",
            "327/327 [==============================] - 8s 26ms/sample - loss: 0.9004 - dice_coefficient: 0.5958 - val_loss: 0.9252 - val_dice_coefficient: 0.5669\n",
            "Epoch 21/50\n",
            "325/327 [============================>.] - ETA: 0s - loss: 0.8947 - dice_coefficient: 0.5976\n",
            "Epoch 00021: loss improved from 0.89639 to 0.89543, saving model to model-0.90.h5\n",
            "327/327 [==============================] - 9s 27ms/sample - loss: 0.8954 - dice_coefficient: 0.5983 - val_loss: 1.4025 - val_dice_coefficient: 0.4933\n",
            "Epoch 22/50\n",
            "325/327 [============================>.] - ETA: 0s - loss: 0.9030 - dice_coefficient: 0.5957\n",
            "Epoch 00022: loss did not improve from 0.89543\n",
            "327/327 [==============================] - 8s 25ms/sample - loss: 0.9008 - dice_coefficient: 0.5964 - val_loss: 1.0168 - val_dice_coefficient: 0.5526\n",
            "Epoch 23/50\n",
            "325/327 [============================>.] - ETA: 0s - loss: 0.9038 - dice_coefficient: 0.5976\n",
            "Epoch 00023: loss did not improve from 0.89543\n",
            "327/327 [==============================] - 8s 26ms/sample - loss: 0.9034 - dice_coefficient: 0.5973 - val_loss: 0.9216 - val_dice_coefficient: 0.5633\n",
            "Epoch 24/50\n",
            "325/327 [============================>.] - ETA: 0s - loss: 0.9202 - dice_coefficient: 0.5941\n",
            "Epoch 00024: loss did not improve from 0.89543\n",
            "327/327 [==============================] - 8s 26ms/sample - loss: 0.9198 - dice_coefficient: 0.5941 - val_loss: 0.9408 - val_dice_coefficient: 0.5598\n",
            "Epoch 25/50\n",
            "325/327 [============================>.] - ETA: 0s - loss: 0.8988 - dice_coefficient: 0.5988\n",
            "Epoch 00025: loss did not improve from 0.89543\n",
            "327/327 [==============================] - 8s 26ms/sample - loss: 0.8974 - dice_coefficient: 0.5992 - val_loss: 0.9735 - val_dice_coefficient: 0.5591\n",
            "Epoch 26/50\n",
            "324/327 [============================>.] - ETA: 0s - loss: 0.8742 - dice_coefficient: 0.6048\n",
            "Epoch 00026: loss improved from 0.89543 to 0.87297, saving model to model-0.87.h5\n",
            "327/327 [==============================] - 9s 28ms/sample - loss: 0.8730 - dice_coefficient: 0.6051 - val_loss: 0.9246 - val_dice_coefficient: 0.5675\n",
            "Epoch 27/50\n",
            "325/327 [============================>.] - ETA: 0s - loss: 0.9057 - dice_coefficient: 0.5977\n",
            "Epoch 00027: loss did not improve from 0.87297\n",
            "327/327 [==============================] - 8s 26ms/sample - loss: 0.9045 - dice_coefficient: 0.5982 - val_loss: 1.0992 - val_dice_coefficient: 0.5407\n",
            "Epoch 28/50\n",
            "325/327 [============================>.] - ETA: 0s - loss: 0.8933 - dice_coefficient: 0.5987\n",
            "Epoch 00028: loss did not improve from 0.87297\n",
            "327/327 [==============================] - 8s 26ms/sample - loss: 0.8932 - dice_coefficient: 0.5988 - val_loss: 0.9824 - val_dice_coefficient: 0.5610\n",
            "Epoch 29/50\n",
            "325/327 [============================>.] - ETA: 0s - loss: 0.9081 - dice_coefficient: 0.6018\n",
            "Epoch 00029: loss did not improve from 0.87297\n",
            "327/327 [==============================] - 8s 26ms/sample - loss: 0.9089 - dice_coefficient: 0.6010 - val_loss: 1.0473 - val_dice_coefficient: 0.5460\n",
            "Epoch 30/50\n",
            "325/327 [============================>.] - ETA: 0s - loss: 0.8963 - dice_coefficient: 0.5994\n",
            "Epoch 00030: loss did not improve from 0.87297\n",
            "327/327 [==============================] - 8s 26ms/sample - loss: 0.8958 - dice_coefficient: 0.5994 - val_loss: 0.9263 - val_dice_coefficient: 0.5645\n",
            "Epoch 31/50\n",
            "324/327 [============================>.] - ETA: 0s - loss: 0.8910 - dice_coefficient: 0.6033\n",
            "Epoch 00031: loss did not improve from 0.87297\n",
            "\n",
            "Epoch 00031: ReduceLROnPlateau reducing learning rate to 0.00020000000949949026.\n",
            "327/327 [==============================] - 8s 26ms/sample - loss: 0.8895 - dice_coefficient: 0.6029 - val_loss: 0.9434 - val_dice_coefficient: 0.5595\n"
          ],
          "name": "stdout"
        }
      ]
    },
    {
      "cell_type": "code",
      "metadata": {
        "id": "4sesJnzf5HNi",
        "colab_type": "code",
        "outputId": "50098632-d8f9-4e0a-b2f5-5d4195b69b4d",
        "colab": {
          "base_uri": "https://localhost:8080/",
          "height": 590
        }
      },
      "source": [
        "# list all data in history\n",
        "print(history.history.keys())\n",
        "# summarize history for accuracy\n",
        "plt.plot(history.history['dice_coefficient'])\n",
        "plt.plot(history.history['val_dice_coefficient'])\n",
        "plt.title('model accuracy')\n",
        "plt.ylabel('dice_coefficient')\n",
        "plt.xlabel('epoch')\n",
        "plt.legend(['train', 'test'], loc='upper left')\n",
        "plt.show()\n",
        "# summarize history for loss\n",
        "plt.plot(history.history['loss'])\n",
        "plt.plot(history.history['val_loss'])\n",
        "plt.title('model loss')\n",
        "plt.ylabel('loss')\n",
        "plt.xlabel('epoch')\n",
        "plt.legend(['train', 'test'], loc='upper left')\n",
        "plt.show()"
      ],
      "execution_count": 22,
      "outputs": [
        {
          "output_type": "stream",
          "text": [
            "dict_keys(['loss', 'dice_coefficient', 'val_loss', 'val_dice_coefficient', 'lr'])\n"
          ],
          "name": "stdout"
        },
        {
          "output_type": "display_data",
          "data": {
            "image/png": "[encoded data removed]",
            "text/plain": [
              "<Figure size 432x288 with 1 Axes>"
            ]
          },
          "metadata": {
            "tags": []
          }
        },
        {
          "output_type": "display_data",
          "data": {
            "image/png": "[encoded data removed]",
            "text/plain": [
              "<Figure size 432x288 with 1 Axes>"
            ]
          },
          "metadata": {
            "tags": []
          }
        }
      ]
    },
    {
      "cell_type": "code",
      "metadata": {
        "id": "ku8KIa8e07EB",
        "colab_type": "code",
        "colab": {}
      },
      "source": [
        "# So from the graph it is clear that with the increase in the number of epochs the accuracy is increasing and the loss is decreasing"
      ],
      "execution_count": 0,
      "outputs": []
    },
    {
      "cell_type": "markdown",
      "metadata": {
        "colab_type": "text",
        "id": "5VtnuzlOf4uL"
      },
      "source": [
        "### Get the predicted mask for a sample image"
      ]
    },
    {
      "cell_type": "code",
      "metadata": {
        "colab_type": "code",
        "id": "o-CBCMysrchu",
        "colab": {}
      },
      "source": [
        "n = 10\n",
        "sample_image = X_train[n]\n",
        "region = model.predict(x=np.array([sample_image]))[0]"
      ],
      "execution_count": 0,
      "outputs": []
    },
    {
      "cell_type": "markdown",
      "metadata": {
        "colab_type": "text",
        "id": "fDIetz0HgA4R"
      },
      "source": [
        "### Impose the mask on the image"
      ]
    },
    {
      "cell_type": "code",
      "metadata": {
        "colab_type": "code",
        "id": "MTAHGkb5xdzu",
        "outputId": "4e286c60-0e0b-4dc5-e65c-c2cc68987c98",
        "colab": {
          "base_uri": "https://localhost:8080/",
          "height": 286
        }
      },
      "source": [
        "pyplot.imshow(region) # viewing the predicted mask"
      ],
      "execution_count": 24,
      "outputs": [
        {
          "output_type": "execute_result",
          "data": {
            "text/plain": [
              "<matplotlib.image.AxesImage at 0x7f3806085278>"
            ]
          },
          "metadata": {
            "tags": []
          },
          "execution_count": 24
        },
        {
          "output_type": "display_data",
          "data": {
            "image/png": "[encoded data removed]",
            "text/plain": [
              "<Figure size 432x288 with 1 Axes>"
            ]
          },
          "metadata": {
            "tags": []
          }
        }
      ]
    },
    {
      "cell_type": "code",
      "metadata": {
        "id": "-LKfI2keROMe",
        "colab_type": "code",
        "colab": {}
      },
      "source": [
        "sm = sample_image.copy()\n",
        "reg = region.copy()\n",
        "image = sm"
      ],
      "execution_count": 0,
      "outputs": []
    },
    {
      "cell_type": "code",
      "metadata": {
        "id": "P5qYl4YTd8tT",
        "colab_type": "code",
        "outputId": "284ca2b9-e4cf-407f-d010-a7a38b2f3575",
        "colab": {
          "base_uri": "https://localhost:8080/",
          "height": 302
        }
      },
      "source": [
        "sm[:,:,0] = reg*image[:,:,0]\n",
        "sm[:,:,1] = reg*image[:,:,1]\n",
        "sm[:,:,2] = reg*image[:,:,2]\n",
        "out_image=sm\n",
        "plt.imshow(out_image)"
      ],
      "execution_count": 26,
      "outputs": [
        {
          "output_type": "stream",
          "text": [
            "Clipping input data to the valid range for imshow with RGB data ([0..1] for floats or [0..255] for integers).\n"
          ],
          "name": "stderr"
        },
        {
          "output_type": "execute_result",
          "data": {
            "text/plain": [
              "<matplotlib.image.AxesImage at 0x7f385017bdd8>"
            ]
          },
          "metadata": {
            "tags": []
          },
          "execution_count": 26
        },
        {
          "output_type": "display_data",
          "data": {
            "image/png": "[encoded data removed]",
            "text/plain": [
              "<Figure size 432x288 with 1 Axes>"
            ]
          },
          "metadata": {
            "tags": []
          }
        }
      ]
    },
    {
      "cell_type": "markdown",
      "metadata": {
        "id": "4ZRGyR232ESN",
        "colab_type": "text"
      },
      "source": [
        "# Observation as compared to the case when trainable was True in other notebook\n",
        "\n",
        "So when trainable is made False , the lower layers get freeze for fast training but the accuracy is low. \n",
        "Hence, the image of the face that is detected in this case is little bit blurry at some places as compared to the image of the face that we get when trainable was made True in the other Notebook."
      ]
    },
    {
      "cell_type": "markdown",
      "metadata": {
        "id": "8rYKGUrySoaz",
        "colab_type": "text"
      },
      "source": [
        "**Conclusion**\n",
        "\n",
        "In this we project build a face detection model which includes building a face detector to locate the position of a face in an image. \n",
        "We performed transfer learning on Mobile Net model which is already trained to perform object detection. To be able to train the Mobile Net model for face detection, we used WIDER FACE dataset which already has the bounding box data for various images with a \n",
        "single face and multiple faces. The output of the model is the bounding box data which gives the location of the face in an image.\n",
        "\n",
        "In this project each image is an RGB image that is each image having 3 channels of pixel arrays. We have resized each images to 224 X 224 X 3 pixels and also resized the masks to 224 X 224 pixels. We followed UNET architecture for adding the layers. We choose activation function as sigmoid at the output layer. We chose dice-coefficient for measuring the accuracy of this model. We trained our model on 50 epochs and observed the graph. \n",
        "The mask when imposed on the input image gives us only the face present in the image as expected.\n"
      ]
    },
    {
      "cell_type": "code",
      "metadata": {
        "id": "PibORBHfzZl-",
        "colab_type": "code",
        "colab": {}
      },
      "source": [
        ""
      ],
      "execution_count": 0,
      "outputs": []
    }
  ]
}